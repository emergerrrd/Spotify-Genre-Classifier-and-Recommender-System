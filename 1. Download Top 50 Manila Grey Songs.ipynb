{
 "cells": [
  {
   "cell_type": "code",
   "execution_count": 139,
   "metadata": {
    "ExecuteTime": {
     "end_time": "2020-09-23T18:30:47.877350Z",
     "start_time": "2020-09-23T18:30:46.179130Z"
    }
   },
   "outputs": [],
   "source": [
    "import numpy as np\n",
    "import pandas as pd\n",
    "\n",
    "import spotipy\n",
    "from spotipy.oauth2 import SpotifyClientCredentials\n",
    "\n",
    "import keyring\n",
    "import time\n",
    "\n",
    "pd.set_option('display.max_rows', 500)\n",
    "pd.set_option('display.max_columns', 500)\n",
    "pd.set_option('display.width', 1000)"
   ]
  },
  {
   "cell_type": "markdown",
   "metadata": {},
   "source": [
    "## Setup Spotipy credentials and query wrapper"
   ]
  },
  {
   "cell_type": "code",
   "execution_count": 140,
   "metadata": {
    "ExecuteTime": {
     "end_time": "2020-09-23T18:30:47.909340Z",
     "start_time": "2020-09-23T18:30:47.877350Z"
    }
   },
   "outputs": [],
   "source": [
    "client_credentials_manager = SpotifyClientCredentials(client_id=keyring.get_password('spotify', 'cid'),\n",
    "                                                      client_secret=keyring.get_password('spotify', 'secret') )\n",
    "sp = spotipy.Spotify(client_credentials_manager = client_credentials_manager)"
   ]
  },
  {
   "cell_type": "markdown",
   "metadata": {},
   "source": [
    "## Get sample artists data"
   ]
  },
  {
   "cell_type": "code",
   "execution_count": 141,
   "metadata": {
    "ExecuteTime": {
     "end_time": "2020-09-23T18:30:48.113505Z",
     "start_time": "2020-09-23T18:30:47.929338Z"
    }
   },
   "outputs": [],
   "source": [
    "artist_list = ['Manila Grey']\n",
    "artist_id_list = ['7KC9q5wx0bxMD5ABgLCoEd']\n",
    "track_id = '4oQa2jrXd3dqbMGNC7oyqf'\n",
    "\n",
    "# artist_list = ['Flow G']\n",
    "# artist_id_list = ['3PDFGpPl4ienSn5Vwisfrh']\n",
    "\n",
    "# artist_list = ['Kiyo']\n",
    "# artist_id_list = ['6gcteR920pLEynlHzjSRYd']\n",
    "\n",
    "# artist_list = ['XXXTENTACION']\n",
    "# artist_id_list = ['15UsOTVnJzReFVN1VCnxy4']"
   ]
  },
  {
   "cell_type": "code",
   "execution_count": 142,
   "metadata": {
    "ExecuteTime": {
     "end_time": "2020-09-23T18:30:49.876271Z",
     "start_time": "2020-09-23T18:30:48.113505Z"
    }
   },
   "outputs": [],
   "source": [
    "# View sp.track output\n",
    "# sp.artist(artists[0])"
   ]
  },
  {
   "cell_type": "markdown",
   "metadata": {},
   "source": [
    "## Read consolidated spotify daily charts"
   ]
  },
  {
   "cell_type": "code",
   "execution_count": 143,
   "metadata": {
    "ExecuteTime": {
     "end_time": "2020-09-23T18:30:51.007345Z",
     "start_time": "2020-09-23T18:30:50.662512Z"
    }
   },
   "outputs": [
    {
     "output_type": "stream",
     "name": "stdout",
     "text": [
      "Adding  3SG0qa5JRxmMIee93u9E6I Urong Sulong\nAdding  2kRjoaqiyeS0Faus5wKztH Ikaw Lang\nAdding  0DCzMvkONMvWDiOtVzyRUX Dear Breeze\nAdding  1HDqBV6gWeqFStJHLmPjh4 ふたりの夏物語 NEVER ENDING SUMMER\nAdding  4Fi00h3wo3P8gmhAHT1qX4 Bang! (feat. Hayley Kiyoko) - AhhHaa Remix\nAdding  1UcrhQg0HiRmlOHhIkEFQR Nandito Na\nAdding  7tQ2P3dP76bj1aSEfe8StO Dantay\nAdding  44Iv2pSC8nb5lXqJK37GxM Polaroid\nAdding  3JNfGfLZMYZtXpL7q4zU0Z Urong Sulong - Band Version\nAdding  53KBJe90rbY3NDa8UMjl8G G\nAdding  22p7tgi6cFVBaH7vAbgcUY River's Island\nAdding  4RvJ5sXFvWt8n9HHt7yBRD Summer Suspicion\nAdding  6PMobmlh8yrpEjFjioPFGy Kiyomizu-Dera\nAdding  5Apf3vHBoTfRBTRhrndVXO Midnight Down Town\nAdding  7oFpSsfjl8ElUesHJPT8Cv Missed Calls (feat. Hayley Kiyoko)\nAdding  0Fak0BCePEYQzfApLLKPIc Pantalan, Pt. 1\nAdding  3dNjUFt6EFU4Gq6Q5vfJqf Girls Like Girls\nAdding  6aYRLFKPuIt399nJdro93G Scramble Cross\nAdding  6GbgHcskEO8vk9Rlrw908V ガラスのPALM TREE\nAdding  3YdrHVyjuChT3koerYnC80 Iskripted\nAdding  38LrhW3eQSt3cK88dkvl5e Misty Night Cruising\nAdding  5QVIt5N6Rg7fJHrwUt55Zo ガラスのPALM TREE\nAdding  30wNRf3NQ1PpJiZ2lzleeB 夕凪通信\nAdding  2jsbLRAHKu0FCZcbySednM Futari No Natsu Monogatari Never Ending Summer\nAdding  1Hfjy5mfIUsBLBBf4eqBnO Riverside Hotel\nAdding  5nFyaoBWwwMJ9fv33tZ2MB What I Need (feat. Kehlani)\nAdding  7q6byR5f3eD2K6ng0vFbB4 君のハートはマリンブルー\nAdding  2DvARbFWQf58QVBlSekJxm Missed Calls (feat. Hayley Kiyoko) - Party Pupils Remix\nAdding  5PNbUaIYAbm7clBZeU7oeQ Misty Night Cruising\nAdding  70kYUoJbY7GMih4542i7mV Ai No Shinkiro\nAdding  4qEoqyPbLYnLOii6mKlIjI Determinate - From \"Lemonade Mouth\"\nAdding  0Y5nfKx3OnZWPIO0vHbinL Demons\nAdding  5btaVjrLBxTvXNmCv5DrW2 Curious\nAdding  0WqqFajBwA3tpRZ66kRomu Sleepover\nAdding  6PHTT4XSp2Mqqr1C9dvbPP Missed Calls (feat. Hayley Kiyoko)\nAdding  6rReKrolZgh6rv97SVSxPE I Wish\nAdding  27DxZkqTR2SHZTTfMRpUvW Feelings\nAdding  5795tkQ1pTLZ2D3jctqhdQ More Than a Band\nAdding  4bb2UdCvi9LynD4rWvE06T Turn Up the Music\nAdding  5Q7Z26cX90eA14VaVg3xtB Cliffs Edge\nAdding  7eAWmk6IDva2iA0q2Wx9Lv Breakthrough\nAdding  55kn1i0n1mUWiEB6LZrTYe Pretty Girl\nAdding  3wqPinf9whHeT7y9EApaPM Wanna Be Missed\nAdding  0xLijfL3DEW7eAiPB2xxFj Gravel to Tempo\nAdding  03PM8jkLPwI6cDcZBvwCSL He'll Never Love You (HNLY)\nAdding  5gjdP0j7p1mJYGMSOVDlH3 L.O.V.E. Me\nAdding  2GYOC7EBfXulEeezqHzhfZ Here We Go\nAdding  46PIPQSUEmFqLQyq3r4QS4 Palace\nAdding  181uk7o0ajEG8F1HYrqbxu Let It Be\nAdding  4BE7L7XB1I7X8v4imHVhoG She\n{'3SG0qa5JRxmMIee93u9E6I': 'Urong Sulong', '2kRjoaqiyeS0Faus5wKztH': 'Ikaw Lang', '0DCzMvkONMvWDiOtVzyRUX': 'Dear Breeze', '1HDqBV6gWeqFStJHLmPjh4': 'ふたりの夏物語 NEVER ENDING SUMMER', '4Fi00h3wo3P8gmhAHT1qX4': 'Bang! (feat. Hayley Kiyoko) - AhhHaa Remix', '1UcrhQg0HiRmlOHhIkEFQR': 'Nandito Na', '7tQ2P3dP76bj1aSEfe8StO': 'Dantay', '44Iv2pSC8nb5lXqJK37GxM': 'Polaroid', '3JNfGfLZMYZtXpL7q4zU0Z': 'Urong Sulong - Band Version', '53KBJe90rbY3NDa8UMjl8G': 'G', '22p7tgi6cFVBaH7vAbgcUY': \"River's Island\", '4RvJ5sXFvWt8n9HHt7yBRD': 'Summer Suspicion', '6PMobmlh8yrpEjFjioPFGy': 'Kiyomizu-Dera', '5Apf3vHBoTfRBTRhrndVXO': 'Midnight Down Town', '7oFpSsfjl8ElUesHJPT8Cv': 'Missed Calls (feat. Hayley Kiyoko)', '0Fak0BCePEYQzfApLLKPIc': 'Pantalan, Pt. 1', '3dNjUFt6EFU4Gq6Q5vfJqf': 'Girls Like Girls', '6aYRLFKPuIt399nJdro93G': 'Scramble Cross', '6GbgHcskEO8vk9Rlrw908V': 'ガラスのPALM TREE', '3YdrHVyjuChT3koerYnC80': 'Iskripted', '38LrhW3eQSt3cK88dkvl5e': 'Misty Night Cruising', '5QVIt5N6Rg7fJHrwUt55Zo': 'ガラスのPALM TREE', '30wNRf3NQ1PpJiZ2lzleeB': '夕凪通信', '2jsbLRAHKu0FCZcbySednM': 'Futari No Natsu Monogatari Never Ending Summer', '1Hfjy5mfIUsBLBBf4eqBnO': 'Riverside Hotel', '5nFyaoBWwwMJ9fv33tZ2MB': 'What I Need (feat. Kehlani)', '7q6byR5f3eD2K6ng0vFbB4': '君のハートはマリンブルー', '2DvARbFWQf58QVBlSekJxm': 'Missed Calls (feat. Hayley Kiyoko) - Party Pupils Remix', '5PNbUaIYAbm7clBZeU7oeQ': 'Misty Night Cruising', '70kYUoJbY7GMih4542i7mV': 'Ai No Shinkiro', '4qEoqyPbLYnLOii6mKlIjI': 'Determinate - From \"Lemonade Mouth\"', '0Y5nfKx3OnZWPIO0vHbinL': 'Demons', '5btaVjrLBxTvXNmCv5DrW2': 'Curious', '0WqqFajBwA3tpRZ66kRom': 'Sleepover', '6PHTT4XSp2Mqqr1C9dvbPP': 'Missed Calls (feat. Hayley Kiyoko)', '6rReKrolZgh6rv97SVSxPE': 'I Wish', '27DxZkqTR2SHZTTfMRpUvW': 'Feelings', '5795tkQ1pTLZ2D3jctqhdQ': 'More Than a Band', '4bb2UdCvi9LynD4rWvE06T': 'Turn Up the Music', '5Q7Z26cX90eA14VaVg3xtB': 'Cliffs Edge', '7eAWmk6IDva2iA0q2Wx9Lv': 'Breakthrough', '55kn1i0n1mUWiEB6LZrTYe': 'Pretty Girl', '3wqPinf9whHeT7y9EApaPM': 'Wanna Be Missed', '0xLijfL3DEW7eAiPB2xxFj': 'Gravel to Tempo', '03PM8jkLPwI6cDcZBvwCSL': \"He'll Never Love You (HNLY)\", '5gjdP0j7p1mJYGMSOVDlH3': 'L.O.V.E. Me', '2GYOC7EBfXulEeezqHzhfZ': 'Here We Go', '46PIPQSUEmFqLQyq3r4QS4': 'Palace', '181uk7o0ajEG8F1HYrqbx': 'Let It Be', '4BE7L7XB1I7X8v4imHVhoG': 'She'}\n"
     ]
    }
   ],
   "source": [
    "index = 0\n",
    "track_list = []\n",
    "track_dict = {}\n",
    "# track_list = ['4oQa2jrXd3dqbMGNC7oyqf','612k0JGUvwPwfXoldaEqs8','51C5DGEFEGVxvwdI4HHcHf','3SftRVoGzAfsD0zk6bOB02','4JqgJSyI4kg8M0RYOPk8wL']           \n",
    "\n",
    "for x in range(0,len(artist_list)):\n",
    "    results = sp.search(q=str(artist_list[x]), limit=50)\n",
    "    for i, t in enumerate(results['tracks']['items']):\n",
    "        track_list.append(str(t['id'].strip( 'u' )))\n",
    "        track_dict[str(t['id'].strip( 'u' ))] = t['name']\n",
    "        print(\"Adding \",t['id'],t['name'])\n",
    "\n",
    "print(track_dict)"
   ]
  },
  {
   "cell_type": "code",
   "execution_count": 144,
   "metadata": {},
   "outputs": [
    {
     "output_type": "execute_result",
     "data": {
      "text/plain": [
       "                 track_id                                  track_name\n",
       "0  3SG0qa5JRxmMIee93u9E6I                                Urong Sulong\n",
       "1  2kRjoaqiyeS0Faus5wKztH                                   Ikaw Lang\n",
       "2  0DCzMvkONMvWDiOtVzyRUX                                 Dear Breeze\n",
       "3  1HDqBV6gWeqFStJHLmPjh4                 ふたりの夏物語 NEVER ENDING SUMMER\n",
       "4  4Fi00h3wo3P8gmhAHT1qX4  Bang! (feat. Hayley Kiyoko) - AhhHaa Remix"
      ],
      "text/html": "<div>\n<style scoped>\n    .dataframe tbody tr th:only-of-type {\n        vertical-align: middle;\n    }\n\n    .dataframe tbody tr th {\n        vertical-align: top;\n    }\n\n    .dataframe thead th {\n        text-align: right;\n    }\n</style>\n<table border=\"1\" class=\"dataframe\">\n  <thead>\n    <tr style=\"text-align: right;\">\n      <th></th>\n      <th>track_id</th>\n      <th>track_name</th>\n    </tr>\n  </thead>\n  <tbody>\n    <tr>\n      <th>0</th>\n      <td>3SG0qa5JRxmMIee93u9E6I</td>\n      <td>Urong Sulong</td>\n    </tr>\n    <tr>\n      <th>1</th>\n      <td>2kRjoaqiyeS0Faus5wKztH</td>\n      <td>Ikaw Lang</td>\n    </tr>\n    <tr>\n      <th>2</th>\n      <td>0DCzMvkONMvWDiOtVzyRUX</td>\n      <td>Dear Breeze</td>\n    </tr>\n    <tr>\n      <th>3</th>\n      <td>1HDqBV6gWeqFStJHLmPjh4</td>\n      <td>ふたりの夏物語 NEVER ENDING SUMMER</td>\n    </tr>\n    <tr>\n      <th>4</th>\n      <td>4Fi00h3wo3P8gmhAHT1qX4</td>\n      <td>Bang! (feat. Hayley Kiyoko) - AhhHaa Remix</td>\n    </tr>\n  </tbody>\n</table>\n</div>"
     },
     "metadata": {},
     "execution_count": 144
    }
   ],
   "source": [
    "track_df = pd.DataFrame([track_dict]).T\n",
    "track_df = track_df.reset_index()\n",
    "track_df.columns = ['track_id', 'track_name']\n",
    "track_df.head()"
   ]
  },
  {
   "cell_type": "markdown",
   "metadata": {},
   "source": [
    "## Get data of unique tracks in charts "
   ]
  },
  {
   "cell_type": "code",
   "execution_count": 145,
   "metadata": {
    "ExecuteTime": {
     "end_time": "2020-09-23T18:30:51.079610Z",
     "start_time": "2020-09-23T18:30:51.011346Z"
    }
   },
   "outputs": [],
   "source": [
    "def get_track_data(t_id):                    \n",
    "    track_data = sp.track(t_id)\n",
    "    track_features = sp.audio_features(t_id)\n",
    "    \n",
    "    #get only main(first) artist\n",
    "    td_list = [t_id,\\\n",
    "               track_data['name'],\\\n",
    "               track_data['artists'][0]['id'],\\\n",
    "               track_data['artists'][0]['name'],\\\n",
    "               track_data['album']['uri'].split(\":\")[2],\\\n",
    "               track_data['duration_ms'],\\\n",
    "               track_data['album']['release_date'],\\\n",
    "               track_data['popularity']]\n",
    "    data = pd.DataFrame([td_list], columns = ['track_id','track_name','artist_id','artist_name','album_id','duration','release_date','popularity'])\n",
    "\n",
    "    relevant_cols = ['danceability', 'energy', 'key', 'loudness', 'mode',\\\n",
    "                     'speechiness', 'acousticness', 'instrumentalness', 'liveness', 'valence', 'tempo']  \n",
    "    \n",
    "    tf_data = pd.DataFrame(track_features)\n",
    "    tf_data = tf_data[relevant_cols]\n",
    "    \n",
    "    data = pd.concat([data, tf_data], axis=1)\n",
    "    return data\n"
   ]
  },
  {
   "cell_type": "code",
   "execution_count": 146,
   "metadata": {
    "ExecuteTime": {
     "end_time": "2020-09-23T18:30:52.007834Z",
     "start_time": "2020-09-23T18:30:51.083610Z"
    }
   },
   "outputs": [],
   "source": [
    "# get_track_data(track_id)"
   ]
  },
  {
   "cell_type": "code",
   "execution_count": 147,
   "metadata": {
    "ExecuteTime": {
     "end_time": "2020-09-24T15:04:24.287863Z",
     "start_time": "2020-09-24T14:20:23.853571Z"
    },
    "scrolled": true,
    "tags": []
   },
   "outputs": [
    {
     "output_type": "stream",
     "name": "stdout",
     "text": [
      "[1/50] Fetching track data for 0    Urong Sulong\n",
      "Name: track_name, dtype: object...  done!\n",
      "[2/50] Fetching track data for 1    Ikaw Lang\n",
      "Name: track_name, dtype: object...  done!\n",
      "[3/50] Fetching track data for 2    Dear Breeze\n",
      "Name: track_name, dtype: object...  done!\n",
      "[4/50] Fetching track data for 3    ふたりの夏物語 NEVER ENDING SUMMER\n",
      "Name: track_name, dtype: object...  done!\n",
      "[5/50] Fetching track data for 4    Bang! (feat. Hayley Kiyoko) - AhhHaa Remix\n",
      "Name: track_name, dtype: object...  done!\n",
      "[6/50] Fetching track data for 5    Nandito Na\n",
      "Name: track_name, dtype: object...  done!\n",
      "[7/50] Fetching track data for 6    Dantay\n",
      "Name: track_name, dtype: object...  done!\n",
      "[8/50] Fetching track data for 7    Polaroid\n",
      "Name: track_name, dtype: object...  done!\n",
      "[9/50] Fetching track data for 8    Urong Sulong - Band Version\n",
      "Name: track_name, dtype: object...  done!\n",
      "[10/50] Fetching track data for 9    G\n",
      "Name: track_name, dtype: object...  done!\n",
      "[11/50] Fetching track data for 10    River's Island\n",
      "Name: track_name, dtype: object...  done!\n",
      "[12/50] Fetching track data for 11    Summer Suspicion\n",
      "Name: track_name, dtype: object...  done!\n",
      "[13/50] Fetching track data for 12    Kiyomizu-Dera\n",
      "Name: track_name, dtype: object...  done!\n",
      "[14/50] Fetching track data for 13    Midnight Down Town\n",
      "Name: track_name, dtype: object...  done!\n",
      "[15/50] Fetching track data for 14    Missed Calls (feat. Hayley Kiyoko)\n",
      "Name: track_name, dtype: object...  done!\n",
      "[16/50] Fetching track data for 15    Pantalan, Pt. 1\n",
      "Name: track_name, dtype: object...  done!\n",
      "[17/50] Fetching track data for 16    Girls Like Girls\n",
      "Name: track_name, dtype: object...  done!\n",
      "[18/50] Fetching track data for 17    Scramble Cross\n",
      "Name: track_name, dtype: object...  done!\n",
      "[19/50] Fetching track data for 18    ガラスのPALM TREE\n",
      "Name: track_name, dtype: object...  done!\n",
      "[20/50] Fetching track data for 19    Iskripted\n",
      "Name: track_name, dtype: object...  done!\n",
      "[21/50] Fetching track data for 20    Misty Night Cruising\n",
      "Name: track_name, dtype: object...  done!\n",
      "[22/50] Fetching track data for 21    ガラスのPALM TREE\n",
      "Name: track_name, dtype: object...  done!\n",
      "[23/50] Fetching track data for 22    夕凪通信\n",
      "Name: track_name, dtype: object...  done!\n",
      "[24/50] Fetching track data for 23    Futari No Natsu Monogatari Never Ending Summer\n",
      "Name: track_name, dtype: object...  done!\n",
      "[25/50] Fetching track data for 24    Riverside Hotel\n",
      "Name: track_name, dtype: object...  done!\n",
      "[26/50] Fetching track data for 25    What I Need (feat. Kehlani)\n",
      "Name: track_name, dtype: object...  done!\n",
      "[27/50] Fetching track data for 26    君のハートはマリンブルー\n",
      "Name: track_name, dtype: object...  done!\n",
      "[28/50] Fetching track data for 27    Missed Calls (feat. Hayley Kiyoko) - Party Pup...\n",
      "Name: track_name, dtype: object...  done!\n",
      "[29/50] Fetching track data for 28    Misty Night Cruising\n",
      "Name: track_name, dtype: object...  done!\n",
      "[30/50] Fetching track data for 29    Ai No Shinkiro\n",
      "Name: track_name, dtype: object...  done!\n",
      "[31/50] Fetching track data for 30    Determinate - From \"Lemonade Mouth\"\n",
      "Name: track_name, dtype: object...  done!\n",
      "[32/50] Fetching track data for 31    Demons\n",
      "Name: track_name, dtype: object...  done!\n",
      "[33/50] Fetching track data for 32    Curious\n",
      "Name: track_name, dtype: object...  HTTP Error for GET to https://api.spotify.com/v1/tracks/0WqqFajBwA3tpRZ66kRom returned 400 due to invalid id\n",
      "done!\n",
      "[34/50] Fetching track data for 33    Sleepover\n",
      "Name: track_name, dtype: object...  [34/50] Failed to fetch 33    Sleepover\n",
      "Name: track_name, dtype: object...  [35/50] Fetching track data for 34    Missed Calls (feat. Hayley Kiyoko)\n",
      "Name: track_name, dtype: object...  done!\n",
      "[36/50] Fetching track data for 35    I Wish\n",
      "Name: track_name, dtype: object...  done!\n",
      "[37/50] Fetching track data for 36    Feelings\n",
      "Name: track_name, dtype: object...  done!\n",
      "[38/50] Fetching track data for 37    More Than a Band\n",
      "Name: track_name, dtype: object...  done!\n",
      "[39/50] Fetching track data for 38    Turn Up the Music\n",
      "Name: track_name, dtype: object...  done!\n",
      "[40/50] Fetching track data for 39    Cliffs Edge\n",
      "Name: track_name, dtype: object...  done!\n",
      "[41/50] Fetching track data for 40    Breakthrough\n",
      "Name: track_name, dtype: object...  done!\n",
      "[42/50] Fetching track data for 41    Pretty Girl\n",
      "Name: track_name, dtype: object...  done!\n",
      "[43/50] Fetching track data for 42    Wanna Be Missed\n",
      "Name: track_name, dtype: object...  done!\n",
      "[44/50] Fetching track data for 43    Gravel to Tempo\n",
      "Name: track_name, dtype: object...  done!\n",
      "[45/50] Fetching track data for 44    He'll Never Love You (HNLY)\n",
      "Name: track_name, dtype: object...  done!\n",
      "[46/50] Fetching track data for 45    L.O.V.E. Me\n",
      "Name: track_name, dtype: object...  done!\n",
      "[47/50] Fetching track data for 46    Here We Go\n",
      "Name: track_name, dtype: object...  done!\n",
      "[48/50] Fetching track data for 47    Palace\n",
      "Name: track_name, dtype: object...  HTTP Error for GET to https://api.spotify.com/v1/tracks/181uk7o0ajEG8F1HYrqbx returned 400 due to invalid id\n",
      "done!\n",
      "[49/50] Fetching track data for 48    Let It Be\n",
      "Name: track_name, dtype: object...  [49/50] Failed to fetch 48    Let It Be\n",
      "Name: track_name, dtype: object...  [50/50] Fetching track data for 49    She\n",
      "Name: track_name, dtype: object...  done!\n"
     ]
    }
   ],
   "source": [
    "df_list=[]\n",
    "\n",
    "for i,track_id in enumerate(track_list):\n",
    "    print('[%d/%d] Fetching track data for %s... ' % \n",
    "            (i+1,len(track_list),track_df[track_df['track_id']==track_id]['track_name']), end = \" \") \n",
    "    try:\n",
    "        track_data = get_track_data(track_id) \n",
    "        df_list.append(track_data)\n",
    "        print('done!')\n",
    "    except:\n",
    "        print('[%d/%d] Failed to fetch %s... ' % \n",
    "            (i+1,len(track_list),track_df[track_df['track_id']==track_id]['track_name']), end = \" \") \n",
    "    \n",
    "    #sleep for 100 secs per 100 requests to avoid being blocked\n",
    "    if (i % 100 == 0)&(i > 0):\n",
    "        time.sleep(5)"
   ]
  },
  {
   "cell_type": "code",
   "execution_count": 148,
   "metadata": {
    "ExecuteTime": {
     "end_time": "2020-09-24T15:04:42.769290Z",
     "start_time": "2020-09-24T15:04:24.351826Z"
    }
   },
   "outputs": [
    {
     "output_type": "execute_result",
     "data": {
      "text/plain": [
       "                 track_id       track_name               artist_id artist_name                album_id  duration release_date  popularity  danceability  energy  key  loudness  mode  speechiness  acousticness  instrumentalness  liveness  valence   tempo\n",
       "0  2kRjoaqiyeS0Faus5wKztH        Ikaw Lang  6gcteR920pLEynlHzjSRYd        Kiyo  3EMkSD7V6DOoEAwk9pnOfa    241658   2019-05-10          61         0.705   0.499    7    -8.554     1       0.0714         0.317          0.000016    0.1310    0.500  79.992\n",
       "0  1UcrhQg0HiRmlOHhIkEFQR       Nandito Na  6gcteR920pLEynlHzjSRYd        Kiyo  52iwum3yPBYLWiZQMqxIU9    213681   2020-04-20          55         0.650   0.220    4   -16.590     1       0.1660         0.835          0.056800    0.1330    0.332  82.005\n",
       "0  7tQ2P3dP76bj1aSEfe8StO           Dantay  6gcteR920pLEynlHzjSRYd        Kiyo  02qNpe3vtTVHzGytclgmWe    292414   2020-02-14          54         0.386   0.360    2   -16.437     1       0.3150         0.812          0.001950    0.0936    0.141  71.576\n",
       "0  53KBJe90rbY3NDa8UMjl8G                G  6gcteR920pLEynlHzjSRYd        Kiyo  7G4Cmxnxt1cSBLXphFEE8m    289567   2019-01-03          52         0.554   0.619    2    -9.260     0       0.1200         0.499          0.000133    0.0865    0.260  82.971\n",
       "0  0Fak0BCePEYQzfApLLKPIc  Pantalan, Pt. 1  6gcteR920pLEynlHzjSRYd        Kiyo  4556ESN6fyzN3mLRq3qr8j    270602   2019-08-10          50         0.649   0.517   10   -11.934     1       0.2550         0.653          0.000000    0.0922    0.607  89.766"
      ],
      "text/html": "<div>\n<style scoped>\n    .dataframe tbody tr th:only-of-type {\n        vertical-align: middle;\n    }\n\n    .dataframe tbody tr th {\n        vertical-align: top;\n    }\n\n    .dataframe thead th {\n        text-align: right;\n    }\n</style>\n<table border=\"1\" class=\"dataframe\">\n  <thead>\n    <tr style=\"text-align: right;\">\n      <th></th>\n      <th>track_id</th>\n      <th>track_name</th>\n      <th>artist_id</th>\n      <th>artist_name</th>\n      <th>album_id</th>\n      <th>duration</th>\n      <th>release_date</th>\n      <th>popularity</th>\n      <th>danceability</th>\n      <th>energy</th>\n      <th>key</th>\n      <th>loudness</th>\n      <th>mode</th>\n      <th>speechiness</th>\n      <th>acousticness</th>\n      <th>instrumentalness</th>\n      <th>liveness</th>\n      <th>valence</th>\n      <th>tempo</th>\n    </tr>\n  </thead>\n  <tbody>\n    <tr>\n      <th>0</th>\n      <td>2kRjoaqiyeS0Faus5wKztH</td>\n      <td>Ikaw Lang</td>\n      <td>6gcteR920pLEynlHzjSRYd</td>\n      <td>Kiyo</td>\n      <td>3EMkSD7V6DOoEAwk9pnOfa</td>\n      <td>241658</td>\n      <td>2019-05-10</td>\n      <td>61</td>\n      <td>0.705</td>\n      <td>0.499</td>\n      <td>7</td>\n      <td>-8.554</td>\n      <td>1</td>\n      <td>0.0714</td>\n      <td>0.317</td>\n      <td>0.000016</td>\n      <td>0.1310</td>\n      <td>0.500</td>\n      <td>79.992</td>\n    </tr>\n    <tr>\n      <th>0</th>\n      <td>1UcrhQg0HiRmlOHhIkEFQR</td>\n      <td>Nandito Na</td>\n      <td>6gcteR920pLEynlHzjSRYd</td>\n      <td>Kiyo</td>\n      <td>52iwum3yPBYLWiZQMqxIU9</td>\n      <td>213681</td>\n      <td>2020-04-20</td>\n      <td>55</td>\n      <td>0.650</td>\n      <td>0.220</td>\n      <td>4</td>\n      <td>-16.590</td>\n      <td>1</td>\n      <td>0.1660</td>\n      <td>0.835</td>\n      <td>0.056800</td>\n      <td>0.1330</td>\n      <td>0.332</td>\n      <td>82.005</td>\n    </tr>\n    <tr>\n      <th>0</th>\n      <td>7tQ2P3dP76bj1aSEfe8StO</td>\n      <td>Dantay</td>\n      <td>6gcteR920pLEynlHzjSRYd</td>\n      <td>Kiyo</td>\n      <td>02qNpe3vtTVHzGytclgmWe</td>\n      <td>292414</td>\n      <td>2020-02-14</td>\n      <td>54</td>\n      <td>0.386</td>\n      <td>0.360</td>\n      <td>2</td>\n      <td>-16.437</td>\n      <td>1</td>\n      <td>0.3150</td>\n      <td>0.812</td>\n      <td>0.001950</td>\n      <td>0.0936</td>\n      <td>0.141</td>\n      <td>71.576</td>\n    </tr>\n    <tr>\n      <th>0</th>\n      <td>53KBJe90rbY3NDa8UMjl8G</td>\n      <td>G</td>\n      <td>6gcteR920pLEynlHzjSRYd</td>\n      <td>Kiyo</td>\n      <td>7G4Cmxnxt1cSBLXphFEE8m</td>\n      <td>289567</td>\n      <td>2019-01-03</td>\n      <td>52</td>\n      <td>0.554</td>\n      <td>0.619</td>\n      <td>2</td>\n      <td>-9.260</td>\n      <td>0</td>\n      <td>0.1200</td>\n      <td>0.499</td>\n      <td>0.000133</td>\n      <td>0.0865</td>\n      <td>0.260</td>\n      <td>82.971</td>\n    </tr>\n    <tr>\n      <th>0</th>\n      <td>0Fak0BCePEYQzfApLLKPIc</td>\n      <td>Pantalan, Pt. 1</td>\n      <td>6gcteR920pLEynlHzjSRYd</td>\n      <td>Kiyo</td>\n      <td>4556ESN6fyzN3mLRq3qr8j</td>\n      <td>270602</td>\n      <td>2019-08-10</td>\n      <td>50</td>\n      <td>0.649</td>\n      <td>0.517</td>\n      <td>10</td>\n      <td>-11.934</td>\n      <td>1</td>\n      <td>0.2550</td>\n      <td>0.653</td>\n      <td>0.000000</td>\n      <td>0.0922</td>\n      <td>0.607</td>\n      <td>89.766</td>\n    </tr>\n  </tbody>\n</table>\n</div>"
     },
     "metadata": {},
     "execution_count": 148
    }
   ],
   "source": [
    "tracks_data_df = pd.concat(df_list)\n",
    "tracks_data_df = tracks_data_df[tracks_data_df['artist_id'].isin(artist_id_list)]\n",
    "tracks_data_df.head()"
   ]
  },
  {
   "cell_type": "code",
   "execution_count": 149,
   "metadata": {
    "ExecuteTime": {
     "end_time": "2020-09-24T15:04:43.459894Z",
     "start_time": "2020-09-24T15:04:42.772288Z"
    }
   },
   "outputs": [],
   "source": [
    "# tracks_data_df.to_csv('data/seed_tracks_flow_g.csv', index=False, encoding='utf-8')"
   ]
  },
  {
   "cell_type": "code",
   "execution_count": 150,
   "metadata": {
    "ExecuteTime": {
     "end_time": "2020-09-24T15:04:48.679906Z",
     "start_time": "2020-09-24T15:04:43.463892Z"
    }
   },
   "outputs": [],
   "source": [
    "# tracks_data_df.describe()"
   ]
  },
  {
   "cell_type": "markdown",
   "metadata": {},
   "source": [
    "## Get data of unique artists in charts "
   ]
  },
  {
   "cell_type": "code",
   "execution_count": 151,
   "metadata": {},
   "outputs": [
    {
     "output_type": "execute_result",
     "data": {
      "text/plain": [
       "                artist_id artist_name\n",
       "0  6gcteR920pLEynlHzjSRYd        Kiyo"
      ],
      "text/html": "<div>\n<style scoped>\n    .dataframe tbody tr th:only-of-type {\n        vertical-align: middle;\n    }\n\n    .dataframe tbody tr th {\n        vertical-align: top;\n    }\n\n    .dataframe thead th {\n        text-align: right;\n    }\n</style>\n<table border=\"1\" class=\"dataframe\">\n  <thead>\n    <tr style=\"text-align: right;\">\n      <th></th>\n      <th>artist_id</th>\n      <th>artist_name</th>\n    </tr>\n  </thead>\n  <tbody>\n    <tr>\n      <th>0</th>\n      <td>6gcteR920pLEynlHzjSRYd</td>\n      <td>Kiyo</td>\n    </tr>\n  </tbody>\n</table>\n</div>"
     },
     "metadata": {},
     "execution_count": 151
    }
   ],
   "source": [
    "artist_df = tracks_data_df[['artist_id','artist_name']].drop_duplicates()\n",
    "artist_df.head()"
   ]
  },
  {
   "cell_type": "code",
   "execution_count": 152,
   "metadata": {
    "ExecuteTime": {
     "end_time": "2020-09-24T15:08:05.394374Z",
     "start_time": "2020-09-24T15:08:05.298430Z"
    }
   },
   "outputs": [],
   "source": [
    "def get_artist_data(a_id):\n",
    "       \n",
    "    artist_data = sp.artist(a_id)\n",
    "\n",
    "    ad_list = [a_id,\\\n",
    "               artist_data['name'],\\\n",
    "               artist_data['followers']['total'],\\\n",
    "               artist_data['genres'],\\\n",
    "               artist_data['popularity']]\n",
    "    data = pd.DataFrame([ad_list], columns = ['artist_id','artist_name','total_followers','genres','popularity'])\n",
    "\n",
    "    return data"
   ]
  },
  {
   "cell_type": "code",
   "execution_count": 153,
   "metadata": {
    "ExecuteTime": {
     "end_time": "2020-09-24T15:08:06.011022Z",
     "start_time": "2020-09-24T15:08:05.835122Z"
    }
   },
   "outputs": [
    {
     "output_type": "execute_result",
     "data": {
      "text/plain": [
       "                artist_id artist_name  total_followers                                     genres  popularity\n",
       "0  6gcteR920pLEynlHzjSRYd        Kiyo           127797  [pinoy hip hop, pinoy indie, tagalog rap]          59"
      ],
      "text/html": "<div>\n<style scoped>\n    .dataframe tbody tr th:only-of-type {\n        vertical-align: middle;\n    }\n\n    .dataframe tbody tr th {\n        vertical-align: top;\n    }\n\n    .dataframe thead th {\n        text-align: right;\n    }\n</style>\n<table border=\"1\" class=\"dataframe\">\n  <thead>\n    <tr style=\"text-align: right;\">\n      <th></th>\n      <th>artist_id</th>\n      <th>artist_name</th>\n      <th>total_followers</th>\n      <th>genres</th>\n      <th>popularity</th>\n    </tr>\n  </thead>\n  <tbody>\n    <tr>\n      <th>0</th>\n      <td>6gcteR920pLEynlHzjSRYd</td>\n      <td>Kiyo</td>\n      <td>127797</td>\n      <td>[pinoy hip hop, pinoy indie, tagalog rap]</td>\n      <td>59</td>\n    </tr>\n  </tbody>\n</table>\n</div>"
     },
     "metadata": {},
     "execution_count": 153
    }
   ],
   "source": [
    "get_artist_data(artist_id_list[0])"
   ]
  },
  {
   "cell_type": "code",
   "execution_count": 154,
   "metadata": {
    "ExecuteTime": {
     "end_time": "2020-09-24T15:22:47.614562Z",
     "start_time": "2020-09-24T15:11:57.512585Z"
    },
    "tags": []
   },
   "outputs": [
    {
     "output_type": "stream",
     "name": "stdout",
     "text": [
      "[1/1] Fetching artist data for Kiyo...  done!\n"
     ]
    }
   ],
   "source": [
    "artist_list = artist_df['artist_id'].values\n",
    "df_list=[]\n",
    "\n",
    "for i,artist_id in enumerate(artist_list):\n",
    "    print('[%d/%d] Fetching artist data for %s... ' % \n",
    "          (i+1,len(artist_list),artist_df[artist_df['artist_id']==artist_id]['artist_name'].values[0]), end = \" \") \n",
    "    artist_data = get_artist_data(artist_id) \n",
    "    df_list.append(artist_data)\n",
    "    print('done!')\n",
    "    \n",
    "    #sleep for 100 secs per 100 requests to avoid being blocked\n",
    "    if (i % 100 == 0)& (i > 0):\n",
    "        time.sleep(5)   "
   ]
  },
  {
   "cell_type": "code",
   "execution_count": 155,
   "metadata": {
    "ExecuteTime": {
     "end_time": "2020-09-24T15:27:03.428222Z",
     "start_time": "2020-09-24T15:27:02.730619Z"
    },
    "scrolled": true
   },
   "outputs": [
    {
     "output_type": "execute_result",
     "data": {
      "text/plain": [
       "                artist_id artist_name  total_followers                                     genres  popularity\n",
       "0  6gcteR920pLEynlHzjSRYd        Kiyo           127797  [pinoy hip hop, pinoy indie, tagalog rap]          59"
      ],
      "text/html": "<div>\n<style scoped>\n    .dataframe tbody tr th:only-of-type {\n        vertical-align: middle;\n    }\n\n    .dataframe tbody tr th {\n        vertical-align: top;\n    }\n\n    .dataframe thead th {\n        text-align: right;\n    }\n</style>\n<table border=\"1\" class=\"dataframe\">\n  <thead>\n    <tr style=\"text-align: right;\">\n      <th></th>\n      <th>artist_id</th>\n      <th>artist_name</th>\n      <th>total_followers</th>\n      <th>genres</th>\n      <th>popularity</th>\n    </tr>\n  </thead>\n  <tbody>\n    <tr>\n      <th>0</th>\n      <td>6gcteR920pLEynlHzjSRYd</td>\n      <td>Kiyo</td>\n      <td>127797</td>\n      <td>[pinoy hip hop, pinoy indie, tagalog rap]</td>\n      <td>59</td>\n    </tr>\n  </tbody>\n</table>\n</div>"
     },
     "metadata": {},
     "execution_count": 155
    }
   ],
   "source": [
    "artist_data_df = pd.concat(df_list)\n",
    "artist_data_df"
   ]
  },
  {
   "cell_type": "code",
   "execution_count": 156,
   "metadata": {
    "ExecuteTime": {
     "end_time": "2020-09-24T15:22:48.996773Z",
     "start_time": "2020-09-24T15:22:48.971785Z"
    }
   },
   "outputs": [],
   "source": [
    "# artist_data_df.to_csv('data/seed_artists.csv', index=False, encoding='utf-8')"
   ]
  },
  {
   "source": [
    "## Merge track and artist data"
   ],
   "cell_type": "markdown",
   "metadata": {}
  },
  {
   "cell_type": "code",
   "execution_count": 157,
   "metadata": {},
   "outputs": [
    {
     "output_type": "execute_result",
     "data": {
      "text/plain": [
       "                 track_id  track_name               artist_id artist_name                album_id  duration release_date  track_popularity  danceability  energy  key  loudness  mode  speechiness  acousticness  instrumentalness  liveness  valence   tempo  total_followers                                     genres  artist_popularity\n",
       "0  2kRjoaqiyeS0Faus5wKztH   Ikaw Lang  6gcteR920pLEynlHzjSRYd        Kiyo  3EMkSD7V6DOoEAwk9pnOfa    241658   2019-05-10                61         0.705   0.499    7    -8.554     1       0.0714         0.317          0.000016    0.1310    0.500  79.992           127797  [pinoy hip hop, pinoy indie, tagalog rap]                 59\n",
       "1  1UcrhQg0HiRmlOHhIkEFQR  Nandito Na  6gcteR920pLEynlHzjSRYd        Kiyo  52iwum3yPBYLWiZQMqxIU9    213681   2020-04-20                55         0.650   0.220    4   -16.590     1       0.1660         0.835          0.056800    0.1330    0.332  82.005           127797  [pinoy hip hop, pinoy indie, tagalog rap]                 59\n",
       "2  7tQ2P3dP76bj1aSEfe8StO      Dantay  6gcteR920pLEynlHzjSRYd        Kiyo  02qNpe3vtTVHzGytclgmWe    292414   2020-02-14                54         0.386   0.360    2   -16.437     1       0.3150         0.812          0.001950    0.0936    0.141  71.576           127797  [pinoy hip hop, pinoy indie, tagalog rap]                 59"
      ],
      "text/html": "<div>\n<style scoped>\n    .dataframe tbody tr th:only-of-type {\n        vertical-align: middle;\n    }\n\n    .dataframe tbody tr th {\n        vertical-align: top;\n    }\n\n    .dataframe thead th {\n        text-align: right;\n    }\n</style>\n<table border=\"1\" class=\"dataframe\">\n  <thead>\n    <tr style=\"text-align: right;\">\n      <th></th>\n      <th>track_id</th>\n      <th>track_name</th>\n      <th>artist_id</th>\n      <th>artist_name</th>\n      <th>album_id</th>\n      <th>duration</th>\n      <th>release_date</th>\n      <th>track_popularity</th>\n      <th>danceability</th>\n      <th>energy</th>\n      <th>key</th>\n      <th>loudness</th>\n      <th>mode</th>\n      <th>speechiness</th>\n      <th>acousticness</th>\n      <th>instrumentalness</th>\n      <th>liveness</th>\n      <th>valence</th>\n      <th>tempo</th>\n      <th>total_followers</th>\n      <th>genres</th>\n      <th>artist_popularity</th>\n    </tr>\n  </thead>\n  <tbody>\n    <tr>\n      <th>0</th>\n      <td>2kRjoaqiyeS0Faus5wKztH</td>\n      <td>Ikaw Lang</td>\n      <td>6gcteR920pLEynlHzjSRYd</td>\n      <td>Kiyo</td>\n      <td>3EMkSD7V6DOoEAwk9pnOfa</td>\n      <td>241658</td>\n      <td>2019-05-10</td>\n      <td>61</td>\n      <td>0.705</td>\n      <td>0.499</td>\n      <td>7</td>\n      <td>-8.554</td>\n      <td>1</td>\n      <td>0.0714</td>\n      <td>0.317</td>\n      <td>0.000016</td>\n      <td>0.1310</td>\n      <td>0.500</td>\n      <td>79.992</td>\n      <td>127797</td>\n      <td>[pinoy hip hop, pinoy indie, tagalog rap]</td>\n      <td>59</td>\n    </tr>\n    <tr>\n      <th>1</th>\n      <td>1UcrhQg0HiRmlOHhIkEFQR</td>\n      <td>Nandito Na</td>\n      <td>6gcteR920pLEynlHzjSRYd</td>\n      <td>Kiyo</td>\n      <td>52iwum3yPBYLWiZQMqxIU9</td>\n      <td>213681</td>\n      <td>2020-04-20</td>\n      <td>55</td>\n      <td>0.650</td>\n      <td>0.220</td>\n      <td>4</td>\n      <td>-16.590</td>\n      <td>1</td>\n      <td>0.1660</td>\n      <td>0.835</td>\n      <td>0.056800</td>\n      <td>0.1330</td>\n      <td>0.332</td>\n      <td>82.005</td>\n      <td>127797</td>\n      <td>[pinoy hip hop, pinoy indie, tagalog rap]</td>\n      <td>59</td>\n    </tr>\n    <tr>\n      <th>2</th>\n      <td>7tQ2P3dP76bj1aSEfe8StO</td>\n      <td>Dantay</td>\n      <td>6gcteR920pLEynlHzjSRYd</td>\n      <td>Kiyo</td>\n      <td>02qNpe3vtTVHzGytclgmWe</td>\n      <td>292414</td>\n      <td>2020-02-14</td>\n      <td>54</td>\n      <td>0.386</td>\n      <td>0.360</td>\n      <td>2</td>\n      <td>-16.437</td>\n      <td>1</td>\n      <td>0.3150</td>\n      <td>0.812</td>\n      <td>0.001950</td>\n      <td>0.0936</td>\n      <td>0.141</td>\n      <td>71.576</td>\n      <td>127797</td>\n      <td>[pinoy hip hop, pinoy indie, tagalog rap]</td>\n      <td>59</td>\n    </tr>\n  </tbody>\n</table>\n</div>"
     },
     "metadata": {},
     "execution_count": 157
    }
   ],
   "source": [
    "track_artist_df = tracks_data_df.merge(artist_data_df, on=['artist_id','artist_name'])\n",
    "track_artist_df = track_artist_df.rename(columns={'popularity_x': 'track_popularity', 'popularity_y': 'artist_popularity'})\n",
    "track_artist_df.head(3)"
   ]
  },
  {
   "cell_type": "code",
   "execution_count": 158,
   "metadata": {},
   "outputs": [],
   "source": [
    "track_artist_df.to_csv('data/seed_tracks_kiyo.csv', index=False, encoding='utf-8')"
   ]
  },
  {
   "cell_type": "markdown",
   "metadata": {},
   "source": [
    "## Resources\n",
    "- Spotify API reference manual https://developer.spotify.com/documentation/web-api/reference/search/search/"
   ]
  }
 ],
 "metadata": {
  "kernelspec": {
   "name": "Python 3.7.6 64-bit (conda)",
   "display_name": "Python 3.7.6 64-bit (conda)",
   "metadata": {
    "interpreter": {
     "hash": "8fac594bfae6525c0c41b4041d2d72effa188cc8ead05f81b1fab2bb098927fb"
    }
   }
  },
  "language_info": {
   "codemirror_mode": {
    "name": "ipython",
    "version": 3
   },
   "file_extension": ".py",
   "mimetype": "text/x-python",
   "name": "python",
   "nbconvert_exporter": "python",
   "pygments_lexer": "ipython3",
   "version": "3.7.6-final"
  }
 },
 "nbformat": 4,
 "nbformat_minor": 2
}