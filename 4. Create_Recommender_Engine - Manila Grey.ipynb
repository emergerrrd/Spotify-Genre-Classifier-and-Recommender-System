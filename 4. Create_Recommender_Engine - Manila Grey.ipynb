{
 "cells": [
  {
   "cell_type": "markdown",
   "metadata": {},
   "source": [
    "# Content-Based Recommendation Engine"
   ]
  },
  {
   "cell_type": "code",
   "execution_count": 1,
   "metadata": {
    "ExecuteTime": {
     "end_time": "2020-10-14T09:15:42.548625Z",
     "start_time": "2020-10-14T09:15:40.796420Z"
    }
   },
   "outputs": [],
   "source": [
    "import pandas as pd\n",
    "import numpy as np\n",
    "import seaborn as sns\n",
    "import matplotlib.pyplot as plt\n",
    "\n",
    "import spotipy\n",
    "from spotipy.oauth2 import SpotifyClientCredentials\n",
    "import keyring\n",
    "import time\n",
    "\n",
    "from sklearn.preprocessing import MinMaxScaler\n",
    "\n",
    "%matplotlib inline"
   ]
  },
  {
   "cell_type": "code",
   "execution_count": 2,
   "metadata": {},
   "outputs": [],
   "source": [
    "client_credentials_manager = SpotifyClientCredentials(client_id=keyring.get_password('spotify', 'cid'),\n",
    "                                                      client_secret=keyring.get_password('spotify', 'secret') )\n",
    "sp = spotipy.Spotify(client_credentials_manager = client_credentials_manager)"
   ]
  },
  {
   "cell_type": "markdown",
   "metadata": {},
   "source": [
    "## 1. Read the recommendation pool"
   ]
  },
  {
   "cell_type": "code",
   "execution_count": 3,
   "metadata": {},
   "outputs": [
    {
     "output_type": "execute_result",
     "data": {
      "text/plain": [
       "   Unnamed: 0        date  position                track_id  \\\n",
       "0           0  2018-01-01         1  0ofbQMrRDsUaVKq2mGLEAb   \n",
       "1           1  2018-01-01         2  0tgVpDi06FyKpA1z0VMD4v   \n",
       "2           2  2018-01-01         3  3hBBKuWJfxlIlnd9QFoC8k   \n",
       "\n",
       "                   track_name          artist  streams  \\\n",
       "0                      Havana  Camila Cabello   155633   \n",
       "1                     Perfect      Ed Sheeran   134756   \n",
       "2  What Lovers Do (feat. SZA)        Maroon 5   130898   \n",
       "\n",
       "                artist_id     artist_name                album_id  ...  mode  \\\n",
       "0  4nDoRrQiYLoBzwC5BhVJzF  Camila Cabello  5chBPOVY2I0bG5V3igb5QL  ...     0   \n",
       "1  6eUKZXaKkcviH0Ku9w2n3V      Ed Sheeran  3T4tUhGYeRNVUGevb0wThu  ...     1   \n",
       "2  04gDigrS5kc9YWfZHwBETP        Maroon 5  1Jmq5HEJeA9kNi2SgQul4U  ...     0   \n",
       "\n",
       "  speechiness  acousticness  instrumentalness  liveness  valence    tempo  \\\n",
       "0      0.0312        0.1860          0.000038    0.1040    0.418  104.992   \n",
       "1      0.0232        0.1630          0.000000    0.1060    0.168   95.050   \n",
       "2      0.0671        0.0786          0.000003    0.0855    0.393  110.009   \n",
       "\n",
       "   total_followers                                 genres  artist_popularity  \n",
       "0         18078605  ['dance pop', 'pop', 'post-teen pop']                 87  \n",
       "1         69753264                      ['pop', 'uk pop']                 93  \n",
       "2         26892218                    ['pop', 'pop rock']                 90  \n",
       "\n",
       "[3 rows x 27 columns]"
      ],
      "text/html": "<div>\n<style scoped>\n    .dataframe tbody tr th:only-of-type {\n        vertical-align: middle;\n    }\n\n    .dataframe tbody tr th {\n        vertical-align: top;\n    }\n\n    .dataframe thead th {\n        text-align: right;\n    }\n</style>\n<table border=\"1\" class=\"dataframe\">\n  <thead>\n    <tr style=\"text-align: right;\">\n      <th></th>\n      <th>Unnamed: 0</th>\n      <th>date</th>\n      <th>position</th>\n      <th>track_id</th>\n      <th>track_name</th>\n      <th>artist</th>\n      <th>streams</th>\n      <th>artist_id</th>\n      <th>artist_name</th>\n      <th>album_id</th>\n      <th>...</th>\n      <th>mode</th>\n      <th>speechiness</th>\n      <th>acousticness</th>\n      <th>instrumentalness</th>\n      <th>liveness</th>\n      <th>valence</th>\n      <th>tempo</th>\n      <th>total_followers</th>\n      <th>genres</th>\n      <th>artist_popularity</th>\n    </tr>\n  </thead>\n  <tbody>\n    <tr>\n      <th>0</th>\n      <td>0</td>\n      <td>2018-01-01</td>\n      <td>1</td>\n      <td>0ofbQMrRDsUaVKq2mGLEAb</td>\n      <td>Havana</td>\n      <td>Camila Cabello</td>\n      <td>155633</td>\n      <td>4nDoRrQiYLoBzwC5BhVJzF</td>\n      <td>Camila Cabello</td>\n      <td>5chBPOVY2I0bG5V3igb5QL</td>\n      <td>...</td>\n      <td>0</td>\n      <td>0.0312</td>\n      <td>0.1860</td>\n      <td>0.000038</td>\n      <td>0.1040</td>\n      <td>0.418</td>\n      <td>104.992</td>\n      <td>18078605</td>\n      <td>['dance pop', 'pop', 'post-teen pop']</td>\n      <td>87</td>\n    </tr>\n    <tr>\n      <th>1</th>\n      <td>1</td>\n      <td>2018-01-01</td>\n      <td>2</td>\n      <td>0tgVpDi06FyKpA1z0VMD4v</td>\n      <td>Perfect</td>\n      <td>Ed Sheeran</td>\n      <td>134756</td>\n      <td>6eUKZXaKkcviH0Ku9w2n3V</td>\n      <td>Ed Sheeran</td>\n      <td>3T4tUhGYeRNVUGevb0wThu</td>\n      <td>...</td>\n      <td>1</td>\n      <td>0.0232</td>\n      <td>0.1630</td>\n      <td>0.000000</td>\n      <td>0.1060</td>\n      <td>0.168</td>\n      <td>95.050</td>\n      <td>69753264</td>\n      <td>['pop', 'uk pop']</td>\n      <td>93</td>\n    </tr>\n    <tr>\n      <th>2</th>\n      <td>2</td>\n      <td>2018-01-01</td>\n      <td>3</td>\n      <td>3hBBKuWJfxlIlnd9QFoC8k</td>\n      <td>What Lovers Do (feat. SZA)</td>\n      <td>Maroon 5</td>\n      <td>130898</td>\n      <td>04gDigrS5kc9YWfZHwBETP</td>\n      <td>Maroon 5</td>\n      <td>1Jmq5HEJeA9kNi2SgQul4U</td>\n      <td>...</td>\n      <td>0</td>\n      <td>0.0671</td>\n      <td>0.0786</td>\n      <td>0.000003</td>\n      <td>0.0855</td>\n      <td>0.393</td>\n      <td>110.009</td>\n      <td>26892218</td>\n      <td>['pop', 'pop rock']</td>\n      <td>90</td>\n    </tr>\n  </tbody>\n</table>\n<p>3 rows × 27 columns</p>\n</div>"
     },
     "metadata": {},
     "execution_count": 3
    }
   ],
   "source": [
    "#read data\n",
    "chart_tracks_df = pd.read_csv(\"data/df_charts_tracks_artists.csv\")\n",
    "chart_tracks_df = chart_tracks_df.drop_duplicates(subset='track_id')\n",
    "chart_tracks_df.head(3)"
   ]
  },
  {
   "cell_type": "code",
   "execution_count": 4,
   "metadata": {
    "ExecuteTime": {
     "end_time": "2020-10-14T09:15:42.622181Z",
     "start_time": "2020-10-14T09:15:42.550619Z"
    }
   },
   "outputs": [],
   "source": [
    "# #read data\n",
    "# chart_tracks_df = pd.read_csv(\"data/spotify_daily_charts_tracks_predicted_genres.csv\")\n",
    "# tracks_data_df = pd.read_csv(\"data/df_charts_tracks_artists.csv\")\n",
    "\n",
    "# #drop duplicates\n",
    "# tracks_data_df = tracks_data_df.drop_duplicates(subset='track_id')\n",
    "# tracks_data_df = tracks_data_df[['track_id', 'loudness', 'tempo']]\n",
    "\n",
    "# #normalize loudness and tempo\n",
    "# # scaler = MinMaxScaler()\n",
    "# # chart_tracks_df['loudness'] = scaler.fit_transform(chart_tracks_df[['loudness']])\n",
    "# # chart_tracks_df['tempo'] =  scaler.fit_transform(chart_tracks_df[['tempo']])\n",
    "\n",
    "# chart_tracks_df = pd.merge(chart_tracks_df.drop(['loudness', 'tempo'], 1), tracks_data_df, on='track_id')\n",
    "# chart_tracks_df.head(3)"
   ]
  },
  {
   "cell_type": "code",
   "execution_count": 5,
   "metadata": {
    "ExecuteTime": {
     "end_time": "2020-10-14T09:15:42.629123Z",
     "start_time": "2020-10-14T09:15:42.624133Z"
    }
   },
   "outputs": [
    {
     "output_type": "execute_result",
     "data": {
      "text/plain": [
       "(2292, 27)"
      ]
     },
     "metadata": {},
     "execution_count": 5
    }
   ],
   "source": [
    "chart_tracks_df.shape"
   ]
  },
  {
   "cell_type": "markdown",
   "metadata": {},
   "source": [
    "## 2. Input Seed Track\n"
   ]
  },
  {
   "cell_type": "code",
   "execution_count": 6,
   "metadata": {},
   "outputs": [],
   "source": [
    "def get_track_data(t_id):                    \n",
    "    track_data = sp.track(t_id)\n",
    "    track_features = sp.audio_features(t_id)\n",
    "    \n",
    "    #get only main(first) artist\n",
    "    td_list = [t_id,\\\n",
    "               track_data['name'],\\\n",
    "               track_data['artists'][0]['id'],\\\n",
    "               track_data['artists'][0]['name'],\\\n",
    "               track_data['album']['uri'].split(\":\")[2],\\\n",
    "               track_data['duration_ms'],\\\n",
    "               track_data['album']['release_date'],\\\n",
    "               track_data['popularity']]\n",
    "    data = pd.DataFrame([td_list], columns = ['track_id','track_name','artist_id','artist_name','album_id','duration','release_date','popularity'])\n",
    "\n",
    "    relevant_cols = ['danceability', 'energy', 'key', 'loudness', 'mode',\\\n",
    "                     'speechiness', 'acousticness', 'instrumentalness', 'liveness', 'valence', 'tempo']  \n",
    "    \n",
    "    tf_data = pd.DataFrame(track_features)\n",
    "    tf_data = tf_data[relevant_cols]\n",
    "    \n",
    "    data = pd.concat([data, tf_data], axis=1)\n",
    "    return data"
   ]
  },
  {
   "cell_type": "code",
   "execution_count": 7,
   "metadata": {
    "ExecuteTime": {
     "end_time": "2020-10-14T09:15:42.636138Z",
     "start_time": "2020-10-14T09:15:42.632113Z"
    }
   },
   "outputs": [],
   "source": [
    "feature_cols = ['danceability', 'energy', 'loudness', 'speechiness', 'acousticness', 'instrumentalness',\\\n",
    "                'liveness', 'valence', 'tempo']"
   ]
  },
  {
   "cell_type": "code",
   "execution_count": 8,
   "metadata": {},
   "outputs": [
    {
     "output_type": "execute_result",
     "data": {
      "text/plain": [
       "                 track_id                       track_name  \\\n",
       "0  4Oun2ylbjFKMPTiaSbbCih  WAP (feat. Megan Thee Stallion)   \n",
       "\n",
       "                artist_id artist_name                album_id  duration  \\\n",
       "0  4kYSro6naA4h99UJvo89HB     Cardi B  2ogiazbrNEx0kQHGl5ZBTQ    187541   \n",
       "\n",
       "  release_date  popularity  danceability  energy  key  loudness  mode  \\\n",
       "0   2020-08-07          98         0.935   0.454    1    -7.509     1   \n",
       "\n",
       "   speechiness  acousticness  instrumentalness  liveness  valence    tempo  \n",
       "0        0.375        0.0194                 0    0.0824    0.357  133.073  "
      ],
      "text/html": "<div>\n<style scoped>\n    .dataframe tbody tr th:only-of-type {\n        vertical-align: middle;\n    }\n\n    .dataframe tbody tr th {\n        vertical-align: top;\n    }\n\n    .dataframe thead th {\n        text-align: right;\n    }\n</style>\n<table border=\"1\" class=\"dataframe\">\n  <thead>\n    <tr style=\"text-align: right;\">\n      <th></th>\n      <th>track_id</th>\n      <th>track_name</th>\n      <th>artist_id</th>\n      <th>artist_name</th>\n      <th>album_id</th>\n      <th>duration</th>\n      <th>release_date</th>\n      <th>popularity</th>\n      <th>danceability</th>\n      <th>energy</th>\n      <th>key</th>\n      <th>loudness</th>\n      <th>mode</th>\n      <th>speechiness</th>\n      <th>acousticness</th>\n      <th>instrumentalness</th>\n      <th>liveness</th>\n      <th>valence</th>\n      <th>tempo</th>\n    </tr>\n  </thead>\n  <tbody>\n    <tr>\n      <th>0</th>\n      <td>4Oun2ylbjFKMPTiaSbbCih</td>\n      <td>WAP (feat. Megan Thee Stallion)</td>\n      <td>4kYSro6naA4h99UJvo89HB</td>\n      <td>Cardi B</td>\n      <td>2ogiazbrNEx0kQHGl5ZBTQ</td>\n      <td>187541</td>\n      <td>2020-08-07</td>\n      <td>98</td>\n      <td>0.935</td>\n      <td>0.454</td>\n      <td>1</td>\n      <td>-7.509</td>\n      <td>1</td>\n      <td>0.375</td>\n      <td>0.0194</td>\n      <td>0</td>\n      <td>0.0824</td>\n      <td>0.357</td>\n      <td>133.073</td>\n    </tr>\n  </tbody>\n</table>\n</div>"
     },
     "metadata": {},
     "execution_count": 8
    }
   ],
   "source": [
    "seed_track_id = input(\"Enter track id: \")\n",
    "seed_track_data = get_track_data(seed_track_id)\n",
    "\n",
    "# seed_track_data['loudness'] = scaler.fit_transform(seed_track_data[['loudness']])\n",
    "# seed_track_data['tempo'] =  scaler.fit_transform(seed_track_data[['tempo']])\n",
    "\n",
    "seed_track_data.head()"
   ]
  },
  {
   "cell_type": "code",
   "execution_count": 5,
   "metadata": {},
   "outputs": [],
   "source": [
    "# feature_cols = ['danceability', 'energy', 'loudness', 'speechiness', 'acousticness', 'instrumentalness',\\\n",
    "#                 'liveness', 'valence', 'tempo']\n",
    "# genre_lookup = dict(tracks_df.groupby('genre_id').head(1)[['genre_id','genre']].values)\n",
    "\n",
    "# import pickle\n",
    "\n",
    "# with open('genre-knn.pkl', 'rb') as file:\n",
    "#     knn_optimal = pickle.load(file)\n",
    "\n",
    "# seed_track_data['predicted_genre_id'] = seed_track_data.apply(lambda x:  knn_optimal.predict(x[feature_cols].values.reshape(1,-1))[0]\\\n",
    "#                                                , axis=1)\n",
    "# seed_track_data['predicted_genre'] = seed_track_data['predicted_genre_id'].apply(lambda x: genre_lookup[x])\n",
    "# seed_track_data['predicted_genre_prob'] = seed_track_data.apply(lambda x:  np.max(knn_optimal.predict_proba(x[feature_cols].values.reshape(1,-1)))\\\n",
    "#                                                     , axis=1)\n",
    "# seed_track_data['all_genre_prob'] = seed_track_data.apply(lambda x:  knn_optimal.predict_proba(x[feature_cols].values.reshape(1,-1))[0]\\\n",
    "#                                                     , axis=1)"
   ]
  },
  {
   "cell_type": "markdown",
   "metadata": {},
   "source": [
    "## 3. Explore Similarity Measures"
   ]
  },
  {
   "cell_type": "code",
   "execution_count": 9,
   "metadata": {
    "ExecuteTime": {
     "end_time": "2020-10-14T09:15:42.690956Z",
     "start_time": "2020-10-14T09:15:42.650065Z"
    }
   },
   "outputs": [],
   "source": [
    "from sklearn.metrics.pairwise import euclidean_distances, manhattan_distances, cosine_similarity"
   ]
  },
  {
   "cell_type": "markdown",
   "metadata": {},
   "source": [
    "Euclidean"
   ]
  },
  {
   "cell_type": "code",
   "execution_count": 10,
   "metadata": {
    "ExecuteTime": {
     "end_time": "2020-10-14T09:15:45.225344Z",
     "start_time": "2020-10-14T09:15:42.694944Z"
    }
   },
   "outputs": [
    {
     "output_type": "execute_result",
     "data": {
      "text/plain": [
       "                      track_id                                    track_name  \\\n",
       "78      43ZyHQITOjhciSUUNPVRHc                                    Gucci Gang   \n",
       "61531   5vdp5UmvTsnMEMESIF2Ym7  Another One Bites The Dust - Remastered 2011   \n",
       "71995   6fWTVk29yvFEqE5VY6Gslk                                        Dalaga   \n",
       "48740   2jt2WxXMCD4zjACthkJQVE                                    The Ringer   \n",
       "66198   0Xq3TsWq8bCm7myxpBm0rh                                  Switch It Up   \n",
       "41574   2E124GmJRnBJuXbTb4cPUB        FEFE (feat. Nicki Minaj & Murda Beatz)   \n",
       "91402   3sm9FJhwOjsdzrfRgIf1ZK                                        Dalaga   \n",
       "93201   3PLARiBoxCpJFUMZhvV63x                                        Dalaga   \n",
       "100     2771LMNxwf62FTAdpJMQfM                                  Bodak Yellow   \n",
       "165783  5OxveXfvga2t0se21d96Ow                            Bored In The House   \n",
       "\n",
       "       artist_name  euclidean_dist  danceability  energy  loudness  \\\n",
       "78        Lil Pump           0.001         0.936   0.523    -6.710   \n",
       "61531        Queen           0.002         0.933   0.528    -6.472   \n",
       "71995      ALLMO$T           0.004         0.939   0.497   -10.441   \n",
       "48740       Eminem           0.004         0.939   0.551    -9.126   \n",
       "66198      Lavaado           0.004         0.939   0.463    -9.152   \n",
       "41574      6ix9ine           0.004         0.931   0.387    -9.127   \n",
       "91402      ALLMO$T           0.005         0.940   0.499   -10.123   \n",
       "93201      ALLMO$T           0.005         0.940   0.499   -10.123   \n",
       "100        Cardi B           0.006         0.929   0.723    -5.792   \n",
       "165783        Tyga           0.007         0.928   0.372   -10.393   \n",
       "\n",
       "        speechiness  acousticness  instrumentalness  liveness  valence  \\\n",
       "78           0.0597        0.2390          0.000000    0.1170    0.699   \n",
       "61531        0.1610        0.1120          0.312000    0.1630    0.754   \n",
       "71995        0.0767        0.5290          0.000091    0.0895    0.588   \n",
       "48740        0.2910        0.0311          0.000000    0.1920    0.420   \n",
       "66198        0.4210        0.0723          0.000000    0.0826    0.642   \n",
       "41574        0.4120        0.0880          0.000000    0.1360    0.376   \n",
       "91402        0.0825        0.5350          0.000119    0.0889    0.537   \n",
       "93201        0.0825        0.5350          0.000119    0.0889    0.537   \n",
       "100          0.1090        0.0672          0.000000    0.3460    0.458   \n",
       "165783       0.3210        0.0202          0.000010    0.0948    0.732   \n",
       "\n",
       "          tempo  \n",
       "78      119.889  \n",
       "61531   109.967  \n",
       "71995   109.976  \n",
       "48740   118.552  \n",
       "66198   137.051  \n",
       "41574   125.978  \n",
       "91402   109.962  \n",
       "93201   109.962  \n",
       "100     125.022  \n",
       "165783  112.458  "
      ],
      "text/html": "<div>\n<style scoped>\n    .dataframe tbody tr th:only-of-type {\n        vertical-align: middle;\n    }\n\n    .dataframe tbody tr th {\n        vertical-align: top;\n    }\n\n    .dataframe thead th {\n        text-align: right;\n    }\n</style>\n<table border=\"1\" class=\"dataframe\">\n  <thead>\n    <tr style=\"text-align: right;\">\n      <th></th>\n      <th>track_id</th>\n      <th>track_name</th>\n      <th>artist_name</th>\n      <th>euclidean_dist</th>\n      <th>danceability</th>\n      <th>energy</th>\n      <th>loudness</th>\n      <th>speechiness</th>\n      <th>acousticness</th>\n      <th>instrumentalness</th>\n      <th>liveness</th>\n      <th>valence</th>\n      <th>tempo</th>\n    </tr>\n  </thead>\n  <tbody>\n    <tr>\n      <th>78</th>\n      <td>43ZyHQITOjhciSUUNPVRHc</td>\n      <td>Gucci Gang</td>\n      <td>Lil Pump</td>\n      <td>0.001</td>\n      <td>0.936</td>\n      <td>0.523</td>\n      <td>-6.710</td>\n      <td>0.0597</td>\n      <td>0.2390</td>\n      <td>0.000000</td>\n      <td>0.1170</td>\n      <td>0.699</td>\n      <td>119.889</td>\n    </tr>\n    <tr>\n      <th>61531</th>\n      <td>5vdp5UmvTsnMEMESIF2Ym7</td>\n      <td>Another One Bites The Dust - Remastered 2011</td>\n      <td>Queen</td>\n      <td>0.002</td>\n      <td>0.933</td>\n      <td>0.528</td>\n      <td>-6.472</td>\n      <td>0.1610</td>\n      <td>0.1120</td>\n      <td>0.312000</td>\n      <td>0.1630</td>\n      <td>0.754</td>\n      <td>109.967</td>\n    </tr>\n    <tr>\n      <th>71995</th>\n      <td>6fWTVk29yvFEqE5VY6Gslk</td>\n      <td>Dalaga</td>\n      <td>ALLMO$T</td>\n      <td>0.004</td>\n      <td>0.939</td>\n      <td>0.497</td>\n      <td>-10.441</td>\n      <td>0.0767</td>\n      <td>0.5290</td>\n      <td>0.000091</td>\n      <td>0.0895</td>\n      <td>0.588</td>\n      <td>109.976</td>\n    </tr>\n    <tr>\n      <th>48740</th>\n      <td>2jt2WxXMCD4zjACthkJQVE</td>\n      <td>The Ringer</td>\n      <td>Eminem</td>\n      <td>0.004</td>\n      <td>0.939</td>\n      <td>0.551</td>\n      <td>-9.126</td>\n      <td>0.2910</td>\n      <td>0.0311</td>\n      <td>0.000000</td>\n      <td>0.1920</td>\n      <td>0.420</td>\n      <td>118.552</td>\n    </tr>\n    <tr>\n      <th>66198</th>\n      <td>0Xq3TsWq8bCm7myxpBm0rh</td>\n      <td>Switch It Up</td>\n      <td>Lavaado</td>\n      <td>0.004</td>\n      <td>0.939</td>\n      <td>0.463</td>\n      <td>-9.152</td>\n      <td>0.4210</td>\n      <td>0.0723</td>\n      <td>0.000000</td>\n      <td>0.0826</td>\n      <td>0.642</td>\n      <td>137.051</td>\n    </tr>\n    <tr>\n      <th>41574</th>\n      <td>2E124GmJRnBJuXbTb4cPUB</td>\n      <td>FEFE (feat. Nicki Minaj &amp; Murda Beatz)</td>\n      <td>6ix9ine</td>\n      <td>0.004</td>\n      <td>0.931</td>\n      <td>0.387</td>\n      <td>-9.127</td>\n      <td>0.4120</td>\n      <td>0.0880</td>\n      <td>0.000000</td>\n      <td>0.1360</td>\n      <td>0.376</td>\n      <td>125.978</td>\n    </tr>\n    <tr>\n      <th>91402</th>\n      <td>3sm9FJhwOjsdzrfRgIf1ZK</td>\n      <td>Dalaga</td>\n      <td>ALLMO$T</td>\n      <td>0.005</td>\n      <td>0.940</td>\n      <td>0.499</td>\n      <td>-10.123</td>\n      <td>0.0825</td>\n      <td>0.5350</td>\n      <td>0.000119</td>\n      <td>0.0889</td>\n      <td>0.537</td>\n      <td>109.962</td>\n    </tr>\n    <tr>\n      <th>93201</th>\n      <td>3PLARiBoxCpJFUMZhvV63x</td>\n      <td>Dalaga</td>\n      <td>ALLMO$T</td>\n      <td>0.005</td>\n      <td>0.940</td>\n      <td>0.499</td>\n      <td>-10.123</td>\n      <td>0.0825</td>\n      <td>0.5350</td>\n      <td>0.000119</td>\n      <td>0.0889</td>\n      <td>0.537</td>\n      <td>109.962</td>\n    </tr>\n    <tr>\n      <th>100</th>\n      <td>2771LMNxwf62FTAdpJMQfM</td>\n      <td>Bodak Yellow</td>\n      <td>Cardi B</td>\n      <td>0.006</td>\n      <td>0.929</td>\n      <td>0.723</td>\n      <td>-5.792</td>\n      <td>0.1090</td>\n      <td>0.0672</td>\n      <td>0.000000</td>\n      <td>0.3460</td>\n      <td>0.458</td>\n      <td>125.022</td>\n    </tr>\n    <tr>\n      <th>165783</th>\n      <td>5OxveXfvga2t0se21d96Ow</td>\n      <td>Bored In The House</td>\n      <td>Tyga</td>\n      <td>0.007</td>\n      <td>0.928</td>\n      <td>0.372</td>\n      <td>-10.393</td>\n      <td>0.3210</td>\n      <td>0.0202</td>\n      <td>0.000010</td>\n      <td>0.0948</td>\n      <td>0.732</td>\n      <td>112.458</td>\n    </tr>\n  </tbody>\n</table>\n</div>"
     },
     "metadata": {},
     "execution_count": 10
    }
   ],
   "source": [
    "chart_tracks_df['euclidean_dist'] = chart_tracks_df.apply(lambda x: euclidean_distances(x[feature_cols].values.reshape(-1, 1),\\\n",
    "                                                                  seed_track_data[feature_cols].values.reshape(-1, 1))\\\n",
    "                                                                  .flatten()[0], axis=1)\n",
    "#get top 10 nearest to seed_track_data\n",
    "recommendation_df = chart_tracks_df[chart_tracks_df['track_id']!=seed_track_id].sort_values('euclidean_dist')[:30]\n",
    "recommendation_df[['track_id','track_name','artist_name','euclidean_dist']+feature_cols].head(10)"
   ]
  },
  {
   "cell_type": "markdown",
   "metadata": {},
   "source": [
    "Manhattan"
   ]
  },
  {
   "cell_type": "code",
   "execution_count": 11,
   "metadata": {
    "ExecuteTime": {
     "end_time": "2020-10-14T09:15:47.641448Z",
     "start_time": "2020-10-14T09:15:45.227292Z"
    }
   },
   "outputs": [
    {
     "output_type": "execute_result",
     "data": {
      "text/plain": [
       "                      track_id                                    track_name  \\\n",
       "78      43ZyHQITOjhciSUUNPVRHc                                    Gucci Gang   \n",
       "61531   5vdp5UmvTsnMEMESIF2Ym7  Another One Bites The Dust - Remastered 2011   \n",
       "71995   6fWTVk29yvFEqE5VY6Gslk                                        Dalaga   \n",
       "48740   2jt2WxXMCD4zjACthkJQVE                                    The Ringer   \n",
       "66198   0Xq3TsWq8bCm7myxpBm0rh                                  Switch It Up   \n",
       "41574   2E124GmJRnBJuXbTb4cPUB        FEFE (feat. Nicki Minaj & Murda Beatz)   \n",
       "91402   3sm9FJhwOjsdzrfRgIf1ZK                                        Dalaga   \n",
       "93201   3PLARiBoxCpJFUMZhvV63x                                        Dalaga   \n",
       "100     2771LMNxwf62FTAdpJMQfM                                  Bodak Yellow   \n",
       "165783  5OxveXfvga2t0se21d96Ow                            Bored In The House   \n",
       "\n",
       "       artist_name  manhattan_dist  danceability  energy  loudness  \\\n",
       "78        Lil Pump           0.001         0.936   0.523    -6.710   \n",
       "61531        Queen           0.002         0.933   0.528    -6.472   \n",
       "71995      ALLMO$T           0.004         0.939   0.497   -10.441   \n",
       "48740       Eminem           0.004         0.939   0.551    -9.126   \n",
       "66198      Lavaado           0.004         0.939   0.463    -9.152   \n",
       "41574      6ix9ine           0.004         0.931   0.387    -9.127   \n",
       "91402      ALLMO$T           0.005         0.940   0.499   -10.123   \n",
       "93201      ALLMO$T           0.005         0.940   0.499   -10.123   \n",
       "100        Cardi B           0.006         0.929   0.723    -5.792   \n",
       "165783        Tyga           0.007         0.928   0.372   -10.393   \n",
       "\n",
       "        speechiness  acousticness  instrumentalness  liveness  valence  \\\n",
       "78           0.0597        0.2390          0.000000    0.1170    0.699   \n",
       "61531        0.1610        0.1120          0.312000    0.1630    0.754   \n",
       "71995        0.0767        0.5290          0.000091    0.0895    0.588   \n",
       "48740        0.2910        0.0311          0.000000    0.1920    0.420   \n",
       "66198        0.4210        0.0723          0.000000    0.0826    0.642   \n",
       "41574        0.4120        0.0880          0.000000    0.1360    0.376   \n",
       "91402        0.0825        0.5350          0.000119    0.0889    0.537   \n",
       "93201        0.0825        0.5350          0.000119    0.0889    0.537   \n",
       "100          0.1090        0.0672          0.000000    0.3460    0.458   \n",
       "165783       0.3210        0.0202          0.000010    0.0948    0.732   \n",
       "\n",
       "          tempo  \n",
       "78      119.889  \n",
       "61531   109.967  \n",
       "71995   109.976  \n",
       "48740   118.552  \n",
       "66198   137.051  \n",
       "41574   125.978  \n",
       "91402   109.962  \n",
       "93201   109.962  \n",
       "100     125.022  \n",
       "165783  112.458  "
      ],
      "text/html": "<div>\n<style scoped>\n    .dataframe tbody tr th:only-of-type {\n        vertical-align: middle;\n    }\n\n    .dataframe tbody tr th {\n        vertical-align: top;\n    }\n\n    .dataframe thead th {\n        text-align: right;\n    }\n</style>\n<table border=\"1\" class=\"dataframe\">\n  <thead>\n    <tr style=\"text-align: right;\">\n      <th></th>\n      <th>track_id</th>\n      <th>track_name</th>\n      <th>artist_name</th>\n      <th>manhattan_dist</th>\n      <th>danceability</th>\n      <th>energy</th>\n      <th>loudness</th>\n      <th>speechiness</th>\n      <th>acousticness</th>\n      <th>instrumentalness</th>\n      <th>liveness</th>\n      <th>valence</th>\n      <th>tempo</th>\n    </tr>\n  </thead>\n  <tbody>\n    <tr>\n      <th>78</th>\n      <td>43ZyHQITOjhciSUUNPVRHc</td>\n      <td>Gucci Gang</td>\n      <td>Lil Pump</td>\n      <td>0.001</td>\n      <td>0.936</td>\n      <td>0.523</td>\n      <td>-6.710</td>\n      <td>0.0597</td>\n      <td>0.2390</td>\n      <td>0.000000</td>\n      <td>0.1170</td>\n      <td>0.699</td>\n      <td>119.889</td>\n    </tr>\n    <tr>\n      <th>61531</th>\n      <td>5vdp5UmvTsnMEMESIF2Ym7</td>\n      <td>Another One Bites The Dust - Remastered 2011</td>\n      <td>Queen</td>\n      <td>0.002</td>\n      <td>0.933</td>\n      <td>0.528</td>\n      <td>-6.472</td>\n      <td>0.1610</td>\n      <td>0.1120</td>\n      <td>0.312000</td>\n      <td>0.1630</td>\n      <td>0.754</td>\n      <td>109.967</td>\n    </tr>\n    <tr>\n      <th>71995</th>\n      <td>6fWTVk29yvFEqE5VY6Gslk</td>\n      <td>Dalaga</td>\n      <td>ALLMO$T</td>\n      <td>0.004</td>\n      <td>0.939</td>\n      <td>0.497</td>\n      <td>-10.441</td>\n      <td>0.0767</td>\n      <td>0.5290</td>\n      <td>0.000091</td>\n      <td>0.0895</td>\n      <td>0.588</td>\n      <td>109.976</td>\n    </tr>\n    <tr>\n      <th>48740</th>\n      <td>2jt2WxXMCD4zjACthkJQVE</td>\n      <td>The Ringer</td>\n      <td>Eminem</td>\n      <td>0.004</td>\n      <td>0.939</td>\n      <td>0.551</td>\n      <td>-9.126</td>\n      <td>0.2910</td>\n      <td>0.0311</td>\n      <td>0.000000</td>\n      <td>0.1920</td>\n      <td>0.420</td>\n      <td>118.552</td>\n    </tr>\n    <tr>\n      <th>66198</th>\n      <td>0Xq3TsWq8bCm7myxpBm0rh</td>\n      <td>Switch It Up</td>\n      <td>Lavaado</td>\n      <td>0.004</td>\n      <td>0.939</td>\n      <td>0.463</td>\n      <td>-9.152</td>\n      <td>0.4210</td>\n      <td>0.0723</td>\n      <td>0.000000</td>\n      <td>0.0826</td>\n      <td>0.642</td>\n      <td>137.051</td>\n    </tr>\n    <tr>\n      <th>41574</th>\n      <td>2E124GmJRnBJuXbTb4cPUB</td>\n      <td>FEFE (feat. Nicki Minaj &amp; Murda Beatz)</td>\n      <td>6ix9ine</td>\n      <td>0.004</td>\n      <td>0.931</td>\n      <td>0.387</td>\n      <td>-9.127</td>\n      <td>0.4120</td>\n      <td>0.0880</td>\n      <td>0.000000</td>\n      <td>0.1360</td>\n      <td>0.376</td>\n      <td>125.978</td>\n    </tr>\n    <tr>\n      <th>91402</th>\n      <td>3sm9FJhwOjsdzrfRgIf1ZK</td>\n      <td>Dalaga</td>\n      <td>ALLMO$T</td>\n      <td>0.005</td>\n      <td>0.940</td>\n      <td>0.499</td>\n      <td>-10.123</td>\n      <td>0.0825</td>\n      <td>0.5350</td>\n      <td>0.000119</td>\n      <td>0.0889</td>\n      <td>0.537</td>\n      <td>109.962</td>\n    </tr>\n    <tr>\n      <th>93201</th>\n      <td>3PLARiBoxCpJFUMZhvV63x</td>\n      <td>Dalaga</td>\n      <td>ALLMO$T</td>\n      <td>0.005</td>\n      <td>0.940</td>\n      <td>0.499</td>\n      <td>-10.123</td>\n      <td>0.0825</td>\n      <td>0.5350</td>\n      <td>0.000119</td>\n      <td>0.0889</td>\n      <td>0.537</td>\n      <td>109.962</td>\n    </tr>\n    <tr>\n      <th>100</th>\n      <td>2771LMNxwf62FTAdpJMQfM</td>\n      <td>Bodak Yellow</td>\n      <td>Cardi B</td>\n      <td>0.006</td>\n      <td>0.929</td>\n      <td>0.723</td>\n      <td>-5.792</td>\n      <td>0.1090</td>\n      <td>0.0672</td>\n      <td>0.000000</td>\n      <td>0.3460</td>\n      <td>0.458</td>\n      <td>125.022</td>\n    </tr>\n    <tr>\n      <th>165783</th>\n      <td>5OxveXfvga2t0se21d96Ow</td>\n      <td>Bored In The House</td>\n      <td>Tyga</td>\n      <td>0.007</td>\n      <td>0.928</td>\n      <td>0.372</td>\n      <td>-10.393</td>\n      <td>0.3210</td>\n      <td>0.0202</td>\n      <td>0.000010</td>\n      <td>0.0948</td>\n      <td>0.732</td>\n      <td>112.458</td>\n    </tr>\n  </tbody>\n</table>\n</div>"
     },
     "metadata": {},
     "execution_count": 11
    }
   ],
   "source": [
    "chart_tracks_df['manhattan_dist'] = chart_tracks_df.apply(lambda x: manhattan_distances(x[feature_cols].values.reshape(-1, 1),\\\n",
    "                                                                  seed_track_data[feature_cols].values.reshape(-1, 1))\\\n",
    "                                                                  .flatten()[0], axis=1)\n",
    "#get top 10 nearest to seed_track_data\n",
    "recommendation_df = chart_tracks_df[chart_tracks_df['track_id']!=seed_track_id].sort_values('manhattan_dist')[:30]\n",
    "recommendation_df[['track_id','track_name','artist_name','manhattan_dist']+feature_cols].head(10)"
   ]
  },
  {
   "cell_type": "markdown",
   "metadata": {},
   "source": [
    "Cosine"
   ]
  },
  {
   "cell_type": "code",
   "execution_count": 13,
   "metadata": {
    "ExecuteTime": {
     "end_time": "2020-10-14T09:15:50.541334Z",
     "start_time": "2020-10-14T09:15:47.643388Z"
    }
   },
   "outputs": [
    {
     "output_type": "execute_result",
     "data": {
      "text/plain": [
       "                      track_id                      track_name  \\\n",
       "54359   3JX0dOCIAiaR8MP3ryXWuM  What About Me (feat. Sosamann)   \n",
       "20393   2Yl4OmDby9iitgNWZPwxkd                      Be Careful   \n",
       "30518   3qnoOm4fwZPBS116f5hpgF                        All Mine   \n",
       "140987  3yOlyBJuViE2YSGn3nVE1K         My Oh My (feat. DaBaby)   \n",
       "162759  3BNwUaRo3w1teVSkd69sL8                          Bounty   \n",
       "161185  4EivmOT13NMpNSfTKn9p4s    Like That (feat. Gucci Mane)   \n",
       "2397    630sXRhIcfwr2e4RdNtjKN               Rewrite The Stars   \n",
       "9173    4qKcDkK6siZ7Jp1Jb4m0aL        Look Alive (feat. Drake)   \n",
       "161850  2p8IUWQDrpjuFltbdgLOag                     After Hours   \n",
       "52      0Zbbxnx4SGGHoIow4PpISP                      Stargazing   \n",
       "\n",
       "           artist_name  cosine_dist  danceability  energy  loudness  \\\n",
       "54359        Lil Wayne     0.000004         0.785   0.440    -6.566   \n",
       "20393          Cardi B     0.000005         0.820   0.568    -8.230   \n",
       "30518       Kanye West     0.000005         0.925   0.308    -6.562   \n",
       "140987  Camila Cabello     0.000005         0.724   0.491    -6.024   \n",
       "162759    Ex Battalion     0.000005         0.847   0.584    -7.617   \n",
       "161185        Doja Cat     0.000005         0.879   0.499    -6.027   \n",
       "2397         Zac Efron     0.000006         0.684   0.619    -7.005   \n",
       "9173        BlocBoy JB     0.000006         0.922   0.581    -7.495   \n",
       "161850      The Weeknd     0.000007         0.664   0.572    -6.099   \n",
       "52                Kygo     0.000007         0.677   0.497    -5.763   \n",
       "\n",
       "        speechiness  acousticness  instrumentalness  liveness  valence  \\\n",
       "54359        0.0401       0.02630          0.000002    0.1220    0.220   \n",
       "20393        0.4110       0.02560          0.000000    0.0952    0.535   \n",
       "30518        0.3380       0.12500          0.000000    0.0933    0.265   \n",
       "140987       0.0296       0.01800          0.000013    0.0887    0.383   \n",
       "162759       0.0412       0.06440          0.000000    0.0804    0.235   \n",
       "161185       0.1800       0.24000          0.000000    0.0967    0.405   \n",
       "2397         0.0386       0.07160          0.000000    0.1220    0.284   \n",
       "9173         0.2700       0.00104          0.000059    0.1050    0.595   \n",
       "161850       0.0305       0.08110          0.006040    0.1210    0.143   \n",
       "52           0.0809       0.15200          0.000000    0.0911    0.419   \n",
       "\n",
       "          tempo  \n",
       "54359   118.089  \n",
       "20393   152.279  \n",
       "30518   122.099  \n",
       "140987  105.046  \n",
       "162759  132.009  \n",
       "161185  106.043  \n",
       "2397    125.046  \n",
       "9173    140.022  \n",
       "161850  108.959  \n",
       "52       99.137  "
      ],
      "text/html": "<div>\n<style scoped>\n    .dataframe tbody tr th:only-of-type {\n        vertical-align: middle;\n    }\n\n    .dataframe tbody tr th {\n        vertical-align: top;\n    }\n\n    .dataframe thead th {\n        text-align: right;\n    }\n</style>\n<table border=\"1\" class=\"dataframe\">\n  <thead>\n    <tr style=\"text-align: right;\">\n      <th></th>\n      <th>track_id</th>\n      <th>track_name</th>\n      <th>artist_name</th>\n      <th>cosine_dist</th>\n      <th>danceability</th>\n      <th>energy</th>\n      <th>loudness</th>\n      <th>speechiness</th>\n      <th>acousticness</th>\n      <th>instrumentalness</th>\n      <th>liveness</th>\n      <th>valence</th>\n      <th>tempo</th>\n    </tr>\n  </thead>\n  <tbody>\n    <tr>\n      <th>54359</th>\n      <td>3JX0dOCIAiaR8MP3ryXWuM</td>\n      <td>What About Me (feat. Sosamann)</td>\n      <td>Lil Wayne</td>\n      <td>0.000004</td>\n      <td>0.785</td>\n      <td>0.440</td>\n      <td>-6.566</td>\n      <td>0.0401</td>\n      <td>0.02630</td>\n      <td>0.000002</td>\n      <td>0.1220</td>\n      <td>0.220</td>\n      <td>118.089</td>\n    </tr>\n    <tr>\n      <th>20393</th>\n      <td>2Yl4OmDby9iitgNWZPwxkd</td>\n      <td>Be Careful</td>\n      <td>Cardi B</td>\n      <td>0.000005</td>\n      <td>0.820</td>\n      <td>0.568</td>\n      <td>-8.230</td>\n      <td>0.4110</td>\n      <td>0.02560</td>\n      <td>0.000000</td>\n      <td>0.0952</td>\n      <td>0.535</td>\n      <td>152.279</td>\n    </tr>\n    <tr>\n      <th>30518</th>\n      <td>3qnoOm4fwZPBS116f5hpgF</td>\n      <td>All Mine</td>\n      <td>Kanye West</td>\n      <td>0.000005</td>\n      <td>0.925</td>\n      <td>0.308</td>\n      <td>-6.562</td>\n      <td>0.3380</td>\n      <td>0.12500</td>\n      <td>0.000000</td>\n      <td>0.0933</td>\n      <td>0.265</td>\n      <td>122.099</td>\n    </tr>\n    <tr>\n      <th>140987</th>\n      <td>3yOlyBJuViE2YSGn3nVE1K</td>\n      <td>My Oh My (feat. DaBaby)</td>\n      <td>Camila Cabello</td>\n      <td>0.000005</td>\n      <td>0.724</td>\n      <td>0.491</td>\n      <td>-6.024</td>\n      <td>0.0296</td>\n      <td>0.01800</td>\n      <td>0.000013</td>\n      <td>0.0887</td>\n      <td>0.383</td>\n      <td>105.046</td>\n    </tr>\n    <tr>\n      <th>162759</th>\n      <td>3BNwUaRo3w1teVSkd69sL8</td>\n      <td>Bounty</td>\n      <td>Ex Battalion</td>\n      <td>0.000005</td>\n      <td>0.847</td>\n      <td>0.584</td>\n      <td>-7.617</td>\n      <td>0.0412</td>\n      <td>0.06440</td>\n      <td>0.000000</td>\n      <td>0.0804</td>\n      <td>0.235</td>\n      <td>132.009</td>\n    </tr>\n    <tr>\n      <th>161185</th>\n      <td>4EivmOT13NMpNSfTKn9p4s</td>\n      <td>Like That (feat. Gucci Mane)</td>\n      <td>Doja Cat</td>\n      <td>0.000005</td>\n      <td>0.879</td>\n      <td>0.499</td>\n      <td>-6.027</td>\n      <td>0.1800</td>\n      <td>0.24000</td>\n      <td>0.000000</td>\n      <td>0.0967</td>\n      <td>0.405</td>\n      <td>106.043</td>\n    </tr>\n    <tr>\n      <th>2397</th>\n      <td>630sXRhIcfwr2e4RdNtjKN</td>\n      <td>Rewrite The Stars</td>\n      <td>Zac Efron</td>\n      <td>0.000006</td>\n      <td>0.684</td>\n      <td>0.619</td>\n      <td>-7.005</td>\n      <td>0.0386</td>\n      <td>0.07160</td>\n      <td>0.000000</td>\n      <td>0.1220</td>\n      <td>0.284</td>\n      <td>125.046</td>\n    </tr>\n    <tr>\n      <th>9173</th>\n      <td>4qKcDkK6siZ7Jp1Jb4m0aL</td>\n      <td>Look Alive (feat. Drake)</td>\n      <td>BlocBoy JB</td>\n      <td>0.000006</td>\n      <td>0.922</td>\n      <td>0.581</td>\n      <td>-7.495</td>\n      <td>0.2700</td>\n      <td>0.00104</td>\n      <td>0.000059</td>\n      <td>0.1050</td>\n      <td>0.595</td>\n      <td>140.022</td>\n    </tr>\n    <tr>\n      <th>161850</th>\n      <td>2p8IUWQDrpjuFltbdgLOag</td>\n      <td>After Hours</td>\n      <td>The Weeknd</td>\n      <td>0.000007</td>\n      <td>0.664</td>\n      <td>0.572</td>\n      <td>-6.099</td>\n      <td>0.0305</td>\n      <td>0.08110</td>\n      <td>0.006040</td>\n      <td>0.1210</td>\n      <td>0.143</td>\n      <td>108.959</td>\n    </tr>\n    <tr>\n      <th>52</th>\n      <td>0Zbbxnx4SGGHoIow4PpISP</td>\n      <td>Stargazing</td>\n      <td>Kygo</td>\n      <td>0.000007</td>\n      <td>0.677</td>\n      <td>0.497</td>\n      <td>-5.763</td>\n      <td>0.0809</td>\n      <td>0.15200</td>\n      <td>0.000000</td>\n      <td>0.0911</td>\n      <td>0.419</td>\n      <td>99.137</td>\n    </tr>\n  </tbody>\n</table>\n</div>"
     },
     "metadata": {},
     "execution_count": 13
    }
   ],
   "source": [
    "chart_tracks_df['cosine_dist'] = chart_tracks_df.apply(lambda x: 1-cosine_similarity(x[feature_cols].values.reshape(1, -1),\\\n",
    "                                                                  seed_track_data[feature_cols].values.reshape(1, -1))\\\n",
    "                                                                  .flatten()[0], axis=1)\n",
    "\n",
    "#get top 10 nearest to seed_track_data\n",
    "# recommendation_df = chart_tracks_df[chart_tracks_df['track_id']!=seed_track_data['track_id']].sort_values('cosine_dist')[:30]\n",
    "recommendation_df = chart_tracks_df[chart_tracks_df['track_id']!=seed_track_id].sort_values('cosine_dist')[:10]\n",
    "recommendation_df[['track_id','track_name','artist_name','cosine_dist']+feature_cols]"
   ]
  },
  {
   "cell_type": "markdown",
   "metadata": {
    "ExecuteTime": {
     "end_time": "2020-10-14T08:54:20.394786Z",
     "start_time": "2020-10-14T08:54:20.390756Z"
    }
   },
   "source": [
    "View histograms of the 3 similarity measures"
   ]
  },
  {
   "cell_type": "code",
   "execution_count": 160,
   "metadata": {
    "ExecuteTime": {
     "end_time": "2020-10-14T09:15:50.913604Z",
     "start_time": "2020-10-14T09:15:50.542296Z"
    }
   },
   "outputs": [
    {
     "output_type": "execute_result",
     "data": {
      "text/plain": [
       "array([[<matplotlib.axes._subplots.AxesSubplot object at 0x0000027F6FA5C9C8>,\n",
       "        <matplotlib.axes._subplots.AxesSubplot object at 0x0000027F6FC34AC8>],\n",
       "       [<matplotlib.axes._subplots.AxesSubplot object at 0x0000027F6FADF5C8>,\n",
       "        <matplotlib.axes._subplots.AxesSubplot object at 0x0000027F6FAEF448>]],\n",
       "      dtype=object)"
      ]
     },
     "metadata": {},
     "execution_count": 160
    },
    {
     "output_type": "display_data",
     "data": {
      "text/plain": "<Figure size 432x288 with 4 Axes>",
      "image/png": "[encoded data removed]"
     },
     "metadata": {
      "needs_background": "light"
     }
    }
   ],
   "source": [
    "chart_tracks_df[['euclidean_dist','manhattan_dist','cosine_dist']].hist()"
   ]
  },
  {
   "cell_type": "code",
   "execution_count": 13,
   "metadata": {},
   "outputs": [],
   "source": [
    "# recommendation_df['artist_name'].to_csv('artists_like_manila_grey.csv')"
   ]
  }
 ],
 "metadata": {
  "kernelspec": {
   "name": "Python 3.7.6 64-bit (conda)",
   "display_name": "Python 3.7.6 64-bit (conda)",
   "metadata": {
    "interpreter": {
     "hash": "8fac594bfae6525c0c41b4041d2d72effa188cc8ead05f81b1fab2bb098927fb"
    }
   }
  },
  "language_info": {
   "codemirror_mode": {
    "name": "ipython",
    "version": 3
   },
   "file_extension": ".py",
   "mimetype": "text/x-python",
   "name": "python",
   "nbconvert_exporter": "python",
   "pygments_lexer": "ipython3",
   "version": "3.7.6-final"
  }
 },
 "nbformat": 4,
 "nbformat_minor": 2
}