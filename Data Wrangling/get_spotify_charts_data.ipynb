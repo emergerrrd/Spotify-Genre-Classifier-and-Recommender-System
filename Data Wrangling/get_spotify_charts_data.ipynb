{
 "cells": [
  {
   "cell_type": "code",
   "execution_count": 1,
   "metadata": {
    "ExecuteTime": {
     "end_time": "2020-09-22T18:01:57.883248Z",
     "start_time": "2020-09-22T18:01:32.286873Z"
    }
   },
   "outputs": [],
   "source": [
    "import os\n",
    "\n",
    "import numpy as np\n",
    "import pandas as pd"
   ]
  },
  {
   "cell_type": "code",
   "execution_count": 2,
   "metadata": {
    "ExecuteTime": {
     "end_time": "2020-09-22T18:03:58.002361Z",
     "start_time": "2020-09-22T18:01:57.883248Z"
    },
    "scrolled": true,
    "tags": []
   },
   "outputs": [
    {
     "output_type": "stream",
     "name": "stdout",
     "text": "\tStart scraping from: 2018-05-29\n\tEnd scraping at: 2019-12-31\n\tRegion: ph\n\tOutput directory: C:/Users/User/Desktop/Eskwelabs/Sprint 3/scraped_data\nSpotify chart scraper configured! \n\nCollecting chart data from ph: 0it [00:00, ?it/s]\nDate: 2018-05-29\nhttps://spotifycharts.com/regional/ph/daily/2018-05-29/download\n\nCollecting chart data from ph: 1it [00:01,  1.23s/it]\nDate: 2018-05-30\nhttps://spotifycharts.com/regional/ph/daily/2018-05-30/download\n\nCollecting chart data from ph: 2it [00:02,  1.21s/it]\nDate: 2018-05-31\nhttps://spotifycharts.com/regional/ph/daily/2018-05-31/download\n\nCollecting chart data from ph: 3it [00:03,  1.20s/it]\nDate: 2018-06-01\nhttps://spotifycharts.com/regional/ph/daily/2018-06-01/download\n\nCollecting chart data from ph: 4it [00:04,  1.18s/it]\nDate: 2018-06-02\nhttps://spotifycharts.com/regional/ph/daily/2018-06-02/download\n\nCollecting chart data from ph: 5it [00:05,  1.16s/it]\nDate: 2018-06-03\nhttps://spotifycharts.com/regional/ph/daily/2018-06-03/download\n\nCollecting chart data from ph: 6it [00:07,  1.17s/it]\nDate: 2018-06-04\nhttps://spotifycharts.com/regional/ph/daily/2018-06-04/download\n\nCollecting chart data from ph: 7it [00:08,  1.19s/it]\nDate: 2018-06-05\nhttps://spotifycharts.com/regional/ph/daily/2018-06-05/download\n\nCollecting chart data from ph: 8it [00:09,  1.17s/it]\nDate: 2018-06-06\nhttps://spotifycharts.com/regional/ph/daily/2018-06-06/download\n\nCollecting chart data from ph: 9it [00:10,  1.15s/it]\nDate: 2018-06-07\nhttps://spotifycharts.com/regional/ph/daily/2018-06-07/download\n\nCollecting chart data from ph: 10it [00:11,  1.16s/it]\nDate: 2018-06-08\nhttps://spotifycharts.com/regional/ph/daily/2018-06-08/download\n\nCollecting chart data from ph: 11it [00:12,  1.15s/it]\nDate: 2018-06-09\nhttps://spotifycharts.com/regional/ph/daily/2018-06-09/download\n\nCollecting chart data from ph: 12it [00:13,  1.15s/it]\nDate: 2018-06-10\nhttps://spotifycharts.com/regional/ph/daily/2018-06-10/download\n\nCollecting chart data from ph: 13it [00:15,  1.17s/it]\nDate: 2018-06-11\nhttps://spotifycharts.com/regional/ph/daily/2018-06-11/download\n\nCollecting chart data from ph: 14it [00:16,  1.17s/it]\nDate: 2018-06-12\nhttps://spotifycharts.com/regional/ph/daily/2018-06-12/download\n\nCollecting chart data from ph: 15it [00:17,  1.18s/it]\nDate: 2018-06-13\nhttps://spotifycharts.com/regional/ph/daily/2018-06-13/download\n\nCollecting chart data from ph: 16it [00:18,  1.18s/it]\nDate: 2018-06-14\nhttps://spotifycharts.com/regional/ph/daily/2018-06-14/download\n\nCollecting chart data from ph: 17it [00:19,  1.16s/it]\nDate: 2018-06-15\nhttps://spotifycharts.com/regional/ph/daily/2018-06-15/download\n\nCollecting chart data from ph: 18it [00:20,  1.16s/it]\nDate: 2018-06-16\nhttps://spotifycharts.com/regional/ph/daily/2018-06-16/download\n\nCollecting chart data from ph: 19it [00:22,  1.16s/it]\nDate: 2018-06-17\nhttps://spotifycharts.com/regional/ph/daily/2018-06-17/download\n"
    }
   ],
   "source": [
    "%run scrape_spotify_charts.py"
   ]
  },
  {
   "cell_type": "code",
   "execution_count": null,
   "metadata": {},
   "outputs": [],
   "source": []
  }
 ],
 "metadata": {
  "kernelspec": {
   "name": "Python 3.7.6 64-bit (conda)",
   "display_name": "Python 3.7.6 64-bit (conda)",
   "metadata": {
    "interpreter": {
     "hash": "8fac594bfae6525c0c41b4041d2d72effa188cc8ead05f81b1fab2bb098927fb"
    }
   }
  },
  "language_info": {
   "codemirror_mode": {
    "name": "ipython",
    "version": 3
   },
   "file_extension": ".py",
   "mimetype": "text/x-python",
   "name": "python",
   "nbconvert_exporter": "python",
   "pygments_lexer": "ipython3",
   "version": "3.7.6-final"
  }
 },
 "nbformat": 4,
 "nbformat_minor": 2
}