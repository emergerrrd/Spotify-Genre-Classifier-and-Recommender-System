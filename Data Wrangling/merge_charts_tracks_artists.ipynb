{
 "cells": [
  {
   "cell_type": "code",
   "execution_count": 38,
   "metadata": {
    "ExecuteTime": {
     "end_time": "2020-09-24T16:10:30.132434Z",
     "start_time": "2020-09-24T16:09:59.115180Z"
    }
   },
   "outputs": [],
   "source": [
    "# importing the libraries for data processing\n",
    "import numpy as np \n",
    "import pandas as pd \n"
   ]
  },
  {
   "cell_type": "code",
   "execution_count": 39,
   "metadata": {
    "ExecuteTime": {
     "end_time": "2020-09-24T16:13:59.415710Z",
     "start_time": "2020-09-24T16:13:57.552775Z"
    }
   },
   "outputs": [
    {
     "output_type": "execute_result",
     "data": {
      "text/plain": [
       "         date  position                track_id                  track_name  \\\n",
       "0  2018-01-01         1  0ofbQMrRDsUaVKq2mGLEAb                      Havana   \n",
       "1  2018-01-01         2  0tgVpDi06FyKpA1z0VMD4v                     Perfect   \n",
       "2  2018-01-01         3  3hBBKuWJfxlIlnd9QFoC8k  What Lovers Do (feat. SZA)   \n",
       "3  2018-01-01         4  1mXVgsBdtIVeCLJnSnmtdV        Too Good At Goodbyes   \n",
       "4  2018-01-01         5  2ekn2ttSfGqwhhate0LSR0                   New Rules   \n",
       "\n",
       "           artist  streams  \n",
       "0  Camila Cabello   155633  \n",
       "1      Ed Sheeran   134756  \n",
       "2        Maroon 5   130898  \n",
       "3       Sam Smith   130798  \n",
       "4        Dua Lipa   125472  "
      ],
      "text/html": "<div>\n<style scoped>\n    .dataframe tbody tr th:only-of-type {\n        vertical-align: middle;\n    }\n\n    .dataframe tbody tr th {\n        vertical-align: top;\n    }\n\n    .dataframe thead th {\n        text-align: right;\n    }\n</style>\n<table border=\"1\" class=\"dataframe\">\n  <thead>\n    <tr style=\"text-align: right;\">\n      <th></th>\n      <th>date</th>\n      <th>position</th>\n      <th>track_id</th>\n      <th>track_name</th>\n      <th>artist</th>\n      <th>streams</th>\n    </tr>\n  </thead>\n  <tbody>\n    <tr>\n      <th>0</th>\n      <td>2018-01-01</td>\n      <td>1</td>\n      <td>0ofbQMrRDsUaVKq2mGLEAb</td>\n      <td>Havana</td>\n      <td>Camila Cabello</td>\n      <td>155633</td>\n    </tr>\n    <tr>\n      <th>1</th>\n      <td>2018-01-01</td>\n      <td>2</td>\n      <td>0tgVpDi06FyKpA1z0VMD4v</td>\n      <td>Perfect</td>\n      <td>Ed Sheeran</td>\n      <td>134756</td>\n    </tr>\n    <tr>\n      <th>2</th>\n      <td>2018-01-01</td>\n      <td>3</td>\n      <td>3hBBKuWJfxlIlnd9QFoC8k</td>\n      <td>What Lovers Do (feat. SZA)</td>\n      <td>Maroon 5</td>\n      <td>130898</td>\n    </tr>\n    <tr>\n      <th>3</th>\n      <td>2018-01-01</td>\n      <td>4</td>\n      <td>1mXVgsBdtIVeCLJnSnmtdV</td>\n      <td>Too Good At Goodbyes</td>\n      <td>Sam Smith</td>\n      <td>130798</td>\n    </tr>\n    <tr>\n      <th>4</th>\n      <td>2018-01-01</td>\n      <td>5</td>\n      <td>2ekn2ttSfGqwhhate0LSR0</td>\n      <td>New Rules</td>\n      <td>Dua Lipa</td>\n      <td>125472</td>\n    </tr>\n  </tbody>\n</table>\n</div>"
     },
     "metadata": {},
     "execution_count": 39
    }
   ],
   "source": [
    "# read the charts dataset\n",
    "charts_df = pd.read_csv('data/spotify_daily_charts.csv')\n",
    "charts_df.head()"
   ]
  },
  {
   "cell_type": "code",
   "execution_count": 40,
   "metadata": {
    "ExecuteTime": {
     "end_time": "2020-09-30T15:39:38.555482Z",
     "start_time": "2020-09-30T15:39:38.101740Z"
    }
   },
   "outputs": [
    {
     "output_type": "execute_result",
     "data": {
      "text/plain": [
       "                 track_id                  track_name               artist_id  \\\n",
       "0  0ofbQMrRDsUaVKq2mGLEAb                      Havana  4nDoRrQiYLoBzwC5BhVJzF   \n",
       "1  0tgVpDi06FyKpA1z0VMD4v                     Perfect  6eUKZXaKkcviH0Ku9w2n3V   \n",
       "2  3hBBKuWJfxlIlnd9QFoC8k  What Lovers Do (feat. SZA)  04gDigrS5kc9YWfZHwBETP   \n",
       "3  1mXVgsBdtIVeCLJnSnmtdV        Too Good At Goodbyes  2wY79sveU1sp5g7SokKOiI   \n",
       "4  2ekn2ttSfGqwhhate0LSR0                   New Rules  6M2wZ9GZgrQXHCFfjv46we   \n",
       "\n",
       "      artist_name                album_id  duration release_date  popularity  \\\n",
       "0  Camila Cabello  5chBPOVY2I0bG5V3igb5QL    216896   2017-08-03           5   \n",
       "1      Ed Sheeran  3T4tUhGYeRNVUGevb0wThu    263400   2017-03-03          86   \n",
       "2        Maroon 5  1Jmq5HEJeA9kNi2SgQul4U    199849   2017-11-03           5   \n",
       "3       Sam Smith  3TJz2UBNYJtlEly0sPeNrQ    201000   2017-11-03          81   \n",
       "4        Dua Lipa  01sfgrNbnnPUEyz6GZYlt9    209320   2017-06-02          81   \n",
       "\n",
       "   danceability  energy  key  loudness  mode  speechiness  acousticness  \\\n",
       "0         0.768   0.517    7    -4.323     0       0.0312       0.18600   \n",
       "1         0.599   0.448    8    -6.312     1       0.0232       0.16300   \n",
       "2         0.795   0.615    5    -5.211     0       0.0671       0.07860   \n",
       "3         0.681   0.372    5    -8.237     1       0.0432       0.64000   \n",
       "4         0.762   0.700    9    -6.021     0       0.0694       0.00261   \n",
       "\n",
       "   instrumentalness  liveness  valence    tempo  \n",
       "0          0.000038    0.1040    0.418  104.992  \n",
       "1          0.000000    0.1060    0.168   95.050  \n",
       "2          0.000003    0.0855    0.393  110.009  \n",
       "3          0.000000    0.1690    0.476   91.873  \n",
       "4          0.000016    0.1530    0.608  116.073  "
      ],
      "text/html": "<div>\n<style scoped>\n    .dataframe tbody tr th:only-of-type {\n        vertical-align: middle;\n    }\n\n    .dataframe tbody tr th {\n        vertical-align: top;\n    }\n\n    .dataframe thead th {\n        text-align: right;\n    }\n</style>\n<table border=\"1\" class=\"dataframe\">\n  <thead>\n    <tr style=\"text-align: right;\">\n      <th></th>\n      <th>track_id</th>\n      <th>track_name</th>\n      <th>artist_id</th>\n      <th>artist_name</th>\n      <th>album_id</th>\n      <th>duration</th>\n      <th>release_date</th>\n      <th>popularity</th>\n      <th>danceability</th>\n      <th>energy</th>\n      <th>key</th>\n      <th>loudness</th>\n      <th>mode</th>\n      <th>speechiness</th>\n      <th>acousticness</th>\n      <th>instrumentalness</th>\n      <th>liveness</th>\n      <th>valence</th>\n      <th>tempo</th>\n    </tr>\n  </thead>\n  <tbody>\n    <tr>\n      <th>0</th>\n      <td>0ofbQMrRDsUaVKq2mGLEAb</td>\n      <td>Havana</td>\n      <td>4nDoRrQiYLoBzwC5BhVJzF</td>\n      <td>Camila Cabello</td>\n      <td>5chBPOVY2I0bG5V3igb5QL</td>\n      <td>216896</td>\n      <td>2017-08-03</td>\n      <td>5</td>\n      <td>0.768</td>\n      <td>0.517</td>\n      <td>7</td>\n      <td>-4.323</td>\n      <td>0</td>\n      <td>0.0312</td>\n      <td>0.18600</td>\n      <td>0.000038</td>\n      <td>0.1040</td>\n      <td>0.418</td>\n      <td>104.992</td>\n    </tr>\n    <tr>\n      <th>1</th>\n      <td>0tgVpDi06FyKpA1z0VMD4v</td>\n      <td>Perfect</td>\n      <td>6eUKZXaKkcviH0Ku9w2n3V</td>\n      <td>Ed Sheeran</td>\n      <td>3T4tUhGYeRNVUGevb0wThu</td>\n      <td>263400</td>\n      <td>2017-03-03</td>\n      <td>86</td>\n      <td>0.599</td>\n      <td>0.448</td>\n      <td>8</td>\n      <td>-6.312</td>\n      <td>1</td>\n      <td>0.0232</td>\n      <td>0.16300</td>\n      <td>0.000000</td>\n      <td>0.1060</td>\n      <td>0.168</td>\n      <td>95.050</td>\n    </tr>\n    <tr>\n      <th>2</th>\n      <td>3hBBKuWJfxlIlnd9QFoC8k</td>\n      <td>What Lovers Do (feat. SZA)</td>\n      <td>04gDigrS5kc9YWfZHwBETP</td>\n      <td>Maroon 5</td>\n      <td>1Jmq5HEJeA9kNi2SgQul4U</td>\n      <td>199849</td>\n      <td>2017-11-03</td>\n      <td>5</td>\n      <td>0.795</td>\n      <td>0.615</td>\n      <td>5</td>\n      <td>-5.211</td>\n      <td>0</td>\n      <td>0.0671</td>\n      <td>0.07860</td>\n      <td>0.000003</td>\n      <td>0.0855</td>\n      <td>0.393</td>\n      <td>110.009</td>\n    </tr>\n    <tr>\n      <th>3</th>\n      <td>1mXVgsBdtIVeCLJnSnmtdV</td>\n      <td>Too Good At Goodbyes</td>\n      <td>2wY79sveU1sp5g7SokKOiI</td>\n      <td>Sam Smith</td>\n      <td>3TJz2UBNYJtlEly0sPeNrQ</td>\n      <td>201000</td>\n      <td>2017-11-03</td>\n      <td>81</td>\n      <td>0.681</td>\n      <td>0.372</td>\n      <td>5</td>\n      <td>-8.237</td>\n      <td>1</td>\n      <td>0.0432</td>\n      <td>0.64000</td>\n      <td>0.000000</td>\n      <td>0.1690</td>\n      <td>0.476</td>\n      <td>91.873</td>\n    </tr>\n    <tr>\n      <th>4</th>\n      <td>2ekn2ttSfGqwhhate0LSR0</td>\n      <td>New Rules</td>\n      <td>6M2wZ9GZgrQXHCFfjv46we</td>\n      <td>Dua Lipa</td>\n      <td>01sfgrNbnnPUEyz6GZYlt9</td>\n      <td>209320</td>\n      <td>2017-06-02</td>\n      <td>81</td>\n      <td>0.762</td>\n      <td>0.700</td>\n      <td>9</td>\n      <td>-6.021</td>\n      <td>0</td>\n      <td>0.0694</td>\n      <td>0.00261</td>\n      <td>0.000016</td>\n      <td>0.1530</td>\n      <td>0.608</td>\n      <td>116.073</td>\n    </tr>\n  </tbody>\n</table>\n</div>"
     },
     "metadata": {},
     "execution_count": 40
    }
   ],
   "source": [
    "# read the tracks dataset\n",
    "tracks_df = pd.read_csv('data/spotify_daily_charts_tracks.csv')\n",
    "tracks_df.head()"
   ]
  },
  {
   "cell_type": "code",
   "execution_count": 41,
   "metadata": {
    "ExecuteTime": {
     "end_time": "2020-09-30T15:39:38.934266Z",
     "start_time": "2020-09-30T15:39:38.559478Z"
    },
    "scrolled": true
   },
   "outputs": [
    {
     "output_type": "execute_result",
     "data": {
      "text/plain": [
       "         date  position                track_id                track_name_x  \\\n",
       "0  2018-01-01         1  0ofbQMrRDsUaVKq2mGLEAb                      Havana   \n",
       "1  2018-01-01         2  0tgVpDi06FyKpA1z0VMD4v                     Perfect   \n",
       "2  2018-01-01         3  3hBBKuWJfxlIlnd9QFoC8k  What Lovers Do (feat. SZA)   \n",
       "3  2018-01-01         4  1mXVgsBdtIVeCLJnSnmtdV        Too Good At Goodbyes   \n",
       "4  2018-01-01         5  2ekn2ttSfGqwhhate0LSR0                   New Rules   \n",
       "\n",
       "           artist  streams                track_name_y  \\\n",
       "0  Camila Cabello   155633                      Havana   \n",
       "1      Ed Sheeran   134756                     Perfect   \n",
       "2        Maroon 5   130898  What Lovers Do (feat. SZA)   \n",
       "3       Sam Smith   130798        Too Good At Goodbyes   \n",
       "4        Dua Lipa   125472                   New Rules   \n",
       "\n",
       "                artist_id     artist_name                album_id  ...  \\\n",
       "0  4nDoRrQiYLoBzwC5BhVJzF  Camila Cabello  5chBPOVY2I0bG5V3igb5QL  ...   \n",
       "1  6eUKZXaKkcviH0Ku9w2n3V      Ed Sheeran  3T4tUhGYeRNVUGevb0wThu  ...   \n",
       "2  04gDigrS5kc9YWfZHwBETP        Maroon 5  1Jmq5HEJeA9kNi2SgQul4U  ...   \n",
       "3  2wY79sveU1sp5g7SokKOiI       Sam Smith  3TJz2UBNYJtlEly0sPeNrQ  ...   \n",
       "4  6M2wZ9GZgrQXHCFfjv46we        Dua Lipa  01sfgrNbnnPUEyz6GZYlt9  ...   \n",
       "\n",
       "   energy key  loudness  mode  speechiness  acousticness  instrumentalness  \\\n",
       "0   0.517   7    -4.323     0       0.0312       0.18600          0.000038   \n",
       "1   0.448   8    -6.312     1       0.0232       0.16300          0.000000   \n",
       "2   0.615   5    -5.211     0       0.0671       0.07860          0.000003   \n",
       "3   0.372   5    -8.237     1       0.0432       0.64000          0.000000   \n",
       "4   0.700   9    -6.021     0       0.0694       0.00261          0.000016   \n",
       "\n",
       "   liveness  valence    tempo  \n",
       "0    0.1040    0.418  104.992  \n",
       "1    0.1060    0.168   95.050  \n",
       "2    0.0855    0.393  110.009  \n",
       "3    0.1690    0.476   91.873  \n",
       "4    0.1530    0.608  116.073  \n",
       "\n",
       "[5 rows x 24 columns]"
      ],
      "text/html": "<div>\n<style scoped>\n    .dataframe tbody tr th:only-of-type {\n        vertical-align: middle;\n    }\n\n    .dataframe tbody tr th {\n        vertical-align: top;\n    }\n\n    .dataframe thead th {\n        text-align: right;\n    }\n</style>\n<table border=\"1\" class=\"dataframe\">\n  <thead>\n    <tr style=\"text-align: right;\">\n      <th></th>\n      <th>date</th>\n      <th>position</th>\n      <th>track_id</th>\n      <th>track_name_x</th>\n      <th>artist</th>\n      <th>streams</th>\n      <th>track_name_y</th>\n      <th>artist_id</th>\n      <th>artist_name</th>\n      <th>album_id</th>\n      <th>...</th>\n      <th>energy</th>\n      <th>key</th>\n      <th>loudness</th>\n      <th>mode</th>\n      <th>speechiness</th>\n      <th>acousticness</th>\n      <th>instrumentalness</th>\n      <th>liveness</th>\n      <th>valence</th>\n      <th>tempo</th>\n    </tr>\n  </thead>\n  <tbody>\n    <tr>\n      <th>0</th>\n      <td>2018-01-01</td>\n      <td>1</td>\n      <td>0ofbQMrRDsUaVKq2mGLEAb</td>\n      <td>Havana</td>\n      <td>Camila Cabello</td>\n      <td>155633</td>\n      <td>Havana</td>\n      <td>4nDoRrQiYLoBzwC5BhVJzF</td>\n      <td>Camila Cabello</td>\n      <td>5chBPOVY2I0bG5V3igb5QL</td>\n      <td>...</td>\n      <td>0.517</td>\n      <td>7</td>\n      <td>-4.323</td>\n      <td>0</td>\n      <td>0.0312</td>\n      <td>0.18600</td>\n      <td>0.000038</td>\n      <td>0.1040</td>\n      <td>0.418</td>\n      <td>104.992</td>\n    </tr>\n    <tr>\n      <th>1</th>\n      <td>2018-01-01</td>\n      <td>2</td>\n      <td>0tgVpDi06FyKpA1z0VMD4v</td>\n      <td>Perfect</td>\n      <td>Ed Sheeran</td>\n      <td>134756</td>\n      <td>Perfect</td>\n      <td>6eUKZXaKkcviH0Ku9w2n3V</td>\n      <td>Ed Sheeran</td>\n      <td>3T4tUhGYeRNVUGevb0wThu</td>\n      <td>...</td>\n      <td>0.448</td>\n      <td>8</td>\n      <td>-6.312</td>\n      <td>1</td>\n      <td>0.0232</td>\n      <td>0.16300</td>\n      <td>0.000000</td>\n      <td>0.1060</td>\n      <td>0.168</td>\n      <td>95.050</td>\n    </tr>\n    <tr>\n      <th>2</th>\n      <td>2018-01-01</td>\n      <td>3</td>\n      <td>3hBBKuWJfxlIlnd9QFoC8k</td>\n      <td>What Lovers Do (feat. SZA)</td>\n      <td>Maroon 5</td>\n      <td>130898</td>\n      <td>What Lovers Do (feat. SZA)</td>\n      <td>04gDigrS5kc9YWfZHwBETP</td>\n      <td>Maroon 5</td>\n      <td>1Jmq5HEJeA9kNi2SgQul4U</td>\n      <td>...</td>\n      <td>0.615</td>\n      <td>5</td>\n      <td>-5.211</td>\n      <td>0</td>\n      <td>0.0671</td>\n      <td>0.07860</td>\n      <td>0.000003</td>\n      <td>0.0855</td>\n      <td>0.393</td>\n      <td>110.009</td>\n    </tr>\n    <tr>\n      <th>3</th>\n      <td>2018-01-01</td>\n      <td>4</td>\n      <td>1mXVgsBdtIVeCLJnSnmtdV</td>\n      <td>Too Good At Goodbyes</td>\n      <td>Sam Smith</td>\n      <td>130798</td>\n      <td>Too Good At Goodbyes</td>\n      <td>2wY79sveU1sp5g7SokKOiI</td>\n      <td>Sam Smith</td>\n      <td>3TJz2UBNYJtlEly0sPeNrQ</td>\n      <td>...</td>\n      <td>0.372</td>\n      <td>5</td>\n      <td>-8.237</td>\n      <td>1</td>\n      <td>0.0432</td>\n      <td>0.64000</td>\n      <td>0.000000</td>\n      <td>0.1690</td>\n      <td>0.476</td>\n      <td>91.873</td>\n    </tr>\n    <tr>\n      <th>4</th>\n      <td>2018-01-01</td>\n      <td>5</td>\n      <td>2ekn2ttSfGqwhhate0LSR0</td>\n      <td>New Rules</td>\n      <td>Dua Lipa</td>\n      <td>125472</td>\n      <td>New Rules</td>\n      <td>6M2wZ9GZgrQXHCFfjv46we</td>\n      <td>Dua Lipa</td>\n      <td>01sfgrNbnnPUEyz6GZYlt9</td>\n      <td>...</td>\n      <td>0.700</td>\n      <td>9</td>\n      <td>-6.021</td>\n      <td>0</td>\n      <td>0.0694</td>\n      <td>0.00261</td>\n      <td>0.000016</td>\n      <td>0.1530</td>\n      <td>0.608</td>\n      <td>116.073</td>\n    </tr>\n  </tbody>\n</table>\n<p>5 rows × 24 columns</p>\n</div>"
     },
     "metadata": {},
     "execution_count": 41
    }
   ],
   "source": [
    "df = charts_df.merge(tracks_df, on='track_id', how='left')\n",
    "df.head()"
   ]
  },
  {
   "cell_type": "code",
   "execution_count": 42,
   "metadata": {},
   "outputs": [
    {
     "output_type": "execute_result",
     "data": {
      "text/plain": [
       "                artist_id     artist_name  total_followers  \\\n",
       "0  4nDoRrQiYLoBzwC5BhVJzF  Camila Cabello         18078605   \n",
       "1  6eUKZXaKkcviH0Ku9w2n3V      Ed Sheeran         69753264   \n",
       "2  04gDigrS5kc9YWfZHwBETP        Maroon 5         26892218   \n",
       "3  2wY79sveU1sp5g7SokKOiI       Sam Smith         13815441   \n",
       "4  6M2wZ9GZgrQXHCFfjv46we        Dua Lipa         19536508   \n",
       "\n",
       "                                  genres  popularity  \n",
       "0  ['dance pop', 'pop', 'post-teen pop']          87  \n",
       "1                      ['pop', 'uk pop']          93  \n",
       "2                    ['pop', 'pop rock']          90  \n",
       "3     ['pop', 'post-teen pop', 'uk pop']          89  \n",
       "4         ['dance pop', 'pop', 'uk pop']          93  "
      ],
      "text/html": "<div>\n<style scoped>\n    .dataframe tbody tr th:only-of-type {\n        vertical-align: middle;\n    }\n\n    .dataframe tbody tr th {\n        vertical-align: top;\n    }\n\n    .dataframe thead th {\n        text-align: right;\n    }\n</style>\n<table border=\"1\" class=\"dataframe\">\n  <thead>\n    <tr style=\"text-align: right;\">\n      <th></th>\n      <th>artist_id</th>\n      <th>artist_name</th>\n      <th>total_followers</th>\n      <th>genres</th>\n      <th>popularity</th>\n    </tr>\n  </thead>\n  <tbody>\n    <tr>\n      <th>0</th>\n      <td>4nDoRrQiYLoBzwC5BhVJzF</td>\n      <td>Camila Cabello</td>\n      <td>18078605</td>\n      <td>['dance pop', 'pop', 'post-teen pop']</td>\n      <td>87</td>\n    </tr>\n    <tr>\n      <th>1</th>\n      <td>6eUKZXaKkcviH0Ku9w2n3V</td>\n      <td>Ed Sheeran</td>\n      <td>69753264</td>\n      <td>['pop', 'uk pop']</td>\n      <td>93</td>\n    </tr>\n    <tr>\n      <th>2</th>\n      <td>04gDigrS5kc9YWfZHwBETP</td>\n      <td>Maroon 5</td>\n      <td>26892218</td>\n      <td>['pop', 'pop rock']</td>\n      <td>90</td>\n    </tr>\n    <tr>\n      <th>3</th>\n      <td>2wY79sveU1sp5g7SokKOiI</td>\n      <td>Sam Smith</td>\n      <td>13815441</td>\n      <td>['pop', 'post-teen pop', 'uk pop']</td>\n      <td>89</td>\n    </tr>\n    <tr>\n      <th>4</th>\n      <td>6M2wZ9GZgrQXHCFfjv46we</td>\n      <td>Dua Lipa</td>\n      <td>19536508</td>\n      <td>['dance pop', 'pop', 'uk pop']</td>\n      <td>93</td>\n    </tr>\n  </tbody>\n</table>\n</div>"
     },
     "metadata": {},
     "execution_count": 42
    }
   ],
   "source": [
    "# read the artists dataset\n",
    "artists_df = pd.read_csv('data/spotify_daily_charts_artists.csv')\n",
    "artists_df.head()"
   ]
  },
  {
   "cell_type": "code",
   "execution_count": 43,
   "metadata": {},
   "outputs": [
    {
     "output_type": "execute_result",
     "data": {
      "text/plain": [
       "         date  position                track_id                track_name_x  \\\n",
       "0  2018-01-01         1  0ofbQMrRDsUaVKq2mGLEAb                      Havana   \n",
       "1  2018-01-01         2  0tgVpDi06FyKpA1z0VMD4v                     Perfect   \n",
       "2  2018-01-01         3  3hBBKuWJfxlIlnd9QFoC8k  What Lovers Do (feat. SZA)   \n",
       "3  2018-01-01         4  1mXVgsBdtIVeCLJnSnmtdV        Too Good At Goodbyes   \n",
       "4  2018-01-01         5  2ekn2ttSfGqwhhate0LSR0                   New Rules   \n",
       "\n",
       "           artist  streams                track_name_y  \\\n",
       "0  Camila Cabello   155633                      Havana   \n",
       "1      Ed Sheeran   134756                     Perfect   \n",
       "2        Maroon 5   130898  What Lovers Do (feat. SZA)   \n",
       "3       Sam Smith   130798        Too Good At Goodbyes   \n",
       "4        Dua Lipa   125472                   New Rules   \n",
       "\n",
       "                artist_id   artist_name_x                album_id  ...  \\\n",
       "0  4nDoRrQiYLoBzwC5BhVJzF  Camila Cabello  5chBPOVY2I0bG5V3igb5QL  ...   \n",
       "1  6eUKZXaKkcviH0Ku9w2n3V      Ed Sheeran  3T4tUhGYeRNVUGevb0wThu  ...   \n",
       "2  04gDigrS5kc9YWfZHwBETP        Maroon 5  1Jmq5HEJeA9kNi2SgQul4U  ...   \n",
       "3  2wY79sveU1sp5g7SokKOiI       Sam Smith  3TJz2UBNYJtlEly0sPeNrQ  ...   \n",
       "4  6M2wZ9GZgrQXHCFfjv46we        Dua Lipa  01sfgrNbnnPUEyz6GZYlt9  ...   \n",
       "\n",
       "   speechiness acousticness  instrumentalness  liveness  valence    tempo  \\\n",
       "0       0.0312      0.18600          0.000038    0.1040    0.418  104.992   \n",
       "1       0.0232      0.16300          0.000000    0.1060    0.168   95.050   \n",
       "2       0.0671      0.07860          0.000003    0.0855    0.393  110.009   \n",
       "3       0.0432      0.64000          0.000000    0.1690    0.476   91.873   \n",
       "4       0.0694      0.00261          0.000016    0.1530    0.608  116.073   \n",
       "\n",
       "    artist_name_y  total_followers                                 genres  \\\n",
       "0  Camila Cabello         18078605  ['dance pop', 'pop', 'post-teen pop']   \n",
       "1      Ed Sheeran         69753264                      ['pop', 'uk pop']   \n",
       "2        Maroon 5         26892218                    ['pop', 'pop rock']   \n",
       "3       Sam Smith         13815441     ['pop', 'post-teen pop', 'uk pop']   \n",
       "4        Dua Lipa         19536508         ['dance pop', 'pop', 'uk pop']   \n",
       "\n",
       "   popularity_y  \n",
       "0            87  \n",
       "1            93  \n",
       "2            90  \n",
       "3            89  \n",
       "4            93  \n",
       "\n",
       "[5 rows x 28 columns]"
      ],
      "text/html": "<div>\n<style scoped>\n    .dataframe tbody tr th:only-of-type {\n        vertical-align: middle;\n    }\n\n    .dataframe tbody tr th {\n        vertical-align: top;\n    }\n\n    .dataframe thead th {\n        text-align: right;\n    }\n</style>\n<table border=\"1\" class=\"dataframe\">\n  <thead>\n    <tr style=\"text-align: right;\">\n      <th></th>\n      <th>date</th>\n      <th>position</th>\n      <th>track_id</th>\n      <th>track_name_x</th>\n      <th>artist</th>\n      <th>streams</th>\n      <th>track_name_y</th>\n      <th>artist_id</th>\n      <th>artist_name_x</th>\n      <th>album_id</th>\n      <th>...</th>\n      <th>speechiness</th>\n      <th>acousticness</th>\n      <th>instrumentalness</th>\n      <th>liveness</th>\n      <th>valence</th>\n      <th>tempo</th>\n      <th>artist_name_y</th>\n      <th>total_followers</th>\n      <th>genres</th>\n      <th>popularity_y</th>\n    </tr>\n  </thead>\n  <tbody>\n    <tr>\n      <th>0</th>\n      <td>2018-01-01</td>\n      <td>1</td>\n      <td>0ofbQMrRDsUaVKq2mGLEAb</td>\n      <td>Havana</td>\n      <td>Camila Cabello</td>\n      <td>155633</td>\n      <td>Havana</td>\n      <td>4nDoRrQiYLoBzwC5BhVJzF</td>\n      <td>Camila Cabello</td>\n      <td>5chBPOVY2I0bG5V3igb5QL</td>\n      <td>...</td>\n      <td>0.0312</td>\n      <td>0.18600</td>\n      <td>0.000038</td>\n      <td>0.1040</td>\n      <td>0.418</td>\n      <td>104.992</td>\n      <td>Camila Cabello</td>\n      <td>18078605</td>\n      <td>['dance pop', 'pop', 'post-teen pop']</td>\n      <td>87</td>\n    </tr>\n    <tr>\n      <th>1</th>\n      <td>2018-01-01</td>\n      <td>2</td>\n      <td>0tgVpDi06FyKpA1z0VMD4v</td>\n      <td>Perfect</td>\n      <td>Ed Sheeran</td>\n      <td>134756</td>\n      <td>Perfect</td>\n      <td>6eUKZXaKkcviH0Ku9w2n3V</td>\n      <td>Ed Sheeran</td>\n      <td>3T4tUhGYeRNVUGevb0wThu</td>\n      <td>...</td>\n      <td>0.0232</td>\n      <td>0.16300</td>\n      <td>0.000000</td>\n      <td>0.1060</td>\n      <td>0.168</td>\n      <td>95.050</td>\n      <td>Ed Sheeran</td>\n      <td>69753264</td>\n      <td>['pop', 'uk pop']</td>\n      <td>93</td>\n    </tr>\n    <tr>\n      <th>2</th>\n      <td>2018-01-01</td>\n      <td>3</td>\n      <td>3hBBKuWJfxlIlnd9QFoC8k</td>\n      <td>What Lovers Do (feat. SZA)</td>\n      <td>Maroon 5</td>\n      <td>130898</td>\n      <td>What Lovers Do (feat. SZA)</td>\n      <td>04gDigrS5kc9YWfZHwBETP</td>\n      <td>Maroon 5</td>\n      <td>1Jmq5HEJeA9kNi2SgQul4U</td>\n      <td>...</td>\n      <td>0.0671</td>\n      <td>0.07860</td>\n      <td>0.000003</td>\n      <td>0.0855</td>\n      <td>0.393</td>\n      <td>110.009</td>\n      <td>Maroon 5</td>\n      <td>26892218</td>\n      <td>['pop', 'pop rock']</td>\n      <td>90</td>\n    </tr>\n    <tr>\n      <th>3</th>\n      <td>2018-01-01</td>\n      <td>4</td>\n      <td>1mXVgsBdtIVeCLJnSnmtdV</td>\n      <td>Too Good At Goodbyes</td>\n      <td>Sam Smith</td>\n      <td>130798</td>\n      <td>Too Good At Goodbyes</td>\n      <td>2wY79sveU1sp5g7SokKOiI</td>\n      <td>Sam Smith</td>\n      <td>3TJz2UBNYJtlEly0sPeNrQ</td>\n      <td>...</td>\n      <td>0.0432</td>\n      <td>0.64000</td>\n      <td>0.000000</td>\n      <td>0.1690</td>\n      <td>0.476</td>\n      <td>91.873</td>\n      <td>Sam Smith</td>\n      <td>13815441</td>\n      <td>['pop', 'post-teen pop', 'uk pop']</td>\n      <td>89</td>\n    </tr>\n    <tr>\n      <th>4</th>\n      <td>2018-01-01</td>\n      <td>5</td>\n      <td>2ekn2ttSfGqwhhate0LSR0</td>\n      <td>New Rules</td>\n      <td>Dua Lipa</td>\n      <td>125472</td>\n      <td>New Rules</td>\n      <td>6M2wZ9GZgrQXHCFfjv46we</td>\n      <td>Dua Lipa</td>\n      <td>01sfgrNbnnPUEyz6GZYlt9</td>\n      <td>...</td>\n      <td>0.0694</td>\n      <td>0.00261</td>\n      <td>0.000016</td>\n      <td>0.1530</td>\n      <td>0.608</td>\n      <td>116.073</td>\n      <td>Dua Lipa</td>\n      <td>19536508</td>\n      <td>['dance pop', 'pop', 'uk pop']</td>\n      <td>93</td>\n    </tr>\n  </tbody>\n</table>\n<p>5 rows × 28 columns</p>\n</div>"
     },
     "metadata": {},
     "execution_count": 43
    }
   ],
   "source": [
    "df = df.merge(artists_df, on='artist_id', how='left')\n",
    "df.head()"
   ]
  },
  {
   "cell_type": "code",
   "execution_count": 46,
   "metadata": {},
   "outputs": [
    {
     "output_type": "execute_result",
     "data": {
      "text/plain": [
       "         date  position                track_id                  track_name  \\\n",
       "0  2018-01-01         1  0ofbQMrRDsUaVKq2mGLEAb                      Havana   \n",
       "1  2018-01-01         2  0tgVpDi06FyKpA1z0VMD4v                     Perfect   \n",
       "2  2018-01-01         3  3hBBKuWJfxlIlnd9QFoC8k  What Lovers Do (feat. SZA)   \n",
       "3  2018-01-01         4  1mXVgsBdtIVeCLJnSnmtdV        Too Good At Goodbyes   \n",
       "4  2018-01-01         5  2ekn2ttSfGqwhhate0LSR0                   New Rules   \n",
       "\n",
       "           artist  streams               artist_id     artist_name  \\\n",
       "0  Camila Cabello   155633  4nDoRrQiYLoBzwC5BhVJzF  Camila Cabello   \n",
       "1      Ed Sheeran   134756  6eUKZXaKkcviH0Ku9w2n3V      Ed Sheeran   \n",
       "2        Maroon 5   130898  04gDigrS5kc9YWfZHwBETP        Maroon 5   \n",
       "3       Sam Smith   130798  2wY79sveU1sp5g7SokKOiI       Sam Smith   \n",
       "4        Dua Lipa   125472  6M2wZ9GZgrQXHCFfjv46we        Dua Lipa   \n",
       "\n",
       "                 album_id  duration  ... mode  speechiness  acousticness  \\\n",
       "0  5chBPOVY2I0bG5V3igb5QL    216896  ...    0       0.0312       0.18600   \n",
       "1  3T4tUhGYeRNVUGevb0wThu    263400  ...    1       0.0232       0.16300   \n",
       "2  1Jmq5HEJeA9kNi2SgQul4U    199849  ...    0       0.0671       0.07860   \n",
       "3  3TJz2UBNYJtlEly0sPeNrQ    201000  ...    1       0.0432       0.64000   \n",
       "4  01sfgrNbnnPUEyz6GZYlt9    209320  ...    0       0.0694       0.00261   \n",
       "\n",
       "   instrumentalness  liveness  valence    tempo  total_followers  \\\n",
       "0          0.000038    0.1040    0.418  104.992         18078605   \n",
       "1          0.000000    0.1060    0.168   95.050         69753264   \n",
       "2          0.000003    0.0855    0.393  110.009         26892218   \n",
       "3          0.000000    0.1690    0.476   91.873         13815441   \n",
       "4          0.000016    0.1530    0.608  116.073         19536508   \n",
       "\n",
       "                                  genres  artist_popularity  \n",
       "0  ['dance pop', 'pop', 'post-teen pop']                 87  \n",
       "1                      ['pop', 'uk pop']                 93  \n",
       "2                    ['pop', 'pop rock']                 90  \n",
       "3     ['pop', 'post-teen pop', 'uk pop']                 89  \n",
       "4         ['dance pop', 'pop', 'uk pop']                 93  \n",
       "\n",
       "[5 rows x 26 columns]"
      ],
      "text/html": "<div>\n<style scoped>\n    .dataframe tbody tr th:only-of-type {\n        vertical-align: middle;\n    }\n\n    .dataframe tbody tr th {\n        vertical-align: top;\n    }\n\n    .dataframe thead th {\n        text-align: right;\n    }\n</style>\n<table border=\"1\" class=\"dataframe\">\n  <thead>\n    <tr style=\"text-align: right;\">\n      <th></th>\n      <th>date</th>\n      <th>position</th>\n      <th>track_id</th>\n      <th>track_name</th>\n      <th>artist</th>\n      <th>streams</th>\n      <th>artist_id</th>\n      <th>artist_name</th>\n      <th>album_id</th>\n      <th>duration</th>\n      <th>...</th>\n      <th>mode</th>\n      <th>speechiness</th>\n      <th>acousticness</th>\n      <th>instrumentalness</th>\n      <th>liveness</th>\n      <th>valence</th>\n      <th>tempo</th>\n      <th>total_followers</th>\n      <th>genres</th>\n      <th>artist_popularity</th>\n    </tr>\n  </thead>\n  <tbody>\n    <tr>\n      <th>0</th>\n      <td>2018-01-01</td>\n      <td>1</td>\n      <td>0ofbQMrRDsUaVKq2mGLEAb</td>\n      <td>Havana</td>\n      <td>Camila Cabello</td>\n      <td>155633</td>\n      <td>4nDoRrQiYLoBzwC5BhVJzF</td>\n      <td>Camila Cabello</td>\n      <td>5chBPOVY2I0bG5V3igb5QL</td>\n      <td>216896</td>\n      <td>...</td>\n      <td>0</td>\n      <td>0.0312</td>\n      <td>0.18600</td>\n      <td>0.000038</td>\n      <td>0.1040</td>\n      <td>0.418</td>\n      <td>104.992</td>\n      <td>18078605</td>\n      <td>['dance pop', 'pop', 'post-teen pop']</td>\n      <td>87</td>\n    </tr>\n    <tr>\n      <th>1</th>\n      <td>2018-01-01</td>\n      <td>2</td>\n      <td>0tgVpDi06FyKpA1z0VMD4v</td>\n      <td>Perfect</td>\n      <td>Ed Sheeran</td>\n      <td>134756</td>\n      <td>6eUKZXaKkcviH0Ku9w2n3V</td>\n      <td>Ed Sheeran</td>\n      <td>3T4tUhGYeRNVUGevb0wThu</td>\n      <td>263400</td>\n      <td>...</td>\n      <td>1</td>\n      <td>0.0232</td>\n      <td>0.16300</td>\n      <td>0.000000</td>\n      <td>0.1060</td>\n      <td>0.168</td>\n      <td>95.050</td>\n      <td>69753264</td>\n      <td>['pop', 'uk pop']</td>\n      <td>93</td>\n    </tr>\n    <tr>\n      <th>2</th>\n      <td>2018-01-01</td>\n      <td>3</td>\n      <td>3hBBKuWJfxlIlnd9QFoC8k</td>\n      <td>What Lovers Do (feat. SZA)</td>\n      <td>Maroon 5</td>\n      <td>130898</td>\n      <td>04gDigrS5kc9YWfZHwBETP</td>\n      <td>Maroon 5</td>\n      <td>1Jmq5HEJeA9kNi2SgQul4U</td>\n      <td>199849</td>\n      <td>...</td>\n      <td>0</td>\n      <td>0.0671</td>\n      <td>0.07860</td>\n      <td>0.000003</td>\n      <td>0.0855</td>\n      <td>0.393</td>\n      <td>110.009</td>\n      <td>26892218</td>\n      <td>['pop', 'pop rock']</td>\n      <td>90</td>\n    </tr>\n    <tr>\n      <th>3</th>\n      <td>2018-01-01</td>\n      <td>4</td>\n      <td>1mXVgsBdtIVeCLJnSnmtdV</td>\n      <td>Too Good At Goodbyes</td>\n      <td>Sam Smith</td>\n      <td>130798</td>\n      <td>2wY79sveU1sp5g7SokKOiI</td>\n      <td>Sam Smith</td>\n      <td>3TJz2UBNYJtlEly0sPeNrQ</td>\n      <td>201000</td>\n      <td>...</td>\n      <td>1</td>\n      <td>0.0432</td>\n      <td>0.64000</td>\n      <td>0.000000</td>\n      <td>0.1690</td>\n      <td>0.476</td>\n      <td>91.873</td>\n      <td>13815441</td>\n      <td>['pop', 'post-teen pop', 'uk pop']</td>\n      <td>89</td>\n    </tr>\n    <tr>\n      <th>4</th>\n      <td>2018-01-01</td>\n      <td>5</td>\n      <td>2ekn2ttSfGqwhhate0LSR0</td>\n      <td>New Rules</td>\n      <td>Dua Lipa</td>\n      <td>125472</td>\n      <td>6M2wZ9GZgrQXHCFfjv46we</td>\n      <td>Dua Lipa</td>\n      <td>01sfgrNbnnPUEyz6GZYlt9</td>\n      <td>209320</td>\n      <td>...</td>\n      <td>0</td>\n      <td>0.0694</td>\n      <td>0.00261</td>\n      <td>0.000016</td>\n      <td>0.1530</td>\n      <td>0.608</td>\n      <td>116.073</td>\n      <td>19536508</td>\n      <td>['dance pop', 'pop', 'uk pop']</td>\n      <td>93</td>\n    </tr>\n  </tbody>\n</table>\n<p>5 rows × 26 columns</p>\n</div>"
     },
     "metadata": {},
     "execution_count": 46
    }
   ],
   "source": [
    "df = df.rename(columns={'artist_name_x': 'artist_name', 'track_name_x': 'track_name', 'popularity_x': 'track_popularity', 'popularity_y': 'artist_popularity'})\n",
    "df = df.drop(['track_name_y', 'artist_name_y'], 1)\n",
    "df.head()"
   ]
  },
  {
   "cell_type": "code",
   "execution_count": 47,
   "metadata": {},
   "outputs": [],
   "source": [
    "df.to_csv('df_charts_tracks_artists.csv')"
   ]
  }
 ],
 "metadata": {
  "kernelspec": {
   "name": "Python 3.7.6 64-bit (conda)",
   "display_name": "Python 3.7.6 64-bit (conda)",
   "metadata": {
    "interpreter": {
     "hash": "8fac594bfae6525c0c41b4041d2d72effa188cc8ead05f81b1fab2bb098927fb"
    }
   }
  },
  "language_info": {
   "codemirror_mode": {
    "name": "ipython",
    "version": 3
   },
   "file_extension": ".py",
   "mimetype": "text/x-python",
   "name": "python",
   "nbconvert_exporter": "python",
   "pygments_lexer": "ipython3",
   "version": "3.7.6-final"
  }
 },
 "nbformat": 4,
 "nbformat_minor": 2
}