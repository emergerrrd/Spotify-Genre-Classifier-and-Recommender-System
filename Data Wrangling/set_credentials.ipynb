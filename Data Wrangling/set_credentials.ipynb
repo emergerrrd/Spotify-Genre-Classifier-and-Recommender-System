{
 "cells": [
  {
   "cell_type": "code",
   "execution_count": 4,
   "metadata": {
    "ExecuteTime": {
     "end_time": "2020-09-19T15:55:19.131042Z",
     "start_time": "2020-09-19T15:55:18.783238Z"
    }
   },
   "outputs": [],
   "source": [
    "import keyring\n",
    "import getpass"
   ]
  },
  {
   "cell_type": "code",
   "execution_count": 6,
   "metadata": {
    "ExecuteTime": {
     "end_time": "2020-09-19T16:04:48.972688Z",
     "start_time": "2020-09-19T16:04:47.348398Z"
    }
   },
   "outputs": [],
   "source": [
    "keyring.set_password('spotify', 'cid', getpass.getpass())"
   ]
  },
  {
   "cell_type": "code",
   "execution_count": 7,
   "metadata": {
    "ExecuteTime": {
     "end_time": "2020-09-19T16:05:03.011219Z",
     "start_time": "2020-09-19T16:04:54.222572Z"
    }
   },
   "outputs": [],
   "source": [
    "keyring.set_password('spotify', 'secret', getpass.getpass())"
   ]
  }
 ],
 "metadata": {
  "kernelspec": {
   "display_name": "Python 3.7.6 64-bit (conda)",
   "language": "python",
   "name": "python_defaultSpec_1601895896414"
  },
  "language_info": {
   "codemirror_mode": {
    "name": "ipython",
    "version": 3
   },
   "file_extension": ".py",
   "mimetype": "text/x-python",
   "name": "python",
   "nbconvert_exporter": "python",
   "pygments_lexer": "ipython3",
   "version": "3.7.6-final"
  }
 },
 "nbformat": 4,
 "nbformat_minor": 2
}