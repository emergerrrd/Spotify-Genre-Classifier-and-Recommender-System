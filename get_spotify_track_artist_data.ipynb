{
 "cells": [
  {
   "cell_type": "code",
   "execution_count": 1,
   "metadata": {
    "ExecuteTime": {
     "end_time": "2020-09-23T18:30:47.877350Z",
     "start_time": "2020-09-23T18:30:46.179130Z"
    }
   },
   "outputs": [],
   "source": [
    "import numpy as np\n",
    "import pandas as pd\n",
    "\n",
    "import spotipy\n",
    "from spotipy.oauth2 import SpotifyClientCredentials\n",
    "\n",
    "import keyring\n",
    "import time\n",
    "\n",
    "pd.set_option('display.max_rows', 500)\n",
    "pd.set_option('display.max_columns', 500)\n",
    "pd.set_option('display.width', 1000)"
   ]
  },
  {
   "cell_type": "markdown",
   "metadata": {},
   "source": [
    "## Setup Spotipy credentials and query wrapper"
   ]
  },
  {
   "cell_type": "code",
   "execution_count": 2,
   "metadata": {
    "ExecuteTime": {
     "end_time": "2020-09-23T18:30:47.909340Z",
     "start_time": "2020-09-23T18:30:47.877350Z"
    }
   },
   "outputs": [],
   "source": [
    "client_credentials_manager = SpotifyClientCredentials(client_id=keyring.get_password('spotify', 'cid'),\n",
    "                                                      client_secret=keyring.get_password('spotify', 'secret') )\n",
    "sp = spotipy.Spotify(client_credentials_manager = client_credentials_manager)"
   ]
  },
  {
   "cell_type": "markdown",
   "metadata": {},
   "source": [
    "## Get sample artists data"
   ]
  },
  {
   "cell_type": "code",
   "execution_count": 3,
   "metadata": {
    "ExecuteTime": {
     "end_time": "2020-09-23T18:30:48.113505Z",
     "start_time": "2020-09-23T18:30:47.929338Z"
    }
   },
   "outputs": [],
   "source": [
    "artist_id = '2YZyLoL8N0Wb9xBt1NhZWg'"
   ]
  },
  {
   "cell_type": "code",
   "execution_count": 4,
   "metadata": {
    "ExecuteTime": {
     "end_time": "2020-09-23T18:30:49.876271Z",
     "start_time": "2020-09-23T18:30:48.113505Z"
    }
   },
   "outputs": [
    {
     "output_type": "execute_result",
     "data": {
      "text/plain": "{&#39;external_urls&#39;: {&#39;spotify&#39;: &#39;https://open.spotify.com/artist/2YZyLoL8N0Wb9xBt1NhZWg&#39;},\n &#39;followers&#39;: {&#39;href&#39;: None, &#39;total&#39;: 15554576},\n &#39;genres&#39;: [&#39;conscious hip hop&#39;, &#39;hip hop&#39;, &#39;rap&#39;, &#39;west coast rap&#39;],\n &#39;href&#39;: &#39;https://api.spotify.com/v1/artists/2YZyLoL8N0Wb9xBt1NhZWg&#39;,\n &#39;id&#39;: &#39;2YZyLoL8N0Wb9xBt1NhZWg&#39;,\n &#39;images&#39;: [{&#39;height&#39;: 640,\n   &#39;url&#39;: &#39;https://i.scdn.co/image/3a836196bfb341f736c7fe2704fb75de53f8dfbb&#39;,\n   &#39;width&#39;: 640},\n  {&#39;height&#39;: 320,\n   &#39;url&#39;: &#39;https://i.scdn.co/image/5259c0496329b3f608a1ae0edb799cd2f8451acc&#39;,\n   &#39;width&#39;: 320},\n  {&#39;height&#39;: 160,\n   &#39;url&#39;: &#39;https://i.scdn.co/image/b772a78d4cb192268d6f601a78f21044c17d6dda&#39;,\n   &#39;width&#39;: 160}],\n &#39;name&#39;: &#39;Kendrick Lamar&#39;,\n &#39;popularity&#39;: 90,\n &#39;type&#39;: &#39;artist&#39;,\n &#39;uri&#39;: &#39;spotify:artist:2YZyLoL8N0Wb9xBt1NhZWg&#39;}"
     },
     "metadata": {},
     "execution_count": 4
    }
   ],
   "source": [
    "# View sp.track output\n",
    "sp.artist(artist_id)"
   ]
  },
  {
   "cell_type": "markdown",
   "metadata": {
    "ExecuteTime": {
     "end_time": "2020-09-23T17:25:33.267863Z",
     "start_time": "2020-09-23T17:25:33.250873Z"
    }
   },
   "source": [
    "## Get sample track data"
   ]
  },
  {
   "cell_type": "code",
   "execution_count": 5,
   "metadata": {
    "ExecuteTime": {
     "end_time": "2020-09-23T18:30:49.888267Z",
     "start_time": "2020-09-23T18:30:49.876271Z"
    }
   },
   "outputs": [],
   "source": [
    "track_id = \"74tLlkN3rgVzRqQJgPfink\""
   ]
  },
  {
   "cell_type": "code",
   "execution_count": 6,
   "metadata": {
    "ExecuteTime": {
     "end_time": "2020-09-23T18:30:50.348157Z",
     "start_time": "2020-09-23T18:30:49.888267Z"
    },
    "scrolled": true
   },
   "outputs": [
    {
     "output_type": "execute_result",
     "data": {
      "text/plain": "{&#39;album&#39;: {&#39;album_type&#39;: &#39;album&#39;,\n  &#39;artists&#39;: [{&#39;external_urls&#39;: {&#39;spotify&#39;: &#39;https://open.spotify.com/artist/2YZyLoL8N0Wb9xBt1NhZWg&#39;},\n    &#39;href&#39;: &#39;https://api.spotify.com/v1/artists/2YZyLoL8N0Wb9xBt1NhZWg&#39;,\n    &#39;id&#39;: &#39;2YZyLoL8N0Wb9xBt1NhZWg&#39;,\n    &#39;name&#39;: &#39;Kendrick Lamar&#39;,\n    &#39;type&#39;: &#39;artist&#39;,\n    &#39;uri&#39;: &#39;spotify:artist:2YZyLoL8N0Wb9xBt1NhZWg&#39;}],\n  &#39;available_markets&#39;: [&#39;AD&#39;,\n   &#39;AE&#39;,\n   &#39;AL&#39;,\n   &#39;AR&#39;,\n   &#39;AT&#39;,\n   &#39;AU&#39;,\n   &#39;BA&#39;,\n   &#39;BE&#39;,\n   &#39;BG&#39;,\n   &#39;BH&#39;,\n   &#39;BO&#39;,\n   &#39;BR&#39;,\n   &#39;BY&#39;,\n   &#39;CH&#39;,\n   &#39;CL&#39;,\n   &#39;CO&#39;,\n   &#39;CR&#39;,\n   &#39;CY&#39;,\n   &#39;CZ&#39;,\n   &#39;DE&#39;,\n   &#39;DK&#39;,\n   &#39;DO&#39;,\n   &#39;DZ&#39;,\n   &#39;EC&#39;,\n   &#39;EE&#39;,\n   &#39;EG&#39;,\n   &#39;ES&#39;,\n   &#39;FI&#39;,\n   &#39;FR&#39;,\n   &#39;GB&#39;,\n   &#39;GR&#39;,\n   &#39;GT&#39;,\n   &#39;HK&#39;,\n   &#39;HN&#39;,\n   &#39;HR&#39;,\n   &#39;HU&#39;,\n   &#39;ID&#39;,\n   &#39;IE&#39;,\n   &#39;IL&#39;,\n   &#39;IN&#39;,\n   &#39;IS&#39;,\n   &#39;IT&#39;,\n   &#39;JO&#39;,\n   &#39;JP&#39;,\n   &#39;KW&#39;,\n   &#39;KZ&#39;,\n   &#39;LB&#39;,\n   &#39;LI&#39;,\n   &#39;LT&#39;,\n   &#39;LU&#39;,\n   &#39;LV&#39;,\n   &#39;MA&#39;,\n   &#39;MC&#39;,\n   &#39;MD&#39;,\n   &#39;ME&#39;,\n   &#39;MK&#39;,\n   &#39;MT&#39;,\n   &#39;MX&#39;,\n   &#39;MY&#39;,\n   &#39;NI&#39;,\n   &#39;NL&#39;,\n   &#39;NO&#39;,\n   &#39;NZ&#39;,\n   &#39;OM&#39;,\n   &#39;PA&#39;,\n   &#39;PE&#39;,\n   &#39;PH&#39;,\n   &#39;PL&#39;,\n   &#39;PT&#39;,\n   &#39;PY&#39;,\n   &#39;QA&#39;,\n   &#39;RO&#39;,\n   &#39;RS&#39;,\n   &#39;RU&#39;,\n   &#39;SA&#39;,\n   &#39;SE&#39;,\n   &#39;SG&#39;,\n   &#39;SI&#39;,\n   &#39;SK&#39;,\n   &#39;SV&#39;,\n   &#39;TH&#39;,\n   &#39;TN&#39;,\n   &#39;TR&#39;,\n   &#39;TW&#39;,\n   &#39;UA&#39;,\n   &#39;UY&#39;,\n   &#39;VN&#39;,\n   &#39;XK&#39;,\n   &#39;ZA&#39;],\n  &#39;external_urls&#39;: {&#39;spotify&#39;: &#39;https://open.spotify.com/album/0Oq3mWfexhsjUh0aNNBB5u&#39;},\n  &#39;href&#39;: &#39;https://api.spotify.com/v1/albums/0Oq3mWfexhsjUh0aNNBB5u&#39;,\n  &#39;id&#39;: &#39;0Oq3mWfexhsjUh0aNNBB5u&#39;,\n  &#39;images&#39;: [{&#39;height&#39;: 640,\n    &#39;url&#39;: &#39;https://i.scdn.co/image/ab67616d0000b2732cd55246d935a8a77cb4859e&#39;,\n    &#39;width&#39;: 640},\n   {&#39;height&#39;: 300,\n    &#39;url&#39;: &#39;https://i.scdn.co/image/ab67616d00001e022cd55246d935a8a77cb4859e&#39;,\n    &#39;width&#39;: 300},\n   {&#39;height&#39;: 64,\n    &#39;url&#39;: &#39;https://i.scdn.co/image/ab67616d000048512cd55246d935a8a77cb4859e&#39;,\n    &#39;width&#39;: 64}],\n  &#39;name&#39;: &#39;good kid, m.A.A.d city&#39;,\n  &#39;release_date&#39;: &#39;2012&#39;,\n  &#39;release_date_precision&#39;: &#39;year&#39;,\n  &#39;total_tracks&#39;: 14,\n  &#39;type&#39;: &#39;album&#39;,\n  &#39;uri&#39;: &#39;spotify:album:0Oq3mWfexhsjUh0aNNBB5u&#39;},\n &#39;artists&#39;: [{&#39;external_urls&#39;: {&#39;spotify&#39;: &#39;https://open.spotify.com/artist/2YZyLoL8N0Wb9xBt1NhZWg&#39;},\n   &#39;href&#39;: &#39;https://api.spotify.com/v1/artists/2YZyLoL8N0Wb9xBt1NhZWg&#39;,\n   &#39;id&#39;: &#39;2YZyLoL8N0Wb9xBt1NhZWg&#39;,\n   &#39;name&#39;: &#39;Kendrick Lamar&#39;,\n   &#39;type&#39;: &#39;artist&#39;,\n   &#39;uri&#39;: &#39;spotify:artist:2YZyLoL8N0Wb9xBt1NhZWg&#39;},\n  {&#39;external_urls&#39;: {&#39;spotify&#39;: &#39;https://open.spotify.com/artist/28ExwzUQsvgJooOI0X1mr3&#39;},\n   &#39;href&#39;: &#39;https://api.spotify.com/v1/artists/28ExwzUQsvgJooOI0X1mr3&#39;,\n   &#39;id&#39;: &#39;28ExwzUQsvgJooOI0X1mr3&#39;,\n   &#39;name&#39;: &#39;Jay Rock&#39;,\n   &#39;type&#39;: &#39;artist&#39;,\n   &#39;uri&#39;: &#39;spotify:artist:28ExwzUQsvgJooOI0X1mr3&#39;}],\n &#39;available_markets&#39;: [&#39;AD&#39;,\n  &#39;AE&#39;,\n  &#39;AL&#39;,\n  &#39;AR&#39;,\n  &#39;AT&#39;,\n  &#39;AU&#39;,\n  &#39;BA&#39;,\n  &#39;BE&#39;,\n  &#39;BG&#39;,\n  &#39;BH&#39;,\n  &#39;BO&#39;,\n  &#39;BR&#39;,\n  &#39;BY&#39;,\n  &#39;CH&#39;,\n  &#39;CL&#39;,\n  &#39;CO&#39;,\n  &#39;CR&#39;,\n  &#39;CY&#39;,\n  &#39;CZ&#39;,\n  &#39;DE&#39;,\n  &#39;DK&#39;,\n  &#39;DO&#39;,\n  &#39;DZ&#39;,\n  &#39;EC&#39;,\n  &#39;EE&#39;,\n  &#39;EG&#39;,\n  &#39;ES&#39;,\n  &#39;FI&#39;,\n  &#39;FR&#39;,\n  &#39;GB&#39;,\n  &#39;GR&#39;,\n  &#39;GT&#39;,\n  &#39;HK&#39;,\n  &#39;HN&#39;,\n  &#39;HR&#39;,\n  &#39;HU&#39;,\n  &#39;ID&#39;,\n  &#39;IE&#39;,\n  &#39;IL&#39;,\n  &#39;IN&#39;,\n  &#39;IS&#39;,\n  &#39;IT&#39;,\n  &#39;JO&#39;,\n  &#39;JP&#39;,\n  &#39;KW&#39;,\n  &#39;KZ&#39;,\n  &#39;LB&#39;,\n  &#39;LI&#39;,\n  &#39;LT&#39;,\n  &#39;LU&#39;,\n  &#39;LV&#39;,\n  &#39;MA&#39;,\n  &#39;MC&#39;,\n  &#39;MD&#39;,\n  &#39;ME&#39;,\n  &#39;MK&#39;,\n  &#39;MT&#39;,\n  &#39;MX&#39;,\n  &#39;MY&#39;,\n  &#39;NI&#39;,\n  &#39;NL&#39;,\n  &#39;NO&#39;,\n  &#39;NZ&#39;,\n  &#39;OM&#39;,\n  &#39;PA&#39;,\n  &#39;PE&#39;,\n  &#39;PH&#39;,\n  &#39;PL&#39;,\n  &#39;PT&#39;,\n  &#39;PY&#39;,\n  &#39;QA&#39;,\n  &#39;RO&#39;,\n  &#39;RS&#39;,\n  &#39;RU&#39;,\n  &#39;SA&#39;,\n  &#39;SE&#39;,\n  &#39;SG&#39;,\n  &#39;SI&#39;,\n  &#39;SK&#39;,\n  &#39;SV&#39;,\n  &#39;TH&#39;,\n  &#39;TN&#39;,\n  &#39;TR&#39;,\n  &#39;TW&#39;,\n  &#39;UA&#39;,\n  &#39;UY&#39;,\n  &#39;VN&#39;,\n  &#39;XK&#39;,\n  &#39;ZA&#39;],\n &#39;disc_number&#39;: 1,\n &#39;duration_ms&#39;: 386906,\n &#39;explicit&#39;: True,\n &#39;external_ids&#39;: {&#39;isrc&#39;: &#39;USUM71210785&#39;},\n &#39;external_urls&#39;: {&#39;spotify&#39;: &#39;https://open.spotify.com/track/74tLlkN3rgVzRqQJgPfink&#39;},\n &#39;href&#39;: &#39;https://api.spotify.com/v1/tracks/74tLlkN3rgVzRqQJgPfink&#39;,\n &#39;id&#39;: &#39;74tLlkN3rgVzRqQJgPfink&#39;,\n &#39;is_local&#39;: False,\n &#39;name&#39;: &#39;Money Trees&#39;,\n &#39;popularity&#39;: 73,\n &#39;preview_url&#39;: None,\n &#39;track_number&#39;: 5,\n &#39;type&#39;: &#39;track&#39;,\n &#39;uri&#39;: &#39;spotify:track:74tLlkN3rgVzRqQJgPfink&#39;}"
     },
     "metadata": {},
     "execution_count": 6
    }
   ],
   "source": [
    "# View sp.track output\n",
    "sp.track(track_id)"
   ]
  },
  {
   "cell_type": "code",
   "execution_count": 7,
   "metadata": {
    "ExecuteTime": {
     "end_time": "2020-09-23T18:30:50.662512Z",
     "start_time": "2020-09-23T18:30:50.348157Z"
    }
   },
   "outputs": [
    {
     "output_type": "execute_result",
     "data": {
      "text/plain": "[{&#39;danceability&#39;: 0.716,\n  &#39;energy&#39;: 0.531,\n  &#39;key&#39;: 7,\n  &#39;loudness&#39;: -7.355,\n  &#39;mode&#39;: 1,\n  &#39;speechiness&#39;: 0.122,\n  &#39;acousticness&#39;: 0.0703,\n  &#39;instrumentalness&#39;: 0,\n  &#39;liveness&#39;: 0.224,\n  &#39;valence&#39;: 0.344,\n  &#39;tempo&#39;: 71.994,\n  &#39;type&#39;: &#39;audio_features&#39;,\n  &#39;id&#39;: &#39;74tLlkN3rgVzRqQJgPfink&#39;,\n  &#39;uri&#39;: &#39;spotify:track:74tLlkN3rgVzRqQJgPfink&#39;,\n  &#39;track_href&#39;: &#39;https://api.spotify.com/v1/tracks/74tLlkN3rgVzRqQJgPfink&#39;,\n  &#39;analysis_url&#39;: &#39;https://api.spotify.com/v1/audio-analysis/74tLlkN3rgVzRqQJgPfink&#39;,\n  &#39;duration_ms&#39;: 386907,\n  &#39;time_signature&#39;: 4}]"
     },
     "metadata": {},
     "execution_count": 7
    }
   ],
   "source": [
    "# View sp.audio_featrues output\n",
    "sp.audio_features(track_id)"
   ]
  },
  {
   "cell_type": "markdown",
   "metadata": {},
   "source": [
    "## Read consolidated spotify daily charts"
   ]
  },
  {
   "cell_type": "code",
   "execution_count": 8,
   "metadata": {
    "ExecuteTime": {
     "end_time": "2020-09-23T18:30:51.007345Z",
     "start_time": "2020-09-23T18:30:50.662512Z"
    }
   },
   "outputs": [
    {
     "output_type": "execute_result",
     "data": {
      "text/plain": "         date  position                track_id                  track_name          artist  streams\n0  2018-01-01         1  0ofbQMrRDsUaVKq2mGLEAb                      Havana  Camila Cabello   155633\n1  2018-01-01         2  0tgVpDi06FyKpA1z0VMD4v                     Perfect      Ed Sheeran   134756\n2  2018-01-01         3  3hBBKuWJfxlIlnd9QFoC8k  What Lovers Do (feat. SZA)        Maroon 5   130898\n3  2018-01-01         4  1mXVgsBdtIVeCLJnSnmtdV        Too Good At Goodbyes       Sam Smith   130798\n4  2018-01-01         5  2ekn2ttSfGqwhhate0LSR0                   New Rules        Dua Lipa   125472",
      "text/html": "<div>\n<style scoped>\n    .dataframe tbody tr th:only-of-type {\n        vertical-align: middle;\n    }\n\n    .dataframe tbody tr th {\n        vertical-align: top;\n    }\n\n    .dataframe thead th {\n        text-align: right;\n    }\n</style>\n<table border=\"1\" class=\"dataframe\">\n  <thead>\n    <tr style=\"text-align: right;\">\n      <th></th>\n      <th>date</th>\n      <th>position</th>\n      <th>track_id</th>\n      <th>track_name</th>\n      <th>artist</th>\n      <th>streams</th>\n    </tr>\n  </thead>\n  <tbody>\n    <tr>\n      <th>0</th>\n      <td>2018-01-01</td>\n      <td>1</td>\n      <td>0ofbQMrRDsUaVKq2mGLEAb</td>\n      <td>Havana</td>\n      <td>Camila Cabello</td>\n      <td>155633</td>\n    </tr>\n    <tr>\n      <th>1</th>\n      <td>2018-01-01</td>\n      <td>2</td>\n      <td>0tgVpDi06FyKpA1z0VMD4v</td>\n      <td>Perfect</td>\n      <td>Ed Sheeran</td>\n      <td>134756</td>\n    </tr>\n    <tr>\n      <th>2</th>\n      <td>2018-01-01</td>\n      <td>3</td>\n      <td>3hBBKuWJfxlIlnd9QFoC8k</td>\n      <td>What Lovers Do (feat. SZA)</td>\n      <td>Maroon 5</td>\n      <td>130898</td>\n    </tr>\n    <tr>\n      <th>3</th>\n      <td>2018-01-01</td>\n      <td>4</td>\n      <td>1mXVgsBdtIVeCLJnSnmtdV</td>\n      <td>Too Good At Goodbyes</td>\n      <td>Sam Smith</td>\n      <td>130798</td>\n    </tr>\n    <tr>\n      <th>4</th>\n      <td>2018-01-01</td>\n      <td>5</td>\n      <td>2ekn2ttSfGqwhhate0LSR0</td>\n      <td>New Rules</td>\n      <td>Dua Lipa</td>\n      <td>125472</td>\n    </tr>\n  </tbody>\n</table>\n</div>"
     },
     "metadata": {},
     "execution_count": 8
    }
   ],
   "source": [
    "df = pd.read_csv('data/spotify_daily_charts.csv')\n",
    "df.head()"
   ]
  },
  {
   "cell_type": "markdown",
   "metadata": {},
   "source": [
    "## Get data of unique tracks in charts "
   ]
  },
  {
   "cell_type": "code",
   "execution_count": 9,
   "metadata": {
    "ExecuteTime": {
     "end_time": "2020-09-23T18:30:51.079610Z",
     "start_time": "2020-09-23T18:30:51.011346Z"
    }
   },
   "outputs": [],
   "source": [
    "def get_track_data(t_id):                    \n",
    "    track_data = sp.track(t_id)\n",
    "    track_features = sp.audio_features(t_id)\n",
    "    \n",
    "    #get only main(first) artist\n",
    "    td_list = [t_id,\\\n",
    "               track_data['name'],\\\n",
    "               track_data['artists'][0]['id'],\\\n",
    "               track_data['artists'][0]['name'],\\\n",
    "               track_data['album']['uri'].split(\":\")[2],\\\n",
    "               track_data['duration_ms'],\\\n",
    "               track_data['album']['release_date'],\\\n",
    "               track_data['popularity']]\n",
    "    data = pd.DataFrame([td_list], columns = ['track_id','track_name','artist_id','artist_name','album_id','duration','release_date','popularity'])\n",
    "\n",
    "    relevant_cols = ['danceability', 'energy', 'key', 'loudness', 'mode',\\\n",
    "                     'speechiness', 'acousticness', 'instrumentalness', 'liveness', 'valence', 'tempo']  \n",
    "    \n",
    "    tf_data = pd.DataFrame(track_features)\n",
    "    tf_data = tf_data[relevant_cols]\n",
    "    \n",
    "    data = pd.concat([data, tf_data], axis=1)\n",
    "    return data\n"
   ]
  },
  {
   "cell_type": "code",
   "execution_count": 10,
   "metadata": {
    "ExecuteTime": {
     "end_time": "2020-09-23T18:30:52.007834Z",
     "start_time": "2020-09-23T18:30:51.083610Z"
    }
   },
   "outputs": [
    {
     "output_type": "execute_result",
     "data": {
      "text/plain": "                 track_id   track_name               artist_id     artist_name                album_id  duration release_date  popularity  danceability  energy  key  loudness  mode  speechiness  acousticness  instrumentalness  liveness  valence   tempo\n0  74tLlkN3rgVzRqQJgPfink  Money Trees  2YZyLoL8N0Wb9xBt1NhZWg  Kendrick Lamar  0Oq3mWfexhsjUh0aNNBB5u    386906         2012          73         0.716   0.531    7    -7.355     1        0.122        0.0703                 0     0.224    0.344  71.994",
      "text/html": "<div>\n<style scoped>\n    .dataframe tbody tr th:only-of-type {\n        vertical-align: middle;\n    }\n\n    .dataframe tbody tr th {\n        vertical-align: top;\n    }\n\n    .dataframe thead th {\n        text-align: right;\n    }\n</style>\n<table border=\"1\" class=\"dataframe\">\n  <thead>\n    <tr style=\"text-align: right;\">\n      <th></th>\n      <th>track_id</th>\n      <th>track_name</th>\n      <th>artist_id</th>\n      <th>artist_name</th>\n      <th>album_id</th>\n      <th>duration</th>\n      <th>release_date</th>\n      <th>popularity</th>\n      <th>danceability</th>\n      <th>energy</th>\n      <th>key</th>\n      <th>loudness</th>\n      <th>mode</th>\n      <th>speechiness</th>\n      <th>acousticness</th>\n      <th>instrumentalness</th>\n      <th>liveness</th>\n      <th>valence</th>\n      <th>tempo</th>\n    </tr>\n  </thead>\n  <tbody>\n    <tr>\n      <th>0</th>\n      <td>74tLlkN3rgVzRqQJgPfink</td>\n      <td>Money Trees</td>\n      <td>2YZyLoL8N0Wb9xBt1NhZWg</td>\n      <td>Kendrick Lamar</td>\n      <td>0Oq3mWfexhsjUh0aNNBB5u</td>\n      <td>386906</td>\n      <td>2012</td>\n      <td>73</td>\n      <td>0.716</td>\n      <td>0.531</td>\n      <td>7</td>\n      <td>-7.355</td>\n      <td>1</td>\n      <td>0.122</td>\n      <td>0.0703</td>\n      <td>0</td>\n      <td>0.224</td>\n      <td>0.344</td>\n      <td>71.994</td>\n    </tr>\n  </tbody>\n</table>\n</div>"
     },
     "metadata": {},
     "execution_count": 10
    }
   ],
   "source": [
    "get_track_data(track_id)"
   ]
  },
  {
   "cell_type": "code",
   "execution_count": 11,
   "metadata": {
    "ExecuteTime": {
     "end_time": "2020-09-23T18:30:52.102733Z",
     "start_time": "2020-09-23T18:30:52.007834Z"
    }
   },
   "outputs": [
    {
     "output_type": "execute_result",
     "data": {
      "text/plain": "                      track_id                  track_name\n0       0ofbQMrRDsUaVKq2mGLEAb                      Havana\n1       0tgVpDi06FyKpA1z0VMD4v                     Perfect\n2       3hBBKuWJfxlIlnd9QFoC8k  What Lovers Do (feat. SZA)\n3       1mXVgsBdtIVeCLJnSnmtdV        Too Good At Goodbyes\n4       2ekn2ttSfGqwhhate0LSR0                   New Rules\n...                        ...                         ...\n196985  0zzVTGyRrWpQu8Fr28NRAv             OK Not To Be OK\n197177  4G7uzhxgKFBCJApBpuuBgU                       Kabet\n197705  3KUGAgxo3b81X5bWoOp0U8                   Back Door\n197788  0rbKrBvZUYY9GN9l057BuY           always, i&#39;ll care\n197792  45JxmBQFbuEYkX0RDZcaVJ                  God&#39;s Menu\n\n[2292 rows x 2 columns]",
      "text/html": "<div>\n<style scoped>\n    .dataframe tbody tr th:only-of-type {\n        vertical-align: middle;\n    }\n\n    .dataframe tbody tr th {\n        vertical-align: top;\n    }\n\n    .dataframe thead th {\n        text-align: right;\n    }\n</style>\n<table border=\"1\" class=\"dataframe\">\n  <thead>\n    <tr style=\"text-align: right;\">\n      <th></th>\n      <th>track_id</th>\n      <th>track_name</th>\n    </tr>\n  </thead>\n  <tbody>\n    <tr>\n      <th>0</th>\n      <td>0ofbQMrRDsUaVKq2mGLEAb</td>\n      <td>Havana</td>\n    </tr>\n    <tr>\n      <th>1</th>\n      <td>0tgVpDi06FyKpA1z0VMD4v</td>\n      <td>Perfect</td>\n    </tr>\n    <tr>\n      <th>2</th>\n      <td>3hBBKuWJfxlIlnd9QFoC8k</td>\n      <td>What Lovers Do (feat. SZA)</td>\n    </tr>\n    <tr>\n      <th>3</th>\n      <td>1mXVgsBdtIVeCLJnSnmtdV</td>\n      <td>Too Good At Goodbyes</td>\n    </tr>\n    <tr>\n      <th>4</th>\n      <td>2ekn2ttSfGqwhhate0LSR0</td>\n      <td>New Rules</td>\n    </tr>\n    <tr>\n      <th>...</th>\n      <td>...</td>\n      <td>...</td>\n    </tr>\n    <tr>\n      <th>196985</th>\n      <td>0zzVTGyRrWpQu8Fr28NRAv</td>\n      <td>OK Not To Be OK</td>\n    </tr>\n    <tr>\n      <th>197177</th>\n      <td>4G7uzhxgKFBCJApBpuuBgU</td>\n      <td>Kabet</td>\n    </tr>\n    <tr>\n      <th>197705</th>\n      <td>3KUGAgxo3b81X5bWoOp0U8</td>\n      <td>Back Door</td>\n    </tr>\n    <tr>\n      <th>197788</th>\n      <td>0rbKrBvZUYY9GN9l057BuY</td>\n      <td>always, i'll care</td>\n    </tr>\n    <tr>\n      <th>197792</th>\n      <td>45JxmBQFbuEYkX0RDZcaVJ</td>\n      <td>God's Menu</td>\n    </tr>\n  </tbody>\n</table>\n<p>2292 rows × 2 columns</p>\n</div>"
     },
     "metadata": {},
     "execution_count": 11
    }
   ],
   "source": [
    "track_df = df[['track_id','track_name']].drop_duplicates()\n",
    "track_df"
   ]
  },
  {
   "cell_type": "code",
   "execution_count": 12,
   "metadata": {
    "ExecuteTime": {
     "end_time": "2020-09-23T18:30:52.158841Z",
     "start_time": "2020-09-23T18:30:52.106782Z"
    }
   },
   "outputs": [
    {
     "output_type": "execute_result",
     "data": {
      "text/plain": "(2292, 1826)"
     },
     "metadata": {},
     "execution_count": 12
    }
   ],
   "source": [
    "len(pd.unique(track_df['track_id'].values)),len(pd.unique(track_df['track_name'].values))"
   ]
  },
  {
   "cell_type": "markdown",
   "metadata": {},
   "source": [
    "> Q: Why is it that we have fewer unique track names than unique track ids? Is this expected or does it indicate a data processing error?"
   ]
  },
  {
   "cell_type": "code",
   "execution_count": 13,
   "metadata": {
    "ExecuteTime": {
     "end_time": "2020-09-24T15:04:24.287863Z",
     "start_time": "2020-09-24T14:20:23.853571Z"
    },
    "scrolled": true,
    "tags": [
     "outputPrepend"
    ]
   },
   "outputs": [
    {
     "output_type": "stream",
     "name": "stdout",
     "text": "[1973/2292] Fetching track data for 시작...  done!\n[1974/2292] Fetching track data for Binibini...  done!\n[1975/2292] Fetching track data for FANCY...  done!\n[1976/2292] Fetching track data for THE SCOTTS...  done!\n[1977/2292] Fetching track data for If You’re Too Shy (Let Me Know)...  done!\n[1978/2292] Fetching track data for If You’re Too Shy (Let Me Know) - Edit...  done!\n[1979/2292] Fetching track data for Righteous...  done!\n[1980/2292] Fetching track data for Passenger Seat (Acoustic)...  done!\n[1981/2292] Fetching track data for Nandito Na...  done!\n[1982/2292] Fetching track data for I Choose - From The Netflix Original Film The Willoughbys...  done!\n[1983/2292] Fetching track data for Fight Song...  done!\n[1984/2292] Fetching track data for Savage Remix (feat. Beyoncé)...  done!\n[1985/2292] Fetching track data for Moonlight...  done!\n[1986/2292] Fetching track data for Play Date...  done!\n[1987/2292] Fetching track data for Passenger Seat...  done!\n[1988/2292] Fetching track data for Beautiful Scars...  done!\n[1989/2292] Fetching track data for Toosie Slide...  done!\n[1990/2292] Fetching track data for Say So (feat. Nicki Minaj)...  done!\n[1991/2292] Fetching track data for Pain 1993 (with Playboi Carti)...  done!\n[1992/2292] Fetching track data for Be Kind (with Halsey)...  done!\n[1993/2292] Fetching track data for eight(Prod.&amp;Feat. SUGA of BTS)...  done!\n[1994/2292] Fetching track data for Happy...  done!\n[1995/2292] Fetching track data for Bisayang Gwapito...  done!\n[1996/2292] Fetching track data for La La Lost You - Acoustic Version...  done!\n[1997/2292] Fetching track data for Stuck with U (with Justin Bieber)...  done!\n[1998/2292] Fetching track data for With A Smile...  done!\n[1999/2292] Fetching track data for I Love You&#39;s...  done!\n[2000/2292] Fetching track data for Cutie Uyyy...  done!\n[2001/2292] Fetching track data for Alapaap...  done!\n[2002/2292] Fetching track data for Magasin...  done!\n[2003/2292] Fetching track data for Pare Ko...  done!\n[2004/2292] Fetching track data for Huwag Mo Nang Itanong...  done!\n[2005/2292] Fetching track data for Alapaap / Overdrive...  done!\n[2006/2292] Fetching track data for Halik...  done!\n[2007/2292] Fetching track data for Huling Sayaw...  done!\n[2008/2292] Fetching track data for Zombie...  done!\n[2009/2292] Fetching track data for Zombie - English Ver....  done!\n[2010/2292] Fetching track data for good guys...  done!\n[2011/2292] Fetching track data for Zombie...  done!\n[2012/2292] Fetching track data for Yours...  done!\n[2013/2292] Fetching track data for Ang Huling El Bimbo...  done!\n[2014/2292] Fetching track data for Daisies...  done!\n[2015/2292] Fetching track data for Lose Somebody...  done!\n[2016/2292] Fetching track data for Can&#39;t You See Me?...  done!\n[2017/2292] Fetching track data for Drama...  done!\n[2018/2292] Fetching track data for Fairy of Shampoo...  done!\n[2019/2292] Fetching track data for Cornelia Street - Live From Paris...  done!\n[2020/2292] Fetching track data for Puhon...  done!\n[2021/2292] Fetching track data for Rain On Me (with Ariana Grande)...  done!\n[2022/2292] Fetching track data for Daechwita...  done!\n[2023/2292] Fetching track data for Moonlight...  done!\n[2024/2292] Fetching track data for What do you think?...  done!\n[2025/2292] Fetching track data for Strange...  done!\n[2026/2292] Fetching track data for 28...  done!\n[2027/2292] Fetching track data for Burn It...  done!\n[2028/2292] Fetching track data for People...  done!\n[2029/2292] Fetching track data for Honsool...  done!\n[2030/2292] Fetching track data for Dear my friend (feat. Kim Jong Wan of NELL)...  done!\n[2031/2292] Fetching track data for Interlude : Set me free...  done!\n[2032/2292] Fetching track data for Punch...  done!\n[2033/2292] Fetching track data for This Love Isn&#39;t Crazy...  done!\n[2034/2292] Fetching track data for Tonight (I Wish I Was Your Boy)...  done!\n[2035/2292] Fetching track data for In Your Eyes (with Doja Cat) - Remix...  done!\n[2036/2292] Fetching track data for Party Girl...  done!\n[2037/2292] Fetching track data for Marikit...  done!\n[2038/2292] Fetching track data for KLWKN...  done!\n[2039/2292] Fetching track data for IDK You Yet...  done!\n[2040/2292] Fetching track data for Candy...  done!\n[2041/2292] Fetching track data for R U Ridin’?...  done!\n[2042/2292] Fetching track data for Bungee...  done!\n[2043/2292] Fetching track data for Poppin’...  done!\n[2044/2292] Fetching track data for Underwater...  done!\n[2045/2292] Fetching track data for Love Again...  done!\n[2046/2292] Fetching track data for Ghost...  done!\n[2047/2292] Fetching track data for Sour Candy (with BLACKPINK)...  done!\n[2048/2292] Fetching track data for 911...  done!\n[2049/2292] Fetching track data for Sour Candy (with BLACKPINK)...  done!\n[2050/2292] Fetching track data for Rain On Me (with Ariana Grande)...  done!\n[2051/2292] Fetching track data for Stupid Love...  done!\n[2052/2292] Fetching track data for Free Woman...  done!\n[2053/2292] Fetching track data for Alice...  done!\n[2054/2292] Fetching track data for Fun Tonight...  done!\n[2055/2292] Fetching track data for Lose Somebody...  done!\n[2056/2292] Fetching track data for Chromatica II...  done!\n[2057/2292] Fetching track data for Enigma...  done!\n[2058/2292] Fetching track data for Plastic Doll...  done!\n[2059/2292] Fetching track data for Chromatica I...  done!\n[2060/2292] Fetching track data for Sine From Above (with Elton John)...  done!\n[2061/2292] Fetching track data for Replay...  done!\n[2062/2292] Fetching track data for Babylon...  done!\n[2063/2292] Fetching track data for 1000 Doves...  done!\n[2064/2292] Fetching track data for 3AM...  done!\n[2065/2292] Fetching track data for MORE &amp; MORE...  done!\n[2066/2292] Fetching track data for OXYGEN...  done!\n[2067/2292] Fetching track data for MAKE ME GO...  done!\n[2068/2292] Fetching track data for FIREWORK...  done!\n[2069/2292] Fetching track data for SHADOW...  done!\n[2070/2292] Fetching track data for SWEET SUMMER DAY...  done!\n[2071/2292] Fetching track data for DON’T CALL ME AGAIN...  done!\n[2072/2292] Fetching track data for What is Love...  done!\n[2073/2292] Fetching track data for MORE &amp; MORE...  done!\n[2074/2292] Fetching track data for OXYGEN...  done!\n[2075/2292] Fetching track data for MAKE ME GO...  done!\n[2076/2292] Fetching track data for FIREWORK...  done!\n[2077/2292] Fetching track data for SHADOW...  done!\n[2078/2292] Fetching track data for SWEET SUMMER DAY...  done!\n[2079/2292] Fetching track data for DON&#39;T CALL ME AGAIN...  done!\n[2080/2292] Fetching track data for Freedom (feat. Kendrick Lamar)...  done!\n[2081/2292] Fetching track data for Lifetime...  done!\n[2082/2292] Fetching track data for Pagsuko...  done!\n[2083/2292] Fetching track data for Mariposa...  done!\n[2084/2292] Fetching track data for Pangga...  done!\n[2085/2292] Fetching track data for Hurry Home (with beabadoobee &amp; Jay Som)...  done!\n[2086/2292] Fetching track data for Higa...  done!\n[2087/2292] Fetching track data for Binhi...  done!\n[2088/2292] Fetching track data for Marikit...  done!\n[2089/2292] Fetching track data for Savage Love (Did Somebody Break Your Heart)...  done!\n[2090/2292] Fetching track data for WAYO...  done!\n[2091/2292] Fetching track data for no song without you...  done!\n[2092/2292] Fetching track data for Savage Love (Laxed - Siren Beat)...  done!\n[2093/2292] Fetching track data for Banana (feat. Shaggy) - DJ FLe - Minisiren Remix...  done!\n[2094/2292] Fetching track data for ROCKSTAR (feat. Roddy Ricch) - BLM REMIX...  done!\n[2095/2292] Fetching track data for Umaasa...  done!\n[2096/2292] Fetching track data for Secret Story of the Swan...  done!\n[2097/2292] Fetching track data for Malayo...  done!\n[2098/2292] Fetching track data for Best Friend...  done!\n[2099/2292] Fetching track data for Breaking Me...  done!\n[2100/2292] Fetching track data for Stay Gold...  done!\n[2101/2292] Fetching track data for Chinita Girl...  done!\n[2102/2292] Fetching track data for BLACK PARADE...  done!\n[2103/2292] Fetching track data for Left &amp; Right...  done!\n[2104/2292] Fetching track data for Fearless...  done!\n[2105/2292] Fetching track data for Kidult...  done!\n[2106/2292] Fetching track data for I Wish...  done!\n[2107/2292] Fetching track data for How You Like That...  done!\n[2108/2292] Fetching track data for Love Somebody...  done!\n[2109/2292] Fetching track data for How You Like That...  done!\n[2110/2292] Fetching track data for God’s Menu...  done!\n[2111/2292] Fetching track data for Maria...  done!\n[2112/2292] Fetching track data for if this is the last time...  done!\n[2113/2292] Fetching track data for Nakikinig Ka Ba Sa Akin...  done!\n[2114/2292] Fetching track data for Just Friends...  done!\n[2115/2292] Fetching track data for Di Biro...  done!\n[2116/2292] Fetching track data for no song without you...  done!\n[2117/2292] Fetching track data for la la la that’s how it goes...  done!\n[2118/2292] Fetching track data for free love...  done!\n[2119/2292] Fetching track data for by my side...  done!\n[2120/2292] Fetching track data for dear P...  done!\n[2121/2292] Fetching track data for one way to tokyo...  done!\n[2122/2292] Fetching track data for loving you is so easy...  done!\n[2123/2292] Fetching track data for Go Crazy...  done!\n[2124/2292] Fetching track data for can’t bear to be without you...  done!\n[2125/2292] Fetching track data for lines on our faces...  done!\n[2126/2292] Fetching track data for Are You Bored Yet? (feat. Clairo)...  done!\n[2127/2292] Fetching track data for Past Life (with Selena Gomez)...  done!\n[2128/2292] Fetching track data for Monster...  done!\n[2129/2292] Fetching track data for Diamond...  done!\n[2130/2292] Fetching track data for Feel Good...  done!\n[2131/2292] Fetching track data for Jelly...  done!\n[2132/2292] Fetching track data for Uncover (Sung by SEULGI) - Bonus Track...  done!\n[2133/2292] Fetching track data for Miloves (Otw Sayo)...  done!\n[2134/2292] Fetching track data for Pac-Man...  done!\n[2135/2292] Fetching track data for Telephone...  done!\n[2136/2292] Fetching track data for Scars To Your Beautiful...  done!\n[2137/2292] Fetching track data for Life&#39;s A Mess (feat. Halsey)...  done!\n[2138/2292] Fetching track data for Urong Sulong...  done!\n[2139/2292] Fetching track data for Stunnin&#39; (feat. Harm Franklin)...  done!\n[2140/2292] Fetching track data for I Will Be Here (Original Soundtrack from the movie &quot;Through Night And Day&quot;)...  done!\n[2141/2292] Fetching track data for Come &amp; Go (with Marshmello)...  done!\n[2142/2292] Fetching track data for Wishing Well...  done!\n[2143/2292] Fetching track data for 1 Billion Views...  done!\n[2144/2292] Fetching track data for Your eyes tell...  done!\n[2145/2292] Fetching track data for INTRO : Calling...  done!\n[2146/2292] Fetching track data for OUTRO : The Journey...  done!\n[2147/2292] Fetching track data for Telephone...  done!\n[2148/2292] Fetching track data for Stay Gold...  done!\n[2149/2292] Fetching track data for Smile...  done!\n[2150/2292] Fetching track data for Party Girl (Remix)...  done!\n[2151/2292] Fetching track data for Lights...  done!\n[2152/2292] Fetching track data for Love In My Pocket...  done!\n[2153/2292] Fetching track data for I...  done!\n[2154/2292] Fetching track data for Boy With Luv - Japanese ver....  done!\n[2155/2292] Fetching track data for Strawberries &amp; Cigarettes...  done!\n[2156/2292] Fetching track data for Party Girl (Remix)...  done!\n[2157/2292] Fetching track data for POPSTAR (feat. Drake)...  done!\n[2158/2292] Fetching track data for I Knew I Loved You...  done!\n[2159/2292] Fetching track data for WHATS POPPIN (feat. DaBaby, Tory Lanez &amp; Lil Wayne) - Remix...  done!\n[2160/2292] Fetching track data for Beautiful Scars - Acoustic...  done!\n[2161/2292] Fetching track data for Love Somebody...  done!\n[2162/2292] Fetching track data for What You Waiting For...  done!\n[2163/2292] Fetching track data for Easy...  done!\n[2164/2292] Fetching track data for Selene...  done!\n[2165/2292] Fetching track data for Little Things...  done!\n[2166/2292] Fetching track data for What Makes You Beautiful...  done!\n[2167/2292] Fetching track data for Story of My Life...  done!\n[2168/2292] Fetching track data for Perfect...  done!\n[2169/2292] Fetching track data for History...  done!\n[2170/2292] Fetching track data for They Don&#39;t Know About Us...  done!\n[2171/2292] Fetching track data for Night Changes...  done!\n[2172/2292] Fetching track data for Steal My Girl...  done!\n[2173/2292] Fetching track data for 18...  done!\n[2174/2292] Fetching track data for Drag Me Down...  done!\n[2175/2292] Fetching track data for Live While We&#39;re Young...  done!\n[2176/2292] Fetching track data for Kiss You...  done!\n[2177/2292] Fetching track data for Best Song Ever...  done!\n[2178/2292] Fetching track data for You &amp; I...  done!\n[2179/2292] Fetching track data for One Thing...  done!\n[2180/2292] Fetching track data for More Than This...  done!\n[2181/2292] Fetching track data for Gotta Be You...  done!\n[2182/2292] Fetching track data for Midnight Memories...  done!\n[2183/2292] Fetching track data for Last First Kiss...  done!\n[2184/2292] Fetching track data for the 1...  done!\n[2185/2292] Fetching track data for cardigan...  done!\n[2186/2292] Fetching track data for exile (feat. Bon Iver)...  done!\n[2187/2292] Fetching track data for my tears ricochet...  done!\n[2188/2292] Fetching track data for the last great american dynasty...  done!\n[2189/2292] Fetching track data for august...  done!\n[2190/2292] Fetching track data for mirrorball...  done!\n[2191/2292] Fetching track data for this is me trying...  done!\n[2192/2292] Fetching track data for seven...  done!\n[2193/2292] Fetching track data for illicit affairs...  done!\n[2194/2292] Fetching track data for invisible string...  done!\n[2195/2292] Fetching track data for mad woman...  done!\n[2196/2292] Fetching track data for betty...  done!\n[2197/2292] Fetching track data for epiphany...  done!\n[2198/2292] Fetching track data for peace...  done!\n[2199/2292] Fetching track data for hoax...  done!\n[2200/2292] Fetching track data for Nobody&#39;s Love...  done!\n[2201/2292] Fetching track data for I Don’t Wanna Live Forever (Fifty Shades Darker)...  done!\n[2202/2292] Fetching track data for I Knew You Were Trouble....  done!\n[2203/2292] Fetching track data for Shake It Off...  done!\n[2204/2292] Fetching track data for cardigan...  done!\n[2205/2292] Fetching track data for my tears ricochet...  done!\n[2206/2292] Fetching track data for august...  done!\n[2207/2292] Fetching track data for this is me trying...  done!\n[2208/2292] Fetching track data for invisible string...  done!\n[2209/2292] Fetching track data for hoax...  done!\n[2210/2292] Fetching track data for Heather...  done!\n[2211/2292] Fetching track data for Lost In The Wild...  done!\n[2212/2292] Fetching track data for my future...  done!\n[2213/2292] Fetching track data for Hanggang Sa Huli...  done!\n[2214/2292] Fetching track data for Alab (Burning)...  done!\n[2215/2292] Fetching track data for Go Up...  done!\n[2216/2292] Fetching track data for Tilaluha...  done!\n[2217/2292] Fetching track data for Love Goes...  done!\n[2218/2292] Fetching track data for Love Goes - EDM Version...  done!\n[2219/2292] Fetching track data for Party Girl...  done!\n[2220/2292] Fetching track data for Roses - Imanbek Remix...  done!\n[2221/2292] Fetching track data for BOY - KR Ver....  done!\n[2222/2292] Fetching track data for Daylight...  done!\n[2223/2292] Fetching track data for Smile (with The Weeknd)...  done!\n[2224/2292] Fetching track data for WAP (feat. Megan Thee Stallion)...  done!\n[2225/2292] Fetching track data for BOY...  done!\n[2226/2292] Fetching track data for Breath...  done!\n[2227/2292] Fetching track data for Electric Love...  done!\n[2228/2292] Fetching track data for you!...  done!\n[2229/2292] Fetching track data for When I Look At You...  done!\n[2230/2292] Fetching track data for Laugh Now Cry Later (feat. Lil Durk)...  done!\n[2231/2292] Fetching track data for Midnight Sky...  done!\n[2232/2292] Fetching track data for Uuwian...  done!\n[2233/2292] Fetching track data for Can&#39;t Get Out...  done!\n[2234/2292] Fetching track data for Kabilang Buhay...  done!\n[2235/2292] Fetching track data for Not Shy...  done!\n[2236/2292] Fetching track data for Don’t Give A What...  done!\n[2237/2292] Fetching track data for Not Shy...  done!\n[2238/2292] Fetching track data for the lakes - bonus track...  done!\n[2239/2292] Fetching track data for Lose...  done!\n[2240/2292] Fetching track data for Dynamite...  done!\n[2241/2292] Fetching track data for MORE &amp; MORE - English Version...  done!\n[2242/2292] Fetching track data for Dynamite - Instrumental...  done!\n[2243/2292] Fetching track data for MORE &amp; MORE - English Ver....  done!\n[2244/2292] Fetching track data for Dynamite - Acoustic Remix...  done!\n[2245/2292] Fetching track data for Dynamite - EDM Remix...  done!\n[2246/2292] Fetching track data for 24H...  done!\n[2247/2292] Fetching track data for you broke me first...  done!\n[2248/2292] Fetching track data for ILYSB - STRIPPED...  done!\n[2249/2292] Fetching track data for Mood (feat. Iann Dior)...  done!\n[2250/2292] Fetching track data for Our First Song...  done!\n[2251/2292] Fetching track data for Ice Cream (with Selena Gomez)...  done!\n[2252/2292] Fetching track data for THE BADDEST...  done!\n[2253/2292] Fetching track data for Over Now (with The Weeknd)...  done!\n[2254/2292] Fetching track data for Dynamite - Tropical Remix...  done!\n[2255/2292] Fetching track data for Daisies...  done!\n[2256/2292] Fetching track data for Never Really Over...  done!\n[2257/2292] Fetching track data for Dynamite - Poolside Remix...  done!\n[2258/2292] Fetching track data for Cry About It Later...  done!\n[2259/2292] Fetching track data for Mood Swings (feat. Lil Tjay)...  done!\n[2260/2292] Fetching track data for Senorita...  done!\n[2261/2292] Fetching track data for Beautiful In White...  done!\n[2262/2292] Fetching track data for Dynamite...  done!\n[2263/2292] Fetching track data for Take You Dancing...  done!\n[2264/2292] Fetching track data for A Wish On Christmas Night...  done!\n[2265/2292] Fetching track data for Do You Hear What I Hear?...  done!\n[2266/2292] Fetching track data for The Bells At Christmas...  done!\n[2267/2292] Fetching track data for A Christmas Song for You...  done!\n[2268/2292] Fetching track data for Pagdating Ng Pasko...  done!\n[2269/2292] Fetching track data for It Is the Lord!...  done!\n[2270/2292] Fetching track data for Let Me Be The One...  done!\n[2271/2292] Fetching track data for When a Child Is Born...  done!\n[2272/2292] Fetching track data for Secret Love Song (feat. Jason Derulo)...  done!\n[2273/2292] Fetching track data for Head &amp; Heart (feat. MNEK)...  done!\n[2274/2292] Fetching track data for At My Worst...  done!\n[2275/2292] Fetching track data for Mad at Disney...  done!\n[2276/2292] Fetching track data for You Got It...  done!\n[2277/2292] Fetching track data for Cry About It Later...  done!\n[2278/2292] Fetching track data for Castle In The Sky...  done!\n[2279/2292] Fetching track data for Lose...  done!\n[2280/2292] Fetching track data for Selene...  done!\n[2281/2292] Fetching track data for Plot Twist...  done!\n[2282/2292] Fetching track data for Wide Open (Foreword)...  done!\n[2283/2292] Fetching track data for Switchblade...  done!\n[2284/2292] Fetching track data for Waterfalls...  done!\n[2285/2292] Fetching track data for Nightcrawlers...  done!\n[2286/2292] Fetching track data for Pandemonium...  done!\n[2287/2292] Fetching track data for If There&#39;s Nothing Left......  done!\n[2288/2292] Fetching track data for OK Not To Be OK...  done!\n[2289/2292] Fetching track data for Kabet...  done!\n[2290/2292] Fetching track data for Back Door...  done!\n[2291/2292] Fetching track data for always, i&#39;ll care...  done!\n[2292/2292] Fetching track data for God&#39;s Menu...  done!\n"
    }
   ],
   "source": [
    "track_list = track_df['track_id'].values\n",
    "df_list=[]\n",
    "\n",
    "for i,track_id in enumerate(track_list):\n",
    "    print('[%d/%d] Fetching track data for %s... ' % \n",
    "          (i+1,len(track_list),track_df[track_df['track_id']==track_id]['track_name'].values[0]), end = \" \") \n",
    "    track_data = get_track_data(track_id) \n",
    "    df_list.append(track_data)\n",
    "    print('done!')\n",
    "    \n",
    "    #sleep for 100 secs per 100 requests to avoid being blocked\n",
    "    if (i % 100 == 0)&(i > 0):\n",
    "        time.sleep(5)"
   ]
  },
  {
   "cell_type": "code",
   "execution_count": 14,
   "metadata": {
    "ExecuteTime": {
     "end_time": "2020-09-24T15:04:42.769290Z",
     "start_time": "2020-09-24T15:04:24.351826Z"
    }
   },
   "outputs": [
    {
     "output_type": "execute_result",
     "data": {
      "text/plain": "                 track_id                  track_name               artist_id     artist_name                album_id  duration release_date  popularity  danceability  energy  key  loudness  mode  speechiness  acousticness  instrumentalness  liveness  valence    tempo\n0  0ofbQMrRDsUaVKq2mGLEAb                      Havana  4nDoRrQiYLoBzwC5BhVJzF  Camila Cabello  5chBPOVY2I0bG5V3igb5QL    216896   2017-08-03           4         0.768   0.517    7    -4.323     0       0.0312       0.18600          0.000038    0.1040    0.418  104.992\n0  0tgVpDi06FyKpA1z0VMD4v                     Perfect  6eUKZXaKkcviH0Ku9w2n3V      Ed Sheeran  3T4tUhGYeRNVUGevb0wThu    263400   2017-03-03          86         0.599   0.448    8    -6.312     1       0.0232       0.16300          0.000000    0.1060    0.168   95.050\n0  3hBBKuWJfxlIlnd9QFoC8k  What Lovers Do (feat. SZA)  04gDigrS5kc9YWfZHwBETP        Maroon 5  1Jmq5HEJeA9kNi2SgQul4U    199849   2017-11-03           4         0.795   0.615    5    -5.211     0       0.0671       0.07860          0.000003    0.0855    0.393  110.009\n0  1mXVgsBdtIVeCLJnSnmtdV        Too Good At Goodbyes  2wY79sveU1sp5g7SokKOiI       Sam Smith  3TJz2UBNYJtlEly0sPeNrQ    201000   2017-11-03          81         0.681   0.372    5    -8.237     1       0.0432       0.64000          0.000000    0.1690    0.476   91.873\n0  2ekn2ttSfGqwhhate0LSR0                   New Rules  6M2wZ9GZgrQXHCFfjv46we        Dua Lipa  01sfgrNbnnPUEyz6GZYlt9    209320   2017-06-02          80         0.762   0.700    9    -6.021     0       0.0694       0.00261          0.000016    0.1530    0.608  116.073",
      "text/html": "<div>\n<style scoped>\n    .dataframe tbody tr th:only-of-type {\n        vertical-align: middle;\n    }\n\n    .dataframe tbody tr th {\n        vertical-align: top;\n    }\n\n    .dataframe thead th {\n        text-align: right;\n    }\n</style>\n<table border=\"1\" class=\"dataframe\">\n  <thead>\n    <tr style=\"text-align: right;\">\n      <th></th>\n      <th>track_id</th>\n      <th>track_name</th>\n      <th>artist_id</th>\n      <th>artist_name</th>\n      <th>album_id</th>\n      <th>duration</th>\n      <th>release_date</th>\n      <th>popularity</th>\n      <th>danceability</th>\n      <th>energy</th>\n      <th>key</th>\n      <th>loudness</th>\n      <th>mode</th>\n      <th>speechiness</th>\n      <th>acousticness</th>\n      <th>instrumentalness</th>\n      <th>liveness</th>\n      <th>valence</th>\n      <th>tempo</th>\n    </tr>\n  </thead>\n  <tbody>\n    <tr>\n      <th>0</th>\n      <td>0ofbQMrRDsUaVKq2mGLEAb</td>\n      <td>Havana</td>\n      <td>4nDoRrQiYLoBzwC5BhVJzF</td>\n      <td>Camila Cabello</td>\n      <td>5chBPOVY2I0bG5V3igb5QL</td>\n      <td>216896</td>\n      <td>2017-08-03</td>\n      <td>4</td>\n      <td>0.768</td>\n      <td>0.517</td>\n      <td>7</td>\n      <td>-4.323</td>\n      <td>0</td>\n      <td>0.0312</td>\n      <td>0.18600</td>\n      <td>0.000038</td>\n      <td>0.1040</td>\n      <td>0.418</td>\n      <td>104.992</td>\n    </tr>\n    <tr>\n      <th>0</th>\n      <td>0tgVpDi06FyKpA1z0VMD4v</td>\n      <td>Perfect</td>\n      <td>6eUKZXaKkcviH0Ku9w2n3V</td>\n      <td>Ed Sheeran</td>\n      <td>3T4tUhGYeRNVUGevb0wThu</td>\n      <td>263400</td>\n      <td>2017-03-03</td>\n      <td>86</td>\n      <td>0.599</td>\n      <td>0.448</td>\n      <td>8</td>\n      <td>-6.312</td>\n      <td>1</td>\n      <td>0.0232</td>\n      <td>0.16300</td>\n      <td>0.000000</td>\n      <td>0.1060</td>\n      <td>0.168</td>\n      <td>95.050</td>\n    </tr>\n    <tr>\n      <th>0</th>\n      <td>3hBBKuWJfxlIlnd9QFoC8k</td>\n      <td>What Lovers Do (feat. SZA)</td>\n      <td>04gDigrS5kc9YWfZHwBETP</td>\n      <td>Maroon 5</td>\n      <td>1Jmq5HEJeA9kNi2SgQul4U</td>\n      <td>199849</td>\n      <td>2017-11-03</td>\n      <td>4</td>\n      <td>0.795</td>\n      <td>0.615</td>\n      <td>5</td>\n      <td>-5.211</td>\n      <td>0</td>\n      <td>0.0671</td>\n      <td>0.07860</td>\n      <td>0.000003</td>\n      <td>0.0855</td>\n      <td>0.393</td>\n      <td>110.009</td>\n    </tr>\n    <tr>\n      <th>0</th>\n      <td>1mXVgsBdtIVeCLJnSnmtdV</td>\n      <td>Too Good At Goodbyes</td>\n      <td>2wY79sveU1sp5g7SokKOiI</td>\n      <td>Sam Smith</td>\n      <td>3TJz2UBNYJtlEly0sPeNrQ</td>\n      <td>201000</td>\n      <td>2017-11-03</td>\n      <td>81</td>\n      <td>0.681</td>\n      <td>0.372</td>\n      <td>5</td>\n      <td>-8.237</td>\n      <td>1</td>\n      <td>0.0432</td>\n      <td>0.64000</td>\n      <td>0.000000</td>\n      <td>0.1690</td>\n      <td>0.476</td>\n      <td>91.873</td>\n    </tr>\n    <tr>\n      <th>0</th>\n      <td>2ekn2ttSfGqwhhate0LSR0</td>\n      <td>New Rules</td>\n      <td>6M2wZ9GZgrQXHCFfjv46we</td>\n      <td>Dua Lipa</td>\n      <td>01sfgrNbnnPUEyz6GZYlt9</td>\n      <td>209320</td>\n      <td>2017-06-02</td>\n      <td>80</td>\n      <td>0.762</td>\n      <td>0.700</td>\n      <td>9</td>\n      <td>-6.021</td>\n      <td>0</td>\n      <td>0.0694</td>\n      <td>0.00261</td>\n      <td>0.000016</td>\n      <td>0.1530</td>\n      <td>0.608</td>\n      <td>116.073</td>\n    </tr>\n  </tbody>\n</table>\n</div>"
     },
     "metadata": {},
     "execution_count": 14
    }
   ],
   "source": [
    "tracks_data_df = pd.concat(df_list)\n",
    "tracks_data_df.head()"
   ]
  },
  {
   "cell_type": "code",
   "execution_count": 15,
   "metadata": {
    "ExecuteTime": {
     "end_time": "2020-09-24T15:04:43.459894Z",
     "start_time": "2020-09-24T15:04:42.772288Z"
    }
   },
   "outputs": [],
   "source": [
    "tracks_data_df.to_csv('data/spotify_daily_charts_tracks.csv', index=False, encoding='utf-8')"
   ]
  },
  {
   "cell_type": "code",
   "execution_count": 16,
   "metadata": {
    "ExecuteTime": {
     "end_time": "2020-09-24T15:04:48.679906Z",
     "start_time": "2020-09-24T15:04:43.463892Z"
    }
   },
   "outputs": [
    {
     "output_type": "execute_result",
     "data": {
      "text/plain": "            duration   popularity  danceability       energy          key     loudness         mode  speechiness  acousticness  instrumentalness     liveness      valence        tempo\ncount    2292.000000  2292.000000   2292.000000  2292.000000  2292.000000  2292.000000  2292.000000  2292.000000   2292.000000       2292.000000  2292.000000  2292.000000  2292.000000\nmean   215783.227312    53.103839      0.635396     0.591876     5.123037    -6.876896     0.688045     0.083546      0.286942          0.009645     0.168288     0.455961   118.496587\nstd     46745.918466    28.050582      0.143064     0.190003     3.593686     2.860197     0.463393     0.083280      0.277537          0.069810     0.126592     0.213066    28.125389\nmin     37640.000000     0.000000      0.184000     0.054100     0.000000   -24.250000     0.000000     0.023200      0.000002          0.000000     0.021500     0.039800    52.572000\n25%    189132.750000    44.000000      0.547000     0.461000     2.000000    -8.291000     0.000000     0.035800      0.053150          0.000000     0.092900     0.288750    96.977750\n50%    209273.000000    63.000000      0.653000     0.602000     5.000000    -6.428500     1.000000     0.050950      0.186000          0.000000     0.118000     0.446500   116.004000\n75%    238995.500000    73.000000      0.736000     0.738000     8.000000    -4.876250     1.000000     0.090550      0.468000          0.000017     0.200250     0.608000   136.056500\nmax    536217.000000   100.000000      0.953000     0.969000    11.000000     0.175000     1.000000     0.733000      0.979000          0.908000     0.955000     0.973000   207.476000",
      "text/html": "<div>\n<style scoped>\n    .dataframe tbody tr th:only-of-type {\n        vertical-align: middle;\n    }\n\n    .dataframe tbody tr th {\n        vertical-align: top;\n    }\n\n    .dataframe thead th {\n        text-align: right;\n    }\n</style>\n<table border=\"1\" class=\"dataframe\">\n  <thead>\n    <tr style=\"text-align: right;\">\n      <th></th>\n      <th>duration</th>\n      <th>popularity</th>\n      <th>danceability</th>\n      <th>energy</th>\n      <th>key</th>\n      <th>loudness</th>\n      <th>mode</th>\n      <th>speechiness</th>\n      <th>acousticness</th>\n      <th>instrumentalness</th>\n      <th>liveness</th>\n      <th>valence</th>\n      <th>tempo</th>\n    </tr>\n  </thead>\n  <tbody>\n    <tr>\n      <th>count</th>\n      <td>2292.000000</td>\n      <td>2292.000000</td>\n      <td>2292.000000</td>\n      <td>2292.000000</td>\n      <td>2292.000000</td>\n      <td>2292.000000</td>\n      <td>2292.000000</td>\n      <td>2292.000000</td>\n      <td>2292.000000</td>\n      <td>2292.000000</td>\n      <td>2292.000000</td>\n      <td>2292.000000</td>\n      <td>2292.000000</td>\n    </tr>\n    <tr>\n      <th>mean</th>\n      <td>215783.227312</td>\n      <td>53.103839</td>\n      <td>0.635396</td>\n      <td>0.591876</td>\n      <td>5.123037</td>\n      <td>-6.876896</td>\n      <td>0.688045</td>\n      <td>0.083546</td>\n      <td>0.286942</td>\n      <td>0.009645</td>\n      <td>0.168288</td>\n      <td>0.455961</td>\n      <td>118.496587</td>\n    </tr>\n    <tr>\n      <th>std</th>\n      <td>46745.918466</td>\n      <td>28.050582</td>\n      <td>0.143064</td>\n      <td>0.190003</td>\n      <td>3.593686</td>\n      <td>2.860197</td>\n      <td>0.463393</td>\n      <td>0.083280</td>\n      <td>0.277537</td>\n      <td>0.069810</td>\n      <td>0.126592</td>\n      <td>0.213066</td>\n      <td>28.125389</td>\n    </tr>\n    <tr>\n      <th>min</th>\n      <td>37640.000000</td>\n      <td>0.000000</td>\n      <td>0.184000</td>\n      <td>0.054100</td>\n      <td>0.000000</td>\n      <td>-24.250000</td>\n      <td>0.000000</td>\n      <td>0.023200</td>\n      <td>0.000002</td>\n      <td>0.000000</td>\n      <td>0.021500</td>\n      <td>0.039800</td>\n      <td>52.572000</td>\n    </tr>\n    <tr>\n      <th>25%</th>\n      <td>189132.750000</td>\n      <td>44.000000</td>\n      <td>0.547000</td>\n      <td>0.461000</td>\n      <td>2.000000</td>\n      <td>-8.291000</td>\n      <td>0.000000</td>\n      <td>0.035800</td>\n      <td>0.053150</td>\n      <td>0.000000</td>\n      <td>0.092900</td>\n      <td>0.288750</td>\n      <td>96.977750</td>\n    </tr>\n    <tr>\n      <th>50%</th>\n      <td>209273.000000</td>\n      <td>63.000000</td>\n      <td>0.653000</td>\n      <td>0.602000</td>\n      <td>5.000000</td>\n      <td>-6.428500</td>\n      <td>1.000000</td>\n      <td>0.050950</td>\n      <td>0.186000</td>\n      <td>0.000000</td>\n      <td>0.118000</td>\n      <td>0.446500</td>\n      <td>116.004000</td>\n    </tr>\n    <tr>\n      <th>75%</th>\n      <td>238995.500000</td>\n      <td>73.000000</td>\n      <td>0.736000</td>\n      <td>0.738000</td>\n      <td>8.000000</td>\n      <td>-4.876250</td>\n      <td>1.000000</td>\n      <td>0.090550</td>\n      <td>0.468000</td>\n      <td>0.000017</td>\n      <td>0.200250</td>\n      <td>0.608000</td>\n      <td>136.056500</td>\n    </tr>\n    <tr>\n      <th>max</th>\n      <td>536217.000000</td>\n      <td>100.000000</td>\n      <td>0.953000</td>\n      <td>0.969000</td>\n      <td>11.000000</td>\n      <td>0.175000</td>\n      <td>1.000000</td>\n      <td>0.733000</td>\n      <td>0.979000</td>\n      <td>0.908000</td>\n      <td>0.955000</td>\n      <td>0.973000</td>\n      <td>207.476000</td>\n    </tr>\n  </tbody>\n</table>\n</div>"
     },
     "metadata": {},
     "execution_count": 16
    }
   ],
   "source": [
    "tracks_data_df.describe()"
   ]
  },
  {
   "cell_type": "markdown",
   "metadata": {},
   "source": [
    "## Get data of unique artists in charts "
   ]
  },
  {
   "cell_type": "code",
   "execution_count": 3,
   "metadata": {
    "ExecuteTime": {
     "end_time": "2020-09-24T15:06:48.959099Z",
     "start_time": "2020-09-24T15:06:48.888140Z"
    }
   },
   "outputs": [
    {
     "output_type": "error",
     "ename": "NameError",
     "evalue": "name &#39;tracks_data_df&#39; is not defined",
     "traceback": [
      "\u001b[1;31m---------------------------------------------------------------------------\u001b[0m",
      "\u001b[1;31mNameError\u001b[0m                                 Traceback (most recent call last)",
      "\u001b[1;32m&lt;ipython-input-3-a20ff0b6ca4d&gt;\u001b[0m in \u001b[0;36m&lt;module&gt;\u001b[1;34m\u001b[0m\n\u001b[0;32m      1\u001b[0m \u001b[1;31m#Get unique artists id\u001b[0m\u001b[1;33m\u001b[0m\u001b[1;33m\u001b[0m\u001b[1;33m\u001b[0m\u001b[0m\n\u001b[1;32m----&gt; 2\u001b[1;33m \u001b[0martist_df\u001b[0m \u001b[1;33m=\u001b[0m \u001b[0mtracks_data_df\u001b[0m\u001b[1;33m[\u001b[0m\u001b[1;33m[\u001b[0m\u001b[1;34m&#39;artist_id&#39;\u001b[0m\u001b[1;33m,\u001b[0m\u001b[1;34m&#39;artist_name&#39;\u001b[0m\u001b[1;33m]\u001b[0m\u001b[1;33m]\u001b[0m\u001b[1;33m.\u001b[0m\u001b[0mdrop_duplicates\u001b[0m\u001b[1;33m(\u001b[0m\u001b[1;33m)\u001b[0m\u001b[1;33m\u001b[0m\u001b[1;33m\u001b[0m\u001b[0m\n\u001b[0m\u001b[0;32m      3\u001b[0m \u001b[0martist_df\u001b[0m\u001b[1;33m\u001b[0m\u001b[1;33m\u001b[0m\u001b[0m\n",
      "\u001b[1;31mNameError\u001b[0m: name &#39;tracks_data_df&#39; is not defined"
     ]
    }
   ],
   "source": [
    "#Get unique artists id\n",
    "artist_df = tracks_data_df[['artist_id','artist_name']].drop_duplicates()\n",
    "artist_df"
   ]
  },
  {
   "cell_type": "code",
   "execution_count": 4,
   "metadata": {
    "ExecuteTime": {
     "end_time": "2020-09-24T15:06:54.906704Z",
     "start_time": "2020-09-24T15:06:54.886709Z"
    }
   },
   "outputs": [
    {
     "output_type": "error",
     "ename": "NameError",
     "evalue": "name &#39;artist_df&#39; is not defined",
     "traceback": [
      "\u001b[1;31m---------------------------------------------------------------------------\u001b[0m",
      "\u001b[1;31mNameError\u001b[0m                                 Traceback (most recent call last)",
      "\u001b[1;32m&lt;ipython-input-4-7522740ebd7d&gt;\u001b[0m in \u001b[0;36m&lt;module&gt;\u001b[1;34m\u001b[0m\n\u001b[1;32m----&gt; 1\u001b[1;33m \u001b[0mlen\u001b[0m\u001b[1;33m(\u001b[0m\u001b[0martist_df\u001b[0m\u001b[1;33m)\u001b[0m\u001b[1;33m\u001b[0m\u001b[1;33m\u001b[0m\u001b[0m\n\u001b[0m",
      "\u001b[1;31mNameError\u001b[0m: name &#39;artist_df&#39; is not defined"
     ]
    }
   ],
   "source": [
    "len(artist_df)"
   ]
  },
  {
   "cell_type": "markdown",
   "metadata": {},
   "source": [
    "> Q: What does the ratio of unique artists to unique tracks tell you about the nature of the Spotify top-streamed market?"
   ]
  },
  {
   "cell_type": "code",
   "execution_count": 19,
   "metadata": {
    "ExecuteTime": {
     "end_time": "2020-09-24T15:08:05.394374Z",
     "start_time": "2020-09-24T15:08:05.298430Z"
    }
   },
   "outputs": [],
   "source": [
    "def get_artist_data(a_id):\n",
    "       \n",
    "    artist_data = sp.artist(a_id)\n",
    "\n",
    "    ad_list = [a_id,\\\n",
    "               artist_data['name'],\\\n",
    "               artist_data['followers']['total'],\\\n",
    "               artist_data['genres'],\\\n",
    "               artist_data['popularity']]\n",
    "    data = pd.DataFrame([ad_list], columns = ['artist_id','artist_name','total_followers','genres','popularity'])\n",
    "\n",
    "    return data\n"
   ]
  },
  {
   "cell_type": "code",
   "execution_count": 20,
   "metadata": {
    "ExecuteTime": {
     "end_time": "2020-09-24T15:08:06.011022Z",
     "start_time": "2020-09-24T15:08:05.835122Z"
    }
   },
   "outputs": [
    {
     "output_type": "execute_result",
     "data": {
      "text/plain": "                artist_id     artist_name  total_followers                                             genres  popularity\n0  2YZyLoL8N0Wb9xBt1NhZWg  Kendrick Lamar         15554576  [conscious hip hop, hip hop, rap, west coast rap]          90",
      "text/html": "<div>\n<style scoped>\n    .dataframe tbody tr th:only-of-type {\n        vertical-align: middle;\n    }\n\n    .dataframe tbody tr th {\n        vertical-align: top;\n    }\n\n    .dataframe thead th {\n        text-align: right;\n    }\n</style>\n<table border=\"1\" class=\"dataframe\">\n  <thead>\n    <tr style=\"text-align: right;\">\n      <th></th>\n      <th>artist_id</th>\n      <th>artist_name</th>\n      <th>total_followers</th>\n      <th>genres</th>\n      <th>popularity</th>\n    </tr>\n  </thead>\n  <tbody>\n    <tr>\n      <th>0</th>\n      <td>2YZyLoL8N0Wb9xBt1NhZWg</td>\n      <td>Kendrick Lamar</td>\n      <td>15554576</td>\n      <td>[conscious hip hop, hip hop, rap, west coast rap]</td>\n      <td>90</td>\n    </tr>\n  </tbody>\n</table>\n</div>"
     },
     "metadata": {},
     "execution_count": 20
    }
   ],
   "source": [
    "get_artist_data(artist_id)"
   ]
  },
  {
   "cell_type": "code",
   "execution_count": 21,
   "metadata": {
    "ExecuteTime": {
     "end_time": "2020-09-24T15:22:47.614562Z",
     "start_time": "2020-09-24T15:11:57.512585Z"
    },
    "tags": [
     "outputPrepend"
    ]
   },
   "outputs": [
    {
     "output_type": "stream",
     "name": "stdout",
     "text": "tching artist data for Andrea Babierra...  done!\n[253/606] Fetching artist data for Anna Kendrick...  done!\n[254/606] Fetching artist data for 88rising...  done!\n[255/606] Fetching artist data for Why Don&#39;t We...  done!\n[256/606] Fetching artist data for Tyga...  done!\n[257/606] Fetching artist data for Daddy Yankee...  done!\n[258/606] Fetching artist data for gnash...  done!\n[259/606] Fetching artist data for Panic! At The Disco...  done!\n[260/606] Fetching artist data for The Carters...  done!\n[261/606] Fetching artist data for Ella Mai...  done!\n[262/606] Fetching artist data for Jeremy Zucker...  done!\n[263/606] Fetching artist data for Boyce Avenue...  done!\n[264/606] Fetching artist data for Joseph Vincent...  done!\n[265/606] Fetching artist data for Amber Leigh Irish...  done!\n[266/606] Fetching artist data for Matt Johnson...  done!\n[267/606] Fetching artist data for Chelsea Cutler...  done!\n[268/606] Fetching artist data for Loud Luxury...  done!\n[269/606] Fetching artist data for Unique Salonga...  done!\n[270/606] Fetching artist data for benny blanco...  done!\n[271/606] Fetching artist data for Twenty One Pilots...  done!\n[272/606] Fetching artist data for iKON...  done!\n[273/606] Fetching artist data for MØ...  done!\n[274/606] Fetching artist data for Triple H...  done!\n[275/606] Fetching artist data for Angelina Cruz...  done!\n[276/606] Fetching artist data for I Belong to the Zoo...  done!\n[277/606] Fetching artist data for 6ix9ine...  done!\n[278/606] Fetching artist data for Dynoro...  done!\n[279/606] Fetching artist data for Kina Grannis...  done!\n[280/606] Fetching artist data for Dean Lewis...  done!\n[281/606] Fetching artist data for PRETTYMUCH...  done!\n[282/606] Fetching artist data for MAX...  done!\n[283/606] Fetching artist data for Travis Scott...  done!\n[284/606] Fetching artist data for Marione...  done!\n[285/606] Fetching artist data for Imago...  done!\n[286/606] Fetching artist data for Sigala...  done!\n[287/606] Fetching artist data for Nyoy Volante...  done!\n[288/606] Fetching artist data for HONNE...  done!\n[289/606] Fetching artist data for JoJo...  done!\n[290/606] Fetching artist data for Paramore...  done!\n[291/606] Fetching artist data for Kris Kross Amsterdam...  done!\n[292/606] Fetching artist data for Jose Mari Chan...  done!\n[293/606] Fetching artist data for Mariah Carey...  done!\n[294/606] Fetching artist data for Nick Jonas...  done!\n[295/606] Fetching artist data for No Rome...  done!\n[296/606] Fetching artist data for the bird and the bee...  done!\n[297/606] Fetching artist data for Girls&#39; Generation-Oh!GG...  done!\n[298/606] Fetching artist data for Silk City...  done!\n[299/606] Fetching artist data for Alesso...  done!\n[300/606] Fetching artist data for Ciara...  done!\n[301/606] Fetching artist data for Khel Pangilinan...  done!\n[302/606] Fetching artist data for Lukas Graham...  done!\n[303/606] Fetching artist data for Joji...  done!\n[304/606] Fetching artist data for Gucci Mane...  done!\n[305/606] Fetching artist data for Because...  done!\n[306/606] Fetching artist data for Avril Lavigne...  done!\n[307/606] Fetching artist data for Lil Peep...  done!\n[308/606] Fetching artist data for Leanne &amp; Naara...  done!\n[309/606] Fetching artist data for juan karlos...  done!\n[310/606] Fetching artist data for Lil Wayne...  done!\n[311/606] Fetching artist data for This Band...  done!\n[312/606] Fetching artist data for Lil Mosey...  done!\n[313/606] Fetching artist data for Halsey...  done!\n[314/606] Fetching artist data for Lady Gaga...  done!\n[315/606] Fetching artist data for Drei Rana...  done!\n[316/606] Fetching artist data for Charli XCX...  done!\n[317/606] Fetching artist data for Midnight Meetings...  done!\n[318/606] Fetching artist data for Patch Quiwa...  done!\n[319/606] Fetching artist data for Bad Bunny...  done!\n[320/606] Fetching artist data for Kodak Black...  done!\n[321/606] Fetching artist data for Ava Max...  done!\n[322/606] Fetching artist data for Zara Larsson...  done!\n[323/606] Fetching artist data for Westlife...  done!\n[324/606] Fetching artist data for RM...  done!\n[325/606] Fetching artist data for Steve Aoki...  done!\n[326/606] Fetching artist data for Ellie Goulding...  done!\n[327/606] Fetching artist data for Normani...  done!\n[328/606] Fetching artist data for Queen...  done!\n[329/606] Fetching artist data for EXO...  done!\n[330/606] Fetching artist data for IZ*ONE...  done!\n[331/606] Fetching artist data for Lil Eddie...  done!\n[332/606] Fetching artist data for K/DA...  done!\n[333/606] Fetching artist data for IU...  done!\n[334/606] Fetching artist data for JENNIE...  done!\n[335/606] Fetching artist data for P!nk...  done!\n[336/606] Fetching artist data for Wham!...  done!\n[337/606] Fetching artist data for Lavaado...  done!\n[338/606] Fetching artist data for Bobby Helms...  done!\n[339/606] Fetching artist data for Brenda Lee...  done!\n[340/606] Fetching artist data for Andy Williams...  done!\n[341/606] Fetching artist data for Meek Mill...  done!\n[342/606] Fetching artist data for Reese Lansangan...  done!\n[343/606] Fetching artist data for Mark Ronson...  done!\n[344/606] Fetching artist data for Sponge Cola...  done!\n[345/606] Fetching artist data for Just Hush...  done!\n[346/606] Fetching artist data for TJ Monterde...  done!\n[347/606] Fetching artist data for Band Aid...  done!\n[348/606] Fetching artist data for Paul McCartney...  done!\n[349/606] Fetching artist data for Dean Martin...  done!\n[350/606] Fetching artist data for Brett Eldredge...  done!\n[351/606] Fetching artist data for John Lennon...  done!\n[352/606] Fetching artist data for Frank Sinatra...  done!\n[353/606] Fetching artist data for The Ronettes...  done!\n[354/606] Fetching artist data for Kelly Clarkson...  done!\n[355/606] Fetching artist data for Perry Como...  done!\n[356/606] Fetching artist data for Burl Ives...  done!\n[357/606] Fetching artist data for ABS-CBN Music All Star...  done!\n[358/606] Fetching artist data for Aiza Seguerra...  done!\n[359/606] Fetching artist data for Nat King Cole...  done!\n[360/606] Fetching artist data for Bing Crosby...  done!\n[361/606] Fetching artist data for Gary Valenciano...  done!\n[362/606] Fetching artist data for Daryl Hall &amp; John Oates...  done!\n[363/606] Fetching artist data for Britney Spears...  done!\n[364/606] Fetching artist data for Nef Medina...  done!\n[365/606] Fetching artist data for José Feliciano...  done!\n[366/606] Fetching artist data for Tony Bennett...  done!\n[367/606] Fetching artist data for Maria Aragon...  done!\n[368/606] Fetching artist data for Kithara...  done!\n[369/606] Fetching artist data for Chris Rea...  done!\n[370/606] Fetching artist data for Gwen Stefani...  done!\n[371/606] Fetching artist data for Pentatonix...  done!\n[372/606] Fetching artist data for The Jackson 5...  done!\n[373/606] Fetching artist data for Elvis Presley...  done!\n[374/606] Fetching artist data for Eartha Kitt...  done!\n[375/606] Fetching artist data for Tres Hermanas...  done!\n[376/606] Fetching artist data for Miley Cyrus...  done!\n[377/606] Fetching artist data for Rachelle Ann Go...  done!\n[378/606] Fetching artist data for Bruce Springsteen...  done!\n[379/606] Fetching artist data for Kylie Minogue...  done!\n[380/606] Fetching artist data for Ariel Rivera...  done!\n[381/606] Fetching artist data for Glee Cast...  done!\n[382/606] Fetching artist data for Christina Aguilera...  done!\n[383/606] Fetching artist data for Cocoy Claravall...  done!\n[384/606] Fetching artist data for Lyca Gairanod...  done!\n[385/606] Fetching artist data for Stevie Wonder...  done!\n[386/606] Fetching artist data for Judy Garland...  done!\n[387/606] Fetching artist data for Shakin&#39; Stevens...  done!\n[388/606] Fetching artist data for Chuck Berry...  done!\n[389/606] Fetching artist data for ALLMO$T...  done!\n[390/606] Fetching artist data for SHAUN...  done!\n[391/606] Fetching artist data for SHAED...  done!\n[392/606] Fetching artist data for PDL...  done!\n[393/606] Fetching artist data for Feder...  done!\n[394/606] Fetching artist data for Alex Gonzaga...  done!\n[395/606] Fetching artist data for XYLØ...  done!\n[396/606] Fetching artist data for Sigma...  done!\n[397/606] Fetching artist data for Russ...  done!\n[398/606] Fetching artist data for Skylar Grey...  done!\n[399/606] Fetching artist data for Chris Brown...  done!\n[400/606] Fetching artist data for A Boogie Wit da Hoodie...  done!\n[401/606] Fetching artist data for Gesaffelstein...  done!\n[402/606] Fetching artist data for Kehlani...  done!\n[403/606] Fetching artist data for Rivermaya...  done!\n[404/606] Fetching artist data for Lewis Capaldi...  done!\n[405/606] Fetching artist data for 21 Savage...  done!\n[406/606] Fetching artist data for Galantis...  done!\n[407/606] Fetching artist data for JM De Guzman...  done!\n[408/606] Fetching artist data for ITZY...  done!\n[409/606] Fetching artist data for Céline Dion...  done!\n[410/606] Fetching artist data for Shania Twain...  done!\n[411/606] Fetching artist data for YUNGBLUD...  done!\n[412/606] Fetching artist data for Armi Millare...  done!\n[413/606] Fetching artist data for Paolo Sandejas...  done!\n[414/606] Fetching artist data for Billy Crawford...  done!\n[415/606] Fetching artist data for Mabel...  done!\n[416/606] Fetching artist data for Jonas Brothers...  done!\n[417/606] Fetching artist data for TOMORROW X TOGETHER...  done!\n[418/606] Fetching artist data for Caleb Santos...  done!\n[419/606] Fetching artist data for Sofia Reyes...  done!\n[420/606] Fetching artist data for FLETCHER...  done!\n[421/606] Fetching artist data for Maren Morris...  done!\n[422/606] Fetching artist data for Pricetagg...  done!\n[423/606] Fetching artist data for Rex Orange County...  done!\n[424/606] Fetching artist data for Lil Nas X...  done!\n[425/606] Fetching artist data for Avery...  done!\n[426/606] Fetching artist data for EVERGLOW...  done!\n[427/606] Fetching artist data for Ronan Keating...  done!\n[428/606] Fetching artist data for Alisson Shore...  done!\n[429/606] Fetching artist data for SZA...  done!\n[430/606] Fetching artist data for Freestyle...  done!\n[431/606] Fetching artist data for Dominic Fike...  done!\n[432/606] Fetching artist data for Join The Club...  done!\n[433/606] Fetching artist data for Lizzo...  done!\n[434/606] Fetching artist data for CLR...  done!\n[435/606] Fetching artist data for Kiyo...  done!\n[436/606] Fetching artist data for WINNER...  done!\n[437/606] Fetching artist data for Agsunta...  done!\n[438/606] Fetching artist data for Tyler, The Creator...  done!\n[439/606] Fetching artist data for Luh Kel...  done!\n[440/606] Fetching artist data for Lea Salonga...  done!\n[441/606] Fetching artist data for Mena Massoud...  done!\n[442/606] Fetching artist data for Naomi Scott...  done!\n[443/606] Fetching artist data for Alan Menken...  done!\n[444/606] Fetching artist data for Young Thug...  done!\n[445/606] Fetching artist data for LEE HI...  done!\n[446/606] Fetching artist data for Will Smith...  done!\n[447/606] Fetching artist data for SOMI...  done!\n[448/606] Fetching artist data for Ali Gatie...  done!\n[449/606] Fetching artist data for Sam Feldt...  done!\n[450/606] Fetching artist data for Reneé Dominique...  done!\n[451/606] Fetching artist data for Donnalyn Bartolome...  done!\n[452/606] Fetching artist data for Ashley O...  done!\n[453/606] Fetching artist data for J Boog...  done!\n[454/606] Fetching artist data for Blanco Brown...  done!\n[455/606] Fetching artist data for VVS Collective...  done!\n[456/606] Fetching artist data for Arvey...  done!\n[457/606] Fetching artist data for King Badger...  done!\n[458/606] Fetching artist data for Stephanie Poetri...  done!\n[459/606] Fetching artist data for Y2K...  done!\n[460/606] Fetching artist data for Psychedelic Boyz...  done!\n[461/606] Fetching artist data for Kina...  done!\n[462/606] Fetching artist data for Lil Tecca...  done!\n[463/606] Fetching artist data for Skusta Clee...  done!\n[464/606] Fetching artist data for Tones And I...  done!\n[465/606] Fetching artist data for Megan Thee Stallion...  done!\n[466/606] Fetching artist data for Daniel Padilla...  done!\n[467/606] Fetching artist data for Justin Vasquez...  done!\n[468/606] Fetching artist data for Geo Ong...  done!\n[469/606] Fetching artist data for X1...  done!\n[470/606] Fetching artist data for SB19...  done!\n[471/606] Fetching artist data for Magnus Haven...  done!\n[472/606] Fetching artist data for blackbear...  done!\n[473/606] Fetching artist data for Dan + Shay...  done!\n[474/606] Fetching artist data for SuperM...  done!\n[475/606] Fetching artist data for French Montana...  done!\n[476/606] Fetching artist data for Harry Styles...  done!\n[477/606] Fetching artist data for Michael Dutchi Libranda...  done!\n[478/606] Fetching artist data for Regard...  done!\n[479/606] Fetching artist data for Nik Makino...  done!\n[480/606] Fetching artist data for Arizona Zervas...  done!\n[481/606] Fetching artist data for My Chemical Romance...  done!\n[482/606] Fetching artist data for Ant Saunders...  done!\n[483/606] Fetching artist data for JP Saxe...  done!\n[484/606] Fetching artist data for True Damage...  done!\n[485/606] Fetching artist data for Idina Menzel...  done!\n[486/606] Fetching artist data for Tatak Pinoy All-Stars...  done!\n[487/606] Fetching artist data for Matthaios...  done!\n[488/606] Fetching artist data for Jonathan Groff...  done!\n[489/606] Fetching artist data for Kristen Bell...  done!\n[490/606] Fetching artist data for Josh Gad...  done!\n[491/606] Fetching artist data for Evan Rachel Wood...  done!\n[492/606] Fetching artist data for Kacey Musgraves...  done!\n[493/606] Fetching artist data for Stormzy...  done!\n[494/606] Fetching artist data for Trevor Daniel...  done!\n[495/606] Fetching artist data for Hotdog...  done!\n[496/606] Fetching artist data for Jack Stauber...  done!\n[497/606] Fetching artist data for U2...  done!\n[498/606] Fetching artist data for Ray J...  done!\n[499/606] Fetching artist data for Darlene Love...  done!\n[500/606] Fetching artist data for MAMAMOO...  done!\n[501/606] Fetching artist data for KAROL G...  done!\n[502/606] Fetching artist data for Roddy Ricch...  done!\n[503/606] Fetching artist data for DaBaby...  done!\n[504/606] Fetching artist data for Don Toliver...  done!\n[505/606] Fetching artist data for Doja Cat...  done!\n[506/606] Fetching artist data for PUBLIC...  done!\n[507/606] Fetching artist data for Future...  done!\n[508/606] Fetching artist data for Mac Miller...  done!\n[509/606] Fetching artist data for BROCKHAMPTON...  done!\n[510/606] Fetching artist data for NIKI...  done!\n[511/606] Fetching artist data for Bee Gees...  done!\n[512/606] Fetching artist data for Young Vito...  done!\n[513/606] Fetching artist data for Soulstice...  done!\n[514/606] Fetching artist data for ZICO...  done!\n[515/606] Fetching artist data for Hayley Williams...  done!\n[516/606] Fetching artist data for Wiz Khalifa...  done!\n[517/606] Fetching artist data for Surfaces...  done!\n[518/606] Fetching artist data for Raf Davis...  done!\n[519/606] Fetching artist data for Air Supply...  done!\n[520/606] Fetching artist data for Powfu...  done!\n[521/606] Fetching artist data for Flow G...  done!\n[522/606] Fetching artist data for MC Einstein...  done!\n[523/606] Fetching artist data for BENEE...  done!\n[524/606] Fetching artist data for V...  done!\n[525/606] Fetching artist data for Maximillian...  done!\n[526/606] Fetching artist data for Hillsong UNITED...  done!\n[527/606] Fetching artist data for Kenny Rogers...  done!\n[528/606] Fetching artist data for SAINt JHN...  done!\n[529/606] Fetching artist data for Yoon Mirae...  done!\n[530/606] Fetching artist data for Yerin Baek...  done!\n[531/606] Fetching artist data for MEDUZA...  done!\n[532/606] Fetching artist data for Jr Crown...  done!\n[533/606] Fetching artist data for Emman...  done!\n[534/606] Fetching artist data for PARTYNEXTDOOR...  done!\n[535/606] Fetching artist data for Surf Mesa...  done!\n[536/606] Fetching artist data for DripReport...  done!\n[537/606] Fetching artist data for Manu Pilas...  done!\n[538/606] Fetching artist data for krissy &amp; ericka...  done!\n[539/606] Fetching artist data for (G)I-DLE...  done!\n[540/606] Fetching artist data for Casting Crowns...  done!\n[541/606] Fetching artist data for Sam Fischer...  done!\n[542/606] Fetching artist data for GOT7...  done!\n[543/606] Fetching artist data for Gaho...  done!\n[544/606] Fetching artist data for THE SCOTTS...  done!\n[545/606] Fetching artist data for Rachel Platten...  done!\n[546/606] Fetching artist data for Danzz...  done!\n[547/606] Fetching artist data for Melanie Martinez...  done!\n[548/606] Fetching artist data for TAEYEON...  done!\n[549/606] Fetching artist data for Brian Pepito...  done!\n[550/606] Fetching artist data for Soulthrll...  done!\n[551/606] Fetching artist data for Tanya Manalang...  done!\n[552/606] Fetching artist data for DAY6...  done!\n[553/606] Fetching artist data for Raiden...  done!\n[554/606] Fetching artist data for Gian Magdangal...  done!\n[555/606] Fetching artist data for Agust D...  done!\n[556/606] Fetching artist data for NCT 127...  done!\n[557/606] Fetching artist data for Carly Rae Jepsen...  done!\n[558/606] Fetching artist data for StaySolidRocky...  done!\n[559/606] Fetching artist data for Juan Caoile...  done!\n[560/606] Fetching artist data for Music Hero...  done!\n[561/606] Fetching artist data for Alexander 23...  done!\n[562/606] Fetching artist data for BAEKHYUN...  done!\n[563/606] Fetching artist data for Peach Tree Rascals...  done!\n[564/606] Fetching artist data for Arthur Nery...  done!\n[565/606] Fetching artist data for Ajay Stephens...  done!\n[566/606] Fetching artist data for BANG YE DAM...  done!\n[567/606] Fetching artist data for Jawsh 685...  done!\n[568/606] Fetching artist data for Conkarah...  done!\n[569/606] Fetching artist data for Ace Banzuelo...  done!\n[570/606] Fetching artist data for Topic...  done!\n[571/606] Fetching artist data for Lil Vinceyy...  done!\n[572/606] Fetching artist data for SEVENTEEN...  done!\n[573/606] Fetching artist data for Stray Kids...  done!\n[574/606] Fetching artist data for Hwa Sa...  done!\n[575/606] Fetching artist data for Audrey Mika...  done!\n[576/606] Fetching artist data for Jana Garcia...  done!\n[577/606] Fetching artist data for Wallows...  done!\n[578/606] Fetching artist data for Red Velvet - IRENE &amp; SEULGI...  done!\n[579/606] Fetching artist data for Michael Bars...  done!\n[580/606] Fetching artist data for EXO-SC...  done!\n[581/606] Fetching artist data for Curtis Waters...  done!\n[582/606] Fetching artist data for Alessandra De Rossi...  done!\n[583/606] Fetching artist data for Rich Brian...  done!\n[584/606] Fetching artist data for Twenty Nine Eleven...  done!\n[585/606] Fetching artist data for Jack Harlow...  done!\n[586/606] Fetching artist data for One Direction...  done!\n[587/606] Fetching artist data for Conan Gray...  done!\n[588/606] Fetching artist data for WALK THE MOON...  done!\n[589/606] Fetching artist data for TREASURE...  done!\n[590/606] Fetching artist data for Sam Kim...  done!\n[591/606] Fetching artist data for BØRNS...  done!\n[592/606] Fetching artist data for Jem Macatuno...  done!\n[593/606] Fetching artist data for Bandang Lapis...  done!\n[594/606] Fetching artist data for Tate McRae...  done!\n[595/606] Fetching artist data for 24kGoldn...  done!\n[596/606] Fetching artist data for Pop Smoke...  done!\n[597/606] Fetching artist data for DJ Noiz...  done!\n[598/606] Fetching artist data for Shane Filan...  done!\n[599/606] Fetching artist data for Jimmy Bondoc...  done!\n[600/606] Fetching artist data for Joel Corry...  done!\n[601/606] Fetching artist data for Pink Sweat$...  done!\n[602/606] Fetching artist data for salem ilese...  done!\n[603/606] Fetching artist data for Vedo...  done!\n[604/606] Fetching artist data for Logan Harris...  done!\n[605/606] Fetching artist data for Julian Sean...  done!\n[606/606] Fetching artist data for Gagong Rapper...  done!\n"
    }
   ],
   "source": [
    "artist_list = artist_df['artist_id'].values\n",
    "df_list=[]\n",
    "\n",
    "for i,artist_id in enumerate(artist_list):\n",
    "    print('[%d/%d] Fetching artist data for %s... ' % \n",
    "          (i+1,len(artist_list),artist_df[artist_df['artist_id']==artist_id]['artist_name'].values[0]), end = \" \") \n",
    "    artist_data = get_artist_data(artist_id) \n",
    "    df_list.append(artist_data)\n",
    "    print('done!')\n",
    "    \n",
    "    #sleep for 100 secs per 100 requests to avoid being blocked\n",
    "    if (i % 100 == 0)& (i > 0):\n",
    "        time.sleep(5)   "
   ]
  },
  {
   "cell_type": "code",
   "execution_count": 22,
   "metadata": {
    "ExecuteTime": {
     "end_time": "2020-09-24T15:27:03.428222Z",
     "start_time": "2020-09-24T15:27:02.730619Z"
    },
    "scrolled": true
   },
   "outputs": [
    {
     "output_type": "execute_result",
     "data": {
      "text/plain": "                 artist_id     artist_name  total_followers                           genres  popularity\n0   4nDoRrQiYLoBzwC5BhVJzF  Camila Cabello         18225132  [dance pop, pop, post-teen pop]          87\n0   6eUKZXaKkcviH0Ku9w2n3V      Ed Sheeran         70222645                    [pop, uk pop]          93\n0   04gDigrS5kc9YWfZHwBETP        Maroon 5         27071746                  [pop, pop rock]          90\n0   2wY79sveU1sp5g7SokKOiI       Sam Smith         13923279     [pop, post-teen pop, uk pop]          90\n0   6M2wZ9GZgrQXHCFfjv46we        Dua Lipa         19765369         [dance pop, pop, uk pop]          93\n..                     ...             ...              ...                              ...         ...\n0   3QJUFtGBGL05vo0kCJZsmT     salem ilese            45658               [modern indie pop]          76\n0   3wVXTWabe3viT0jF7DfjOL            Vedo           156789    [pop r&amp;b, urban contemporary]          75\n0   3hB5x7E5sQzBHuG3xiqmUC    Logan Harris            25279                               []          64\n0   5R4HkjoZdxW3ZoVGC0e0qD     Julian Sean             5757                            [opm]          52\n0   3ID2V4b0oGSEbwPENAsdbG   Gagong Rapper              899                               []          46\n\n[606 rows x 5 columns]",
      "text/html": "<div>\n<style scoped>\n    .dataframe tbody tr th:only-of-type {\n        vertical-align: middle;\n    }\n\n    .dataframe tbody tr th {\n        vertical-align: top;\n    }\n\n    .dataframe thead th {\n        text-align: right;\n    }\n</style>\n<table border=\"1\" class=\"dataframe\">\n  <thead>\n    <tr style=\"text-align: right;\">\n      <th></th>\n      <th>artist_id</th>\n      <th>artist_name</th>\n      <th>total_followers</th>\n      <th>genres</th>\n      <th>popularity</th>\n    </tr>\n  </thead>\n  <tbody>\n    <tr>\n      <th>0</th>\n      <td>4nDoRrQiYLoBzwC5BhVJzF</td>\n      <td>Camila Cabello</td>\n      <td>18225132</td>\n      <td>[dance pop, pop, post-teen pop]</td>\n      <td>87</td>\n    </tr>\n    <tr>\n      <th>0</th>\n      <td>6eUKZXaKkcviH0Ku9w2n3V</td>\n      <td>Ed Sheeran</td>\n      <td>70222645</td>\n      <td>[pop, uk pop]</td>\n      <td>93</td>\n    </tr>\n    <tr>\n      <th>0</th>\n      <td>04gDigrS5kc9YWfZHwBETP</td>\n      <td>Maroon 5</td>\n      <td>27071746</td>\n      <td>[pop, pop rock]</td>\n      <td>90</td>\n    </tr>\n    <tr>\n      <th>0</th>\n      <td>2wY79sveU1sp5g7SokKOiI</td>\n      <td>Sam Smith</td>\n      <td>13923279</td>\n      <td>[pop, post-teen pop, uk pop]</td>\n      <td>90</td>\n    </tr>\n    <tr>\n      <th>0</th>\n      <td>6M2wZ9GZgrQXHCFfjv46we</td>\n      <td>Dua Lipa</td>\n      <td>19765369</td>\n      <td>[dance pop, pop, uk pop]</td>\n      <td>93</td>\n    </tr>\n    <tr>\n      <th>...</th>\n      <td>...</td>\n      <td>...</td>\n      <td>...</td>\n      <td>...</td>\n      <td>...</td>\n    </tr>\n    <tr>\n      <th>0</th>\n      <td>3QJUFtGBGL05vo0kCJZsmT</td>\n      <td>salem ilese</td>\n      <td>45658</td>\n      <td>[modern indie pop]</td>\n      <td>76</td>\n    </tr>\n    <tr>\n      <th>0</th>\n      <td>3wVXTWabe3viT0jF7DfjOL</td>\n      <td>Vedo</td>\n      <td>156789</td>\n      <td>[pop r&amp;b, urban contemporary]</td>\n      <td>75</td>\n    </tr>\n    <tr>\n      <th>0</th>\n      <td>3hB5x7E5sQzBHuG3xiqmUC</td>\n      <td>Logan Harris</td>\n      <td>25279</td>\n      <td>[]</td>\n      <td>64</td>\n    </tr>\n    <tr>\n      <th>0</th>\n      <td>5R4HkjoZdxW3ZoVGC0e0qD</td>\n      <td>Julian Sean</td>\n      <td>5757</td>\n      <td>[opm]</td>\n      <td>52</td>\n    </tr>\n    <tr>\n      <th>0</th>\n      <td>3ID2V4b0oGSEbwPENAsdbG</td>\n      <td>Gagong Rapper</td>\n      <td>899</td>\n      <td>[]</td>\n      <td>46</td>\n    </tr>\n  </tbody>\n</table>\n<p>606 rows × 5 columns</p>\n</div>"
     },
     "metadata": {},
     "execution_count": 22
    }
   ],
   "source": [
    "artist_data_df = pd.concat(df_list)\n",
    "artist_data_df "
   ]
  },
  {
   "cell_type": "code",
   "execution_count": 23,
   "metadata": {
    "ExecuteTime": {
     "end_time": "2020-09-24T15:22:48.996773Z",
     "start_time": "2020-09-24T15:22:48.971785Z"
    }
   },
   "outputs": [],
   "source": [
    "artist_data_df.to_csv('data/spotify_daily_charts_artists.csv', index=False, encoding='utf-8')"
   ]
  },
  {
   "cell_type": "markdown",
   "metadata": {},
   "source": [
    "## Resources\n",
    "- Spotify API reference manual https://developer.spotify.com/documentation/web-api/reference/search/search/"
   ]
  }
 ],
 "metadata": {
  "kernelspec": {
   "name": "Python 3.7.6 64-bit (conda)",
   "display_name": "Python 3.7.6 64-bit (conda)",
   "metadata": {
    "interpreter": {
     "hash": "8fac594bfae6525c0c41b4041d2d72effa188cc8ead05f81b1fab2bb098927fb"
    }
   }
  },
  "language_info": {
   "codemirror_mode": {
    "name": "ipython",
    "version": 3
   },
   "file_extension": ".py",
   "mimetype": "text/x-python",
   "name": "python",
   "nbconvert_exporter": "python",
   "pygments_lexer": "ipython3",
   "version": "3.7.6-final"
  }
 },
 "nbformat": 4,
 "nbformat_minor": 2
}